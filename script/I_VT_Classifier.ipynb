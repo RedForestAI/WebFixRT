{
  "cells": [
    {
      "cell_type": "markdown",
      "metadata": {
        "colab_type": "text",
        "id": "view-in-github"
      },
      "source": [
        "<a href=\"https://colab.research.google.com/github/mebirtukan/EyeMovementEventDetectionAlgorithms/blob/main/I_VT_Classifier.ipynb\" target=\"_parent\"><img src=\"https://colab.research.google.com/assets/colab-badge.svg\" alt=\"Open In Colab\"/></a>"
      ]
    },
    {
      "cell_type": "code",
      "execution_count": 2,
      "metadata": {
        "id": "7t4uPE39lrFM"
      },
      "outputs": [],
      "source": [
        "from scipy.io import loadmat\n",
        "import pandas as pd\n",
        "import numpy as np\n",
        "import matplotlib as mpl\n",
        "import matplotlib.pyplot as plt\n",
        "from tensorflow.keras.preprocessing.sequence import  TimeseriesGenerator\n",
        "from sklearn.preprocessing import MinMaxScaler, StandardScaler\n",
        "# import tensorflow as tf\n",
        "import matplotlib.pyplot as plt\n",
        "from sklearn.metrics import accuracy_score\n",
        "from sklearn.metrics import confusion_matrix, classification_report, accuracy_score, cohen_kappa_score\n",
        "from pprint import pprint\n",
        "import pathlib\n",
        "import os\n"
      ]
    },
    {
      "cell_type": "code",
      "execution_count": 5,
      "metadata": {},
      "outputs": [
        {
          "name": "stdout",
          "output_type": "stream",
          "text": [
            "c:\\Users\\Ythat\\Desktop\\GazeFixation\\WebFixRT\\script\\data_practice_run\n"
          ]
        }
      ],
      "source": [
        "CWD = pathlib.Path(os.path.abspath(\"\"))\n",
        "# DATA_DIR = CWD / 'data'\n",
        "DATA_DIR = CWD / 'data_practice_run'\n",
        "print(DATA_DIR)"
      ]
    },
    {
      "cell_type": "code",
      "execution_count": null,
      "metadata": {
        "colab": {
          "base_uri": "https://localhost:8080/"
        },
        "id": "gfzjAc3_R_Um",
        "outputId": "a2c7b0c9-6c3e-4bff-90a6-9ae01c5b27e7"
      },
      "outputs": [],
      "source": [
        "!wget www.kasprowski.pl/datasets/events.zip\n",
        "!unzip events.zip > xx"
      ]
    },
    {
      "cell_type": "code",
      "execution_count": null,
      "metadata": {
        "id": "xlYsRsGLlzyA"
      },
      "outputs": [],
      "source": []
    },
    {
      "cell_type": "code",
      "execution_count": 6,
      "metadata": {
        "id": "7lQuSru3l33V"
      },
      "outputs": [],
      "source": [
        "def openfile(filename):\n",
        "  mat = loadmat(filename)\n",
        "  mdata = mat['ETdata']\n",
        "  mtype = mdata.dtype\n",
        "  ndata = {n: mdata[n][0,0] for n in mtype.names}\n",
        "  data_headline = ndata['pos']\n",
        "  data_headline = data_headline[0]\n",
        "  data_raw = ndata['pos']\n",
        "  pdata = pd.DataFrame(data_raw,columns=data_headline)\n",
        "  df=pd.DataFrame(pdata)\n",
        "  if 1.0 not in df:\n",
        "    return [],[]\n",
        "  df[1.0]=df[1.0].astype(int)\n",
        "  #t=pdata.iloc[:, 0].values maybe we shoud use it...\n",
        "  x=pdata.iloc[:, 3:5].values\n",
        "  y=pdata.iloc[:, 5].values\n",
        "  print(\"File\",filename,\"opened\")\n",
        "  return x ,y"
      ]
    },
    {
      "cell_type": "code",
      "execution_count": 7,
      "metadata": {
        "colab": {
          "base_uri": "https://localhost:8080/"
        },
        "id": "FvcngMA8418u",
        "outputId": "5533e838-b730-4f5a-92ec-e84fe2c3b848"
      },
      "outputs": [
        {
          "name": "stdout",
          "output_type": "stream",
          "text": [
            "c:\\Users\\Ythat\\Desktop\\GazeFixation\\WebFixRT\\script\\data_practice_run\\TH20_trial1_labelled_MN.mat\n",
            "File c:\\Users\\Ythat\\Desktop\\GazeFixation\\WebFixRT\\script\\data_practice_run\\TH20_trial1_labelled_MN.mat opened\n",
            "Number of samples so far: 0\n",
            "c:\\Users\\Ythat\\Desktop\\GazeFixation\\WebFixRT\\script\\data_practice_run\\TH20_trial1_labelled_RA.mat\n",
            "File c:\\Users\\Ythat\\Desktop\\GazeFixation\\WebFixRT\\script\\data_practice_run\\TH20_trial1_labelled_RA.mat opened\n",
            "Number of samples so far: 1658\n",
            "c:\\Users\\Ythat\\Desktop\\GazeFixation\\WebFixRT\\script\\data_practice_run\\TH34_img_Europe_labelled_MN.mat\n",
            "File c:\\Users\\Ythat\\Desktop\\GazeFixation\\WebFixRT\\script\\data_practice_run\\TH34_img_Europe_labelled_MN.mat opened\n",
            "Number of samples so far: 3316\n",
            "c:\\Users\\Ythat\\Desktop\\GazeFixation\\WebFixRT\\script\\data_practice_run\\TH34_img_Europe_labelled_RA.mat\n",
            "File c:\\Users\\Ythat\\Desktop\\GazeFixation\\WebFixRT\\script\\data_practice_run\\TH34_img_Europe_labelled_RA.mat opened\n",
            "Number of samples so far: 8304\n",
            "c:\\Users\\Ythat\\Desktop\\GazeFixation\\WebFixRT\\script\\data_practice_run\\TH34_img_vy_labelled_MN.mat\n",
            "File c:\\Users\\Ythat\\Desktop\\GazeFixation\\WebFixRT\\script\\data_practice_run\\TH34_img_vy_labelled_MN.mat opened\n",
            "Number of samples so far: 13292\n",
            "c:\\Users\\Ythat\\Desktop\\GazeFixation\\WebFixRT\\script\\data_practice_run\\TH34_img_vy_labelled_RA.mat\n",
            "File c:\\Users\\Ythat\\Desktop\\GazeFixation\\WebFixRT\\script\\data_practice_run\\TH34_img_vy_labelled_RA.mat opened\n",
            "Number of samples so far: 18282\n",
            "c:\\Users\\Ythat\\Desktop\\GazeFixation\\WebFixRT\\script\\data_practice_run\\TH34_video_BergoDalbana_labelled_MN.mat\n",
            "File c:\\Users\\Ythat\\Desktop\\GazeFixation\\WebFixRT\\script\\data_practice_run\\TH34_video_BergoDalbana_labelled_MN.mat opened\n",
            "Number of samples so far: 23270\n",
            "c:\\Users\\Ythat\\Desktop\\GazeFixation\\WebFixRT\\script\\data_practice_run\\TH34_video_BergoDalbana_labelled_RA.mat\n",
            "File c:\\Users\\Ythat\\Desktop\\GazeFixation\\WebFixRT\\script\\data_practice_run\\TH34_video_BergoDalbana_labelled_RA.mat opened\n",
            "Number of samples so far: 27295\n",
            "c:\\Users\\Ythat\\Desktop\\GazeFixation\\WebFixRT\\script\\data_practice_run\\TH38_trial1_labelled_MN.mat\n",
            "Number of samples so far: 31320\n",
            "c:\\Users\\Ythat\\Desktop\\GazeFixation\\WebFixRT\\script\\data_practice_run\\TH38_trial1_labelled_RA.mat\n",
            "Number of samples so far: 31320\n",
            "c:\\Users\\Ythat\\Desktop\\GazeFixation\\WebFixRT\\script\\data_practice_run\\TH38_video_dolphin_fov_labelled_MN.mat\n",
            "File c:\\Users\\Ythat\\Desktop\\GazeFixation\\WebFixRT\\script\\data_practice_run\\TH38_video_dolphin_fov_labelled_MN.mat opened\n",
            "Number of samples so far: 31320\n",
            "c:\\Users\\Ythat\\Desktop\\GazeFixation\\WebFixRT\\script\\data_practice_run\\TH38_video_dolphin_fov_labelled_RA.mat\n",
            "File c:\\Users\\Ythat\\Desktop\\GazeFixation\\WebFixRT\\script\\data_practice_run\\TH38_video_dolphin_fov_labelled_RA.mat opened\n",
            "Number of samples so far: 35367\n",
            "c:\\Users\\Ythat\\Desktop\\GazeFixation\\WebFixRT\\script\\data_practice_run\\TL20_img_konijntjes_labelled_MN.mat\n",
            "File c:\\Users\\Ythat\\Desktop\\GazeFixation\\WebFixRT\\script\\data_practice_run\\TL20_img_konijntjes_labelled_MN.mat opened\n",
            "Number of samples so far: 39411\n",
            "c:\\Users\\Ythat\\Desktop\\GazeFixation\\WebFixRT\\script\\data_practice_run\\TL20_img_konijntjes_labelled_RA.mat\n",
            "File c:\\Users\\Ythat\\Desktop\\GazeFixation\\WebFixRT\\script\\data_practice_run\\TL20_img_konijntjes_labelled_RA.mat opened\n",
            "Number of samples so far: 44399\n",
            "c:\\Users\\Ythat\\Desktop\\GazeFixation\\WebFixRT\\script\\data_practice_run\\TL22_trial17_labelled_MN.mat\n",
            "File c:\\Users\\Ythat\\Desktop\\GazeFixation\\WebFixRT\\script\\data_practice_run\\TL22_trial17_labelled_MN.mat opened\n",
            "Number of samples so far: 49387\n",
            "c:\\Users\\Ythat\\Desktop\\GazeFixation\\WebFixRT\\script\\data_practice_run\\TL22_trial17_labelled_RA.mat\n",
            "File c:\\Users\\Ythat\\Desktop\\GazeFixation\\WebFixRT\\script\\data_practice_run\\TL22_trial17_labelled_RA.mat opened\n",
            "Number of samples so far: 49840\n",
            "c:\\Users\\Ythat\\Desktop\\GazeFixation\\WebFixRT\\script\\data_practice_run\\TL24_trial17_labelled_MN.mat\n",
            "Number of samples so far: 50293\n",
            "c:\\Users\\Ythat\\Desktop\\GazeFixation\\WebFixRT\\script\\data_practice_run\\TL24_trial17_labelled_RA.mat\n",
            "Number of samples so far: 50293\n",
            "c:\\Users\\Ythat\\Desktop\\GazeFixation\\WebFixRT\\script\\data_practice_run\\TL28_img_konijntjes_labelled_MN.mat\n",
            "File c:\\Users\\Ythat\\Desktop\\GazeFixation\\WebFixRT\\script\\data_practice_run\\TL28_img_konijntjes_labelled_MN.mat opened\n",
            "Number of samples so far: 50293\n",
            "c:\\Users\\Ythat\\Desktop\\GazeFixation\\WebFixRT\\script\\data_practice_run\\TL28_img_konijntjes_labelled_RA.mat\n",
            "File c:\\Users\\Ythat\\Desktop\\GazeFixation\\WebFixRT\\script\\data_practice_run\\TL28_img_konijntjes_labelled_RA.mat opened\n",
            "Number of samples so far: 55282\n",
            "c:\\Users\\Ythat\\Desktop\\GazeFixation\\WebFixRT\\script\\data_practice_run\\TL30_video_triple_jump_labelled_MN.mat\n",
            "File c:\\Users\\Ythat\\Desktop\\GazeFixation\\WebFixRT\\script\\data_practice_run\\TL30_video_triple_jump_labelled_MN.mat opened\n",
            "Number of samples so far: 60271\n",
            "c:\\Users\\Ythat\\Desktop\\GazeFixation\\WebFixRT\\script\\data_practice_run\\TL30_video_triple_jump_labelled_RA.mat\n",
            "File c:\\Users\\Ythat\\Desktop\\GazeFixation\\WebFixRT\\script\\data_practice_run\\TL30_video_triple_jump_labelled_RA.mat opened\n",
            "Number of samples so far: 63091\n",
            "c:\\Users\\Ythat\\Desktop\\GazeFixation\\WebFixRT\\script\\data_practice_run\\UH21_img_Rome_labelled_MN.mat\n",
            "File c:\\Users\\Ythat\\Desktop\\GazeFixation\\WebFixRT\\script\\data_practice_run\\UH21_img_Rome_labelled_MN.mat opened\n",
            "Number of samples so far: 65911\n",
            "c:\\Users\\Ythat\\Desktop\\GazeFixation\\WebFixRT\\script\\data_practice_run\\UH21_img_Rome_labelled_RA.mat\n",
            "File c:\\Users\\Ythat\\Desktop\\GazeFixation\\WebFixRT\\script\\data_practice_run\\UH21_img_Rome_labelled_RA.mat opened\n",
            "Number of samples so far: 70899\n",
            "c:\\Users\\Ythat\\Desktop\\GazeFixation\\WebFixRT\\script\\data_practice_run\\UH21_trial17_labelled_MN.mat\n",
            "File c:\\Users\\Ythat\\Desktop\\GazeFixation\\WebFixRT\\script\\data_practice_run\\UH21_trial17_labelled_MN.mat opened\n",
            "Number of samples so far: 75887\n",
            "c:\\Users\\Ythat\\Desktop\\GazeFixation\\WebFixRT\\script\\data_practice_run\\UH21_trial17_labelled_RA.mat\n",
            "File c:\\Users\\Ythat\\Desktop\\GazeFixation\\WebFixRT\\script\\data_practice_run\\UH21_trial17_labelled_RA.mat opened\n",
            "Number of samples so far: 76452\n",
            "c:\\Users\\Ythat\\Desktop\\GazeFixation\\WebFixRT\\script\\data_practice_run\\UH21_trial1_labelled_MN.mat\n",
            "File c:\\Users\\Ythat\\Desktop\\GazeFixation\\WebFixRT\\script\\data_practice_run\\UH21_trial1_labelled_MN.mat opened\n",
            "Number of samples so far: 77017\n",
            "c:\\Users\\Ythat\\Desktop\\GazeFixation\\WebFixRT\\script\\data_practice_run\\UH21_trial1_labelled_RA.mat\n",
            "File c:\\Users\\Ythat\\Desktop\\GazeFixation\\WebFixRT\\script\\data_practice_run\\UH21_trial1_labelled_RA.mat opened\n",
            "Number of samples so far: 78675\n",
            "c:\\Users\\Ythat\\Desktop\\GazeFixation\\WebFixRT\\script\\data_practice_run\\UH21_video_BergoDalbana_labelled_MN.mat\n",
            "File c:\\Users\\Ythat\\Desktop\\GazeFixation\\WebFixRT\\script\\data_practice_run\\UH21_video_BergoDalbana_labelled_MN.mat opened\n",
            "Number of samples so far: 80333\n",
            "c:\\Users\\Ythat\\Desktop\\GazeFixation\\WebFixRT\\script\\data_practice_run\\UH21_video_BergoDalbana_labelled_RA.mat\n",
            "File c:\\Users\\Ythat\\Desktop\\GazeFixation\\WebFixRT\\script\\data_practice_run\\UH21_video_BergoDalbana_labelled_RA.mat opened\n",
            "Number of samples so far: 84356\n",
            "c:\\Users\\Ythat\\Desktop\\GazeFixation\\WebFixRT\\script\\data_practice_run\\UH25_trial1_labelled_MN.mat\n",
            "File c:\\Users\\Ythat\\Desktop\\GazeFixation\\WebFixRT\\script\\data_practice_run\\UH25_trial1_labelled_MN.mat opened\n",
            "Number of samples so far: 88379\n",
            "c:\\Users\\Ythat\\Desktop\\GazeFixation\\WebFixRT\\script\\data_practice_run\\UH25_trial1_labelled_RA.mat\n",
            "File c:\\Users\\Ythat\\Desktop\\GazeFixation\\WebFixRT\\script\\data_practice_run\\UH25_trial1_labelled_RA.mat opened\n",
            "Number of samples so far: 89705\n",
            "c:\\Users\\Ythat\\Desktop\\GazeFixation\\WebFixRT\\script\\data_practice_run\\UH27_img_vy_labelled_MN.mat\n",
            "File c:\\Users\\Ythat\\Desktop\\GazeFixation\\WebFixRT\\script\\data_practice_run\\UH27_img_vy_labelled_MN.mat opened\n",
            "Number of samples so far: 91031\n",
            "c:\\Users\\Ythat\\Desktop\\GazeFixation\\WebFixRT\\script\\data_practice_run\\UH27_img_vy_labelled_RA.mat\n",
            "File c:\\Users\\Ythat\\Desktop\\GazeFixation\\WebFixRT\\script\\data_practice_run\\UH27_img_vy_labelled_RA.mat opened\n",
            "Number of samples so far: 96019\n",
            "c:\\Users\\Ythat\\Desktop\\GazeFixation\\WebFixRT\\script\\data_practice_run\\UH29_img_Europe_labelled_MN.mat\n",
            "File c:\\Users\\Ythat\\Desktop\\GazeFixation\\WebFixRT\\script\\data_practice_run\\UH29_img_Europe_labelled_MN.mat opened\n",
            "Number of samples so far: 101007\n",
            "c:\\Users\\Ythat\\Desktop\\GazeFixation\\WebFixRT\\script\\data_practice_run\\UH29_img_Europe_labelled_RA.mat\n",
            "File c:\\Users\\Ythat\\Desktop\\GazeFixation\\WebFixRT\\script\\data_practice_run\\UH29_img_Europe_labelled_RA.mat opened\n",
            "Number of samples so far: 105995\n",
            "c:\\Users\\Ythat\\Desktop\\GazeFixation\\WebFixRT\\script\\data_practice_run\\UH29_video_dolphin_fov_labelled_MN.mat\n",
            "File c:\\Users\\Ythat\\Desktop\\GazeFixation\\WebFixRT\\script\\data_practice_run\\UH29_video_dolphin_fov_labelled_MN.mat opened\n",
            "Number of samples so far: 110983\n",
            "c:\\Users\\Ythat\\Desktop\\GazeFixation\\WebFixRT\\script\\data_practice_run\\UH29_video_dolphin_fov_labelled_RA.mat\n",
            "File c:\\Users\\Ythat\\Desktop\\GazeFixation\\WebFixRT\\script\\data_practice_run\\UH29_video_dolphin_fov_labelled_RA.mat opened\n",
            "Number of samples so far: 115029\n",
            "c:\\Users\\Ythat\\Desktop\\GazeFixation\\WebFixRT\\script\\data_practice_run\\UH33_img_vy_labelled_MN.mat\n",
            "File c:\\Users\\Ythat\\Desktop\\GazeFixation\\WebFixRT\\script\\data_practice_run\\UH33_img_vy_labelled_MN.mat opened\n",
            "Number of samples so far: 119075\n",
            "c:\\Users\\Ythat\\Desktop\\GazeFixation\\WebFixRT\\script\\data_practice_run\\UH33_img_vy_labelled_RA.mat\n",
            "File c:\\Users\\Ythat\\Desktop\\GazeFixation\\WebFixRT\\script\\data_practice_run\\UH33_img_vy_labelled_RA.mat opened\n",
            "Number of samples so far: 124063\n",
            "c:\\Users\\Ythat\\Desktop\\GazeFixation\\WebFixRT\\script\\data_practice_run\\UH33_trial17_labelled_MN.mat\n",
            "File c:\\Users\\Ythat\\Desktop\\GazeFixation\\WebFixRT\\script\\data_practice_run\\UH33_trial17_labelled_MN.mat opened\n",
            "Number of samples so far: 129051\n",
            "c:\\Users\\Ythat\\Desktop\\GazeFixation\\WebFixRT\\script\\data_practice_run\\UH33_trial17_labelled_RA.mat\n",
            "File c:\\Users\\Ythat\\Desktop\\GazeFixation\\WebFixRT\\script\\data_practice_run\\UH33_trial17_labelled_RA.mat opened\n",
            "Number of samples so far: 129504\n",
            "c:\\Users\\Ythat\\Desktop\\GazeFixation\\WebFixRT\\script\\data_practice_run\\UH47_img_Europe_labelled_MN.mat\n",
            "File c:\\Users\\Ythat\\Desktop\\GazeFixation\\WebFixRT\\script\\data_practice_run\\UH47_img_Europe_labelled_MN.mat opened\n",
            "Number of samples so far: 129957\n",
            "c:\\Users\\Ythat\\Desktop\\GazeFixation\\WebFixRT\\script\\data_practice_run\\UH47_img_Europe_labelled_RA.mat\n",
            "File c:\\Users\\Ythat\\Desktop\\GazeFixation\\WebFixRT\\script\\data_practice_run\\UH47_img_Europe_labelled_RA.mat opened\n",
            "Number of samples so far: 131954\n",
            "c:\\Users\\Ythat\\Desktop\\GazeFixation\\WebFixRT\\script\\data_practice_run\\UH47_video_BergoDalbana_labelled_MN.mat\n",
            "File c:\\Users\\Ythat\\Desktop\\GazeFixation\\WebFixRT\\script\\data_practice_run\\UH47_video_BergoDalbana_labelled_MN.mat opened\n",
            "Number of samples so far: 133951\n",
            "c:\\Users\\Ythat\\Desktop\\GazeFixation\\WebFixRT\\script\\data_practice_run\\UH47_video_BergoDalbana_labelled_RA.mat\n",
            "File c:\\Users\\Ythat\\Desktop\\GazeFixation\\WebFixRT\\script\\data_practice_run\\UH47_video_BergoDalbana_labelled_RA.mat opened\n",
            "Number of samples so far: 135561\n",
            "c:\\Users\\Ythat\\Desktop\\GazeFixation\\WebFixRT\\script\\data_practice_run\\UL23_img_Europe_labelled_MN.mat\n",
            "File c:\\Users\\Ythat\\Desktop\\GazeFixation\\WebFixRT\\script\\data_practice_run\\UL23_img_Europe_labelled_MN.mat opened\n",
            "Number of samples so far: 137171\n",
            "c:\\Users\\Ythat\\Desktop\\GazeFixation\\WebFixRT\\script\\data_practice_run\\UL23_img_Europe_labelled_RA.mat\n",
            "File c:\\Users\\Ythat\\Desktop\\GazeFixation\\WebFixRT\\script\\data_practice_run\\UL23_img_Europe_labelled_RA.mat opened\n",
            "Number of samples so far: 142160\n",
            "c:\\Users\\Ythat\\Desktop\\GazeFixation\\WebFixRT\\script\\data_practice_run\\UL23_video_triple_jump_labelled_MN.mat\n",
            "File c:\\Users\\Ythat\\Desktop\\GazeFixation\\WebFixRT\\script\\data_practice_run\\UL23_video_triple_jump_labelled_MN.mat opened\n",
            "Number of samples so far: 147149\n",
            "c:\\Users\\Ythat\\Desktop\\GazeFixation\\WebFixRT\\script\\data_practice_run\\UL23_video_triple_jump_labelled_RA.mat\n",
            "File c:\\Users\\Ythat\\Desktop\\GazeFixation\\WebFixRT\\script\\data_practice_run\\UL23_video_triple_jump_labelled_RA.mat opened\n",
            "Number of samples so far: 149972\n",
            "c:\\Users\\Ythat\\Desktop\\GazeFixation\\WebFixRT\\script\\data_practice_run\\UL27_trial17_labelled_MN.mat\n",
            "File c:\\Users\\Ythat\\Desktop\\GazeFixation\\WebFixRT\\script\\data_practice_run\\UL27_trial17_labelled_MN.mat opened\n",
            "Number of samples so far: 152793\n",
            "c:\\Users\\Ythat\\Desktop\\GazeFixation\\WebFixRT\\script\\data_practice_run\\UL27_trial17_labelled_RA.mat\n",
            "File c:\\Users\\Ythat\\Desktop\\GazeFixation\\WebFixRT\\script\\data_practice_run\\UL27_trial17_labelled_RA.mat opened\n",
            "Number of samples so far: 153247\n",
            "c:\\Users\\Ythat\\Desktop\\GazeFixation\\WebFixRT\\script\\data_practice_run\\UL27_video_triple_jump_labelled_MN.mat\n",
            "File c:\\Users\\Ythat\\Desktop\\GazeFixation\\WebFixRT\\script\\data_practice_run\\UL27_video_triple_jump_labelled_MN.mat opened\n",
            "Number of samples so far: 153702\n",
            "c:\\Users\\Ythat\\Desktop\\GazeFixation\\WebFixRT\\script\\data_practice_run\\UL27_video_triple_jump_labelled_RA.mat\n",
            "File c:\\Users\\Ythat\\Desktop\\GazeFixation\\WebFixRT\\script\\data_practice_run\\UL27_video_triple_jump_labelled_RA.mat opened\n",
            "Number of samples so far: 156524\n",
            "c:\\Users\\Ythat\\Desktop\\GazeFixation\\WebFixRT\\script\\data_practice_run\\UL31_img_konijntjes_labelled_MN.mat\n",
            "File c:\\Users\\Ythat\\Desktop\\GazeFixation\\WebFixRT\\script\\data_practice_run\\UL31_img_konijntjes_labelled_MN.mat opened\n",
            "Number of samples so far: 159348\n",
            "c:\\Users\\Ythat\\Desktop\\GazeFixation\\WebFixRT\\script\\data_practice_run\\UL31_img_konijntjes_labelled_RA.mat\n",
            "File c:\\Users\\Ythat\\Desktop\\GazeFixation\\WebFixRT\\script\\data_practice_run\\UL31_img_konijntjes_labelled_RA.mat opened\n",
            "Number of samples so far: 164334\n",
            "c:\\Users\\Ythat\\Desktop\\GazeFixation\\WebFixRT\\script\\data_practice_run\\UL31_trial1_labelled_MN.mat\n",
            "Number of samples so far: 169320\n",
            "c:\\Users\\Ythat\\Desktop\\GazeFixation\\WebFixRT\\script\\data_practice_run\\UL31_trial1_labelled_RA.mat\n",
            "Number of samples so far: 169320\n",
            "c:\\Users\\Ythat\\Desktop\\GazeFixation\\WebFixRT\\script\\data_practice_run\\UL31_video_triple_jump_labelled_MN.mat\n",
            "File c:\\Users\\Ythat\\Desktop\\GazeFixation\\WebFixRT\\script\\data_practice_run\\UL31_video_triple_jump_labelled_MN.mat opened\n",
            "Number of samples so far: 169320\n",
            "c:\\Users\\Ythat\\Desktop\\GazeFixation\\WebFixRT\\script\\data_practice_run\\UL31_video_triple_jump_labelled_RA.mat\n",
            "File c:\\Users\\Ythat\\Desktop\\GazeFixation\\WebFixRT\\script\\data_practice_run\\UL31_video_triple_jump_labelled_RA.mat opened\n",
            "Number of samples so far: 172141\n",
            "c:\\Users\\Ythat\\Desktop\\GazeFixation\\WebFixRT\\script\\data_practice_run\\UL39_img_konijntjes_labelled_MN.mat\n",
            "File c:\\Users\\Ythat\\Desktop\\GazeFixation\\WebFixRT\\script\\data_practice_run\\UL39_img_konijntjes_labelled_MN.mat opened\n",
            "Number of samples so far: 174962\n",
            "c:\\Users\\Ythat\\Desktop\\GazeFixation\\WebFixRT\\script\\data_practice_run\\UL39_img_konijntjes_labelled_RA.mat\n",
            "File c:\\Users\\Ythat\\Desktop\\GazeFixation\\WebFixRT\\script\\data_practice_run\\UL39_img_konijntjes_labelled_RA.mat opened\n",
            "Number of samples so far: 179950\n",
            "c:\\Users\\Ythat\\Desktop\\GazeFixation\\WebFixRT\\script\\data_practice_run\\UL39_trial1_labelled_MN.mat\n",
            "File c:\\Users\\Ythat\\Desktop\\GazeFixation\\WebFixRT\\script\\data_practice_run\\UL39_trial1_labelled_MN.mat opened\n",
            "Number of samples so far: 184938\n",
            "c:\\Users\\Ythat\\Desktop\\GazeFixation\\WebFixRT\\script\\data_practice_run\\UL39_trial1_labelled_RA.mat\n",
            "File c:\\Users\\Ythat\\Desktop\\GazeFixation\\WebFixRT\\script\\data_practice_run\\UL39_trial1_labelled_RA.mat opened\n",
            "Number of samples so far: 186265\n",
            "c:\\Users\\Ythat\\Desktop\\GazeFixation\\WebFixRT\\script\\data_practice_run\\UL43_img_Rome_labelled_MN.mat\n",
            "File c:\\Users\\Ythat\\Desktop\\GazeFixation\\WebFixRT\\script\\data_practice_run\\UL43_img_Rome_labelled_MN.mat opened\n",
            "Number of samples so far: 187592\n",
            "c:\\Users\\Ythat\\Desktop\\GazeFixation\\WebFixRT\\script\\data_practice_run\\UL43_img_Rome_labelled_RA.mat\n",
            "File c:\\Users\\Ythat\\Desktop\\GazeFixation\\WebFixRT\\script\\data_practice_run\\UL43_img_Rome_labelled_RA.mat opened\n",
            "Number of samples so far: 192580\n",
            "c:\\Users\\Ythat\\Desktop\\GazeFixation\\WebFixRT\\script\\data_practice_run\\UL47_img_konijntjes_labelled_MN.mat\n",
            "Number of samples so far: 197568\n",
            "c:\\Users\\Ythat\\Desktop\\GazeFixation\\WebFixRT\\script\\data_practice_run\\UL47_img_konijntjes_labelled_RA.mat\n",
            "Number of samples so far: 197568\n",
            "Number of samples at the end: 197568\n",
            "[[123.2532  22.6264]\n",
            " [123.5395  22.9064]\n",
            " [123.223   21.9909]\n",
            " ...\n",
            " [225.3009 562.5219]\n",
            " [225.4041 560.9602]\n",
            " [225.963  559.8684]]\n",
            "[1 1 1 ... 4 4 4]\n"
          ]
        }
      ],
      "source": [
        "# we don't use it here for now\n",
        "def open_list_of_files(files_to_load):\n",
        "  samples = []\n",
        "  labels =[]\n",
        "  for my_file in files_to_load:\n",
        "    print(my_file)\n",
        "    sam,lab = openfile(my_file)\n",
        "    # print(sam)\n",
        "    # print(lab)\n",
        "    #ssam,slab = make_sequences(sam,lab,50)\n",
        "    print('Number of samples so far:',len(samples))\n",
        "    samples.extend(sam)\n",
        "    labels.extend(lab)\n",
        "  samples = np.array(samples)\n",
        "  labels = np.array(labels)\n",
        "  # print(samples)\n",
        "  # print(labels)\n",
        "  print('Number of samples at the end:',len(samples))\n",
        "  return samples,labels\n",
        "# files_to_load = ['data/UH33_img_vy_labelled_MN.mat','data/UH47_img_Europe_labelled_RA.mat','data/UH21_img_Rome_labelled_MN.mat']\n",
        "#files_to_load = ['data/TH34_img_Europe_labelled_MN.mat', 'data/UH21_img_Rome_labelled_RA.mat', 'data/UH47_img_Europe_labelled_MN.mat', 'data/UH27_img_vy_labelled_MN.mat']\n",
        "files_to_load = [file for file in DATA_DIR.iterdir()]\n",
        "\n",
        "# Convert .mat to csv files\n",
        "# def save_data(data, count):\n",
        "#     if isinstance(data, np.ndarray) and data.dtype.kind in {'i', 'f'}:  # Check if the array is numerical\n",
        "#         filename = \"file\" + str(count) + \".csv\"\n",
        "#         np.savetxt(filename, data, delimiter=',')\n",
        "#         return True\n",
        "#     elif data.dtype.names:  # compound dtype\n",
        "#         flat_data = np.hstack([data[name].flatten()[:, np.newaxis] for name in data.dtype.names])\n",
        "#         filename = \"file\" + str(count) + \".csv\"\n",
        "#         pd.DataFrame(flat_data, columns=data.dtype.names).to_csv(filename, index=False)\n",
        "#         print(f\"Saved structured array to {filename}\")\n",
        "#         return True\n",
        "#     else:\n",
        "#         return False\n",
        "\n",
        "# count = 1\n",
        "# for file in files_to_load:\n",
        "#   data = loadmat(file)\n",
        "#   for i in data:\n",
        "#     if '__' not in i and 'readme' not in i:\n",
        "#       if save_data(data[i], count):\n",
        "#         count += 1\n",
        "#       else:\n",
        "#         print(f\"Data under key '{i}' was not saved.\")\n",
        "\n",
        "#s,l = open_list_of_files(files_to_load)\n",
        "x,y=open_list_of_files(files_to_load)\n",
        "print(x)\n",
        "print(y)\n",
        "# print(x.shape)\n",
        "# print(y.shape)\n",
        "#print(s1.shape)\n",
        "#print(l1.shape)"
      ]
    },
    {
      "cell_type": "code",
      "execution_count": 8,
      "metadata": {},
      "outputs": [
        {
          "name": "stdout",
          "output_type": "stream",
          "text": [
            "(197568, 1)\n",
            "(197568, 3)\n"
          ]
        }
      ],
      "source": [
        "y_expanded = np.expand_dims(y, axis=1)\n",
        "print(y_expanded.shape)\n",
        "xy = np.concatenate([x,np.expand_dims(y, axis=1)], axis=1)\n",
        "print(xy.shape)\n",
        "\n",
        "xy_dataframe = pd.DataFrame(xy, columns=[\"x\", \"y\", \"label\"])\n",
        "xy_dataframe.head()\n",
        "\n",
        "xy_dataframe.to_csv(\"test.csv\", index = False)"
      ]
    },
    {
      "cell_type": "code",
      "execution_count": null,
      "metadata": {
        "id": "o2JBSfLD-lmz"
      },
      "outputs": [],
      "source": [
        "#len(y1)"
      ]
    },
    {
      "cell_type": "code",
      "execution_count": null,
      "metadata": {
        "id": "AaQJ6Ekil7jb"
      },
      "outputs": [],
      "source": [
        "#x,y=openfile('data/UH21_img_Rome_labelled_RA.mat')\n",
        "\n",
        "#x,y=openfile('UH21_video_BergoDalbana_labelled_MN.mat')\n",
        "#x,y=openfile('UH29_video_dolphin_fov_labelled_RA.mat')\n",
        "#x,y=openfile('data/UH33_img_vy_labelled_MN.mat')\n",
        "#x,y=openfile('data/UH29_video_dolphin_fov_labelled_RA.mat')"
      ]
    },
    {
      "cell_type": "code",
      "execution_count": 9,
      "metadata": {
        "id": "_aJD0-hkwxnM"
      },
      "outputs": [],
      "source": [
        "import math"
      ]
    },
    {
      "cell_type": "code",
      "execution_count": null,
      "metadata": {
        "colab": {
          "base_uri": "https://localhost:8080/"
        },
        "id": "4AADsOziwt95",
        "outputId": "d88f55f8-b880-414a-9b52-77eb073bda23"
      },
      "outputs": [],
      "source": [
        "! pip install atan2"
      ]
    },
    {
      "cell_type": "code",
      "execution_count": 17,
      "metadata": {
        "id": "ADUJvFzr5PRq"
      },
      "outputs": [],
      "source": [
        "import csv\n",
        "import numpy as np\n",
        "\n",
        "# we assume that the frequency is 500Hz so there is 2ms gap between every two samples\n",
        "\n",
        "def ivt2(data, v_threshold, verbose=0):\n",
        "   Xs = data[:,[0]]\n",
        "   Ys = data[:,[1]]\n",
        "   prior_y = None\n",
        "   prior_x = None\n",
        "\n",
        "   diffX = [] \n",
        "   diffY = []\n",
        "\n",
        "   velocity = []\n",
        "\n",
        "   thresh = []\n",
        "\n",
        "   for x,y in zip(Xs, Ys):\n",
        "      if type(prior_x) == type(None) and type(prior_y) == type(None):\n",
        "         prior_x = x\n",
        "         prior_y = y\n",
        "         continue\n",
        "\n",
        "      dX = x - prior_x\n",
        "      dY = y - prior_y\n",
        "      diffX.append(dX)\n",
        "      diffY.append(dY)\n",
        "\n",
        "      v = np.abs((dX + dY)/2)\n",
        "      velocity.append(v)\n",
        "\n",
        "      if v < v_threshold:\n",
        "         thresh.append(1)\n",
        "      else:\n",
        "         thresh.append(2)\n",
        "      # print(f\"x: {x} y: {y} prior_x: {prior_x} prior_y: {prior_y} dX: {dX} dY: {dY}\")\n",
        "\n",
        "      prior_x = x\n",
        "      prior_y = y\n",
        "   # print('thresh: ', thresh)\n",
        "   return thresh, velocity\n",
        "\n",
        "\n",
        "\n",
        "def ivt(data,v_threshold,verbose=0):\n",
        "  Xs = data[:,[0]]\n",
        "  Ys = data[:,[1]]\n",
        "\n",
        "  diffX = [] #x values difference\n",
        "  diffY = [] #y values difference \n",
        "\n",
        "  for i in range(len(data) - 1):\n",
        "    diffX.append(float(Xs[i+1]) - float(Xs[i]) )\n",
        "    diffY.append(float(Ys[i+1]) - float(Ys[i]) )\n",
        "#   print('FINISHED')\n",
        "  #distance = np.sqrt(np.power(diffX,2) + np.power(diffY,2))\n",
        "  #velocity = np.divide(distance,2) # 2ms gap!\n",
        "  #velocity = np.absolute(velocity)\n",
        "  # Velocity = []\n",
        "  velocity = []\n",
        "  direction=[]\n",
        "  for i in range(len(diffX)):\n",
        "    v = np.abs((diffX[i] + diffY[i])/2)\n",
        "    velocity.append(v)\n",
        "   #  Velocity.append(diffX[i] + diffY[i])\n",
        "   #  #direction.append(atan2(diffX[i], diffY[i]))\n",
        "   #  velocity=np.divide(Velocity, 2)\n",
        "   #  velocity=np.absolute(velocity)\n",
        "#   print('FINISHED V')\n",
        "\n",
        "  global mvmts \n",
        "  mvmts = []  \n",
        "  #store 1 in mvmts[] if velocity is less than threshold else store 2\n",
        "  for v in velocity:\n",
        "    if(v<v_threshold):\n",
        "        mvmts.append(1)\n",
        "    else:\n",
        "        mvmts.append(2)\n",
        "#   print('FINISHED T')\n",
        "\n",
        "\n",
        "  # if verbose==1: ## to show charts\n",
        "  #   print(('minimum_velocity=',min(velocity)))\n",
        "  #   print(('maximum_velocity=',max(velocity)))\n",
        "  #   plt.plot(velocity)\n",
        "  #   plt.xlabel(\"Time [ms]\")\n",
        "  #   plt.ylabel(\"Velocity [px/ms]\")\n",
        "  #   plt.plot([0,len(velocity)],[v_threshold,v_threshold])\n",
        "  #   #plt.plot([number * 10 for number in mvmts])\n",
        "  #   plt.show()\n",
        "  #   plt.ylim(0,5)\n",
        "  #   plt.plot(velocity)\n",
        "  #   #plt.plot([number for number in mvmts])\n",
        "  #   plt.xlabel(\"Time [ms]\")\n",
        "  #   plt.ylabel(\"Velocity [px/ms]\")\n",
        "  #   plt.plot([0,len(velocity)],[v_threshold,v_threshold])\n",
        "  return mvmts,velocity\n"
      ]
    },
    {
      "cell_type": "code",
      "execution_count": 18,
      "metadata": {
        "colab": {
          "base_uri": "https://localhost:8080/",
          "height": 585
        },
        "id": "BtCKUXOWnvj3",
        "outputId": "407e807b-7f49-476f-dc5c-7a9ed252e170"
      },
      "outputs": [],
      "source": [
        "# Visualisation of v_threshold\n",
        "y1=ivt2(x, v_threshold=0.6,verbose=1)\n",
        "# print('y1: ', y1[0])\n",
        "y2=ivt(x, v_threshold=0.6,verbose=1)\n",
        "# print(len(x))\n",
        "# print(len(y1[0]))\n",
        "# print(len(y2[0]))\n",
        "# print(len(y1))"
      ]
    },
    {
      "cell_type": "code",
      "execution_count": null,
      "metadata": {
        "id": "RJW35YQwJNOw"
      },
      "outputs": [],
      "source": [
        "#y1=ivt(x, v_threshold=2)"
      ]
    },
    {
      "cell_type": "code",
      "execution_count": null,
      "metadata": {
        "colab": {
          "base_uri": "https://localhost:8080/"
        },
        "id": "PTnBACpoKwoV",
        "outputId": "8c2bfe6c-5d04-483d-d7cc-341722ccf4c0"
      },
      "outputs": [],
      "source": [
        "# x.shape\n",
        "# y.shape\n",
        "# print(x.shape, y.shape)"
      ]
    },
    {
      "cell_type": "code",
      "execution_count": 19,
      "metadata": {
        "id": "91ovcuDsKThh"
      },
      "outputs": [
        {
          "name": "stdout",
          "output_type": "stream",
          "text": [
            "197568\n",
            "197567\n"
          ]
        }
      ],
      "source": [
        "#y1=(y1[:-1])\n",
        "y_input=(y[:-1])\n",
        "print(len(y))\n",
        "print(len(y_input))\n",
        "# y_input = (y[0:])\n"
      ]
    },
    {
      "cell_type": "code",
      "execution_count": 20,
      "metadata": {
        "colab": {
          "base_uri": "https://localhost:8080/"
        },
        "id": "b2znYLzsEANT",
        "outputId": "a33c5da0-3c52-4aac-cef8-dc028dc6932a"
      },
      "outputs": [
        {
          "name": "stdout",
          "output_type": "stream",
          "text": [
            "[0.         0.10526316 0.21052632 0.31578947 0.42105263 0.52631579\n",
            " 0.63157895 0.73684211 0.84210526 0.94736842 1.05263158 1.15789474\n",
            " 1.26315789 1.36842105 1.47368421 1.57894737 1.68421053 1.78947368\n",
            " 1.89473684 2.        ]\n",
            "197568\n",
            "197567\n",
            "[2 2 2 ... 2 2 2]\n",
            "[1 1 1 ... 4 4 4]\n"
          ]
        },
        {
          "name": "stderr",
          "output_type": "stream",
          "text": [
            "c:\\Python38\\lib\\site-packages\\sklearn\\metrics\\_classification.py:1471: UndefinedMetricWarning: Precision and F-score are ill-defined and being set to 0.0 in labels with no predicted samples. Use `zero_division` parameter to control this behavior.\n",
            "  _warn_prf(average, modifier, msg_start, len(result))\n",
            "c:\\Python38\\lib\\site-packages\\sklearn\\metrics\\_classification.py:1471: UndefinedMetricWarning: Precision and F-score are ill-defined and being set to 0.0 in labels with no predicted samples. Use `zero_division` parameter to control this behavior.\n",
            "  _warn_prf(average, modifier, msg_start, len(result))\n",
            "c:\\Python38\\lib\\site-packages\\sklearn\\metrics\\_classification.py:1471: UndefinedMetricWarning: Precision and F-score are ill-defined and being set to 0.0 in labels with no predicted samples. Use `zero_division` parameter to control this behavior.\n",
            "  _warn_prf(average, modifier, msg_start, len(result))\n"
          ]
        },
        {
          "name": "stdout",
          "output_type": "stream",
          "text": [
            "classification_report for threshold 0.0               precision    recall  f1-score   support\n",
            "\n",
            "           1       0.00      0.00      0.00    120318\n",
            "           2       0.07      1.00      0.14     14668\n",
            "           3       0.00      0.00      0.00      8187\n",
            "           4       0.00      0.00      0.00     45708\n",
            "           5       0.00      0.00      0.00      8449\n",
            "           6       0.00      0.00      0.00       237\n",
            "\n",
            "    accuracy                           0.07    197567\n",
            "   macro avg       0.01      0.17      0.02    197567\n",
            "weighted avg       0.01      0.07      0.01    197567\n",
            "\n",
            "Kochen kappa for threshold 0.0 0.0\n"
          ]
        },
        {
          "name": "stderr",
          "output_type": "stream",
          "text": [
            "c:\\Python38\\lib\\site-packages\\sklearn\\metrics\\_classification.py:1471: UndefinedMetricWarning: Precision and F-score are ill-defined and being set to 0.0 in labels with no predicted samples. Use `zero_division` parameter to control this behavior.\n",
            "  _warn_prf(average, modifier, msg_start, len(result))\n",
            "c:\\Python38\\lib\\site-packages\\sklearn\\metrics\\_classification.py:1471: UndefinedMetricWarning: Precision and F-score are ill-defined and being set to 0.0 in labels with no predicted samples. Use `zero_division` parameter to control this behavior.\n",
            "  _warn_prf(average, modifier, msg_start, len(result))\n",
            "c:\\Python38\\lib\\site-packages\\sklearn\\metrics\\_classification.py:1471: UndefinedMetricWarning: Precision and F-score are ill-defined and being set to 0.0 in labels with no predicted samples. Use `zero_division` parameter to control this behavior.\n",
            "  _warn_prf(average, modifier, msg_start, len(result))\n",
            "C:\\Users\\Ythat\\AppData\\Local\\Temp\\ipykernel_19932\\1201559182.py:39: RuntimeWarning: invalid value encountered in longlong_scalars\n",
            "  fixation_precision.append(Tcfp*100/sumfp)\n",
            "C:\\Users\\Ythat\\AppData\\Local\\Temp\\ipykernel_19932\\1201559182.py:42: RuntimeWarning: invalid value encountered in longlong_scalars\n",
            "  multiple_recal_prec=2*((Tcfp*100/sumfp)*(Tc*100/sumf))\n",
            "C:\\Users\\Ythat\\AppData\\Local\\Temp\\ipykernel_19932\\1201559182.py:43: RuntimeWarning: invalid value encountered in longlong_scalars\n",
            "  add_recall_prec=((Tc*100/sumf)+Tcfp*100/sumfp)\n"
          ]
        },
        {
          "name": "stdout",
          "output_type": "stream",
          "text": [
            "              precision    recall  f1-score   support\n",
            "\n",
            "           1       0.00      0.00      0.00    120318\n",
            "           2       0.07      1.00      0.14     14668\n",
            "           3       0.00      0.00      0.00      8187\n",
            "           4       0.00      0.00      0.00     45708\n",
            "           5       0.00      0.00      0.00      8449\n",
            "           6       0.00      0.00      0.00       237\n",
            "\n",
            "    accuracy                           0.07    197567\n",
            "   macro avg       0.01      0.17      0.02    197567\n",
            "weighted avg       0.01      0.07      0.01    197567\n",
            "\n",
            "cm:  [[     0 120318      0      0      0      0]\n",
            " [     0  14668      0      0      0      0]\n",
            " [     0   8187      0      0      0      0]\n",
            " [     0  45708      0      0      0      0]\n",
            " [     0   8449      0      0      0      0]\n",
            " [     0    237      0      0      0      0]]\n",
            "Fixation recall at threshol 0.0 is 0.0\n",
            "Fixation precission at threshold 0.0 is nan\n",
            "fixation_f1_score for threshold 0.0 is nan\n",
            "Saccade recall at threshol 0.0 is 100.0\n",
            "saccade_precision for threshold 0.0 is 10.866312061991614\n",
            "saccade_f1_score for threshold 0.0 is 19.602549881727185\n",
            "treshold= 0.0\n",
            "197568\n",
            "197567\n",
            "[2 2 2 ... 2 2 2]\n",
            "[1 1 1 ... 4 4 4]\n"
          ]
        },
        {
          "name": "stderr",
          "output_type": "stream",
          "text": [
            "c:\\Python38\\lib\\site-packages\\sklearn\\metrics\\_classification.py:1471: UndefinedMetricWarning: Precision and F-score are ill-defined and being set to 0.0 in labels with no predicted samples. Use `zero_division` parameter to control this behavior.\n",
            "  _warn_prf(average, modifier, msg_start, len(result))\n",
            "c:\\Python38\\lib\\site-packages\\sklearn\\metrics\\_classification.py:1471: UndefinedMetricWarning: Precision and F-score are ill-defined and being set to 0.0 in labels with no predicted samples. Use `zero_division` parameter to control this behavior.\n",
            "  _warn_prf(average, modifier, msg_start, len(result))\n",
            "c:\\Python38\\lib\\site-packages\\sklearn\\metrics\\_classification.py:1471: UndefinedMetricWarning: Precision and F-score are ill-defined and being set to 0.0 in labels with no predicted samples. Use `zero_division` parameter to control this behavior.\n",
            "  _warn_prf(average, modifier, msg_start, len(result))\n"
          ]
        },
        {
          "name": "stdout",
          "output_type": "stream",
          "text": [
            "classification_report for threshold 0.10526315789473684               precision    recall  f1-score   support\n",
            "\n",
            "           1       0.64      0.20      0.31    120318\n",
            "           2       0.09      0.98      0.17     14668\n",
            "           3       0.00      0.00      0.00      8187\n",
            "           4       0.00      0.00      0.00     45708\n",
            "           5       0.00      0.00      0.00      8449\n",
            "           6       0.00      0.00      0.00       237\n",
            "\n",
            "    accuracy                           0.20    197567\n",
            "   macro avg       0.12      0.20      0.08    197567\n",
            "weighted avg       0.40      0.20      0.20    197567\n",
            "\n",
            "Kochen kappa for threshold 0.10526315789473684 0.022614644339316037\n"
          ]
        },
        {
          "name": "stderr",
          "output_type": "stream",
          "text": [
            "c:\\Python38\\lib\\site-packages\\sklearn\\metrics\\_classification.py:1471: UndefinedMetricWarning: Precision and F-score are ill-defined and being set to 0.0 in labels with no predicted samples. Use `zero_division` parameter to control this behavior.\n",
            "  _warn_prf(average, modifier, msg_start, len(result))\n",
            "c:\\Python38\\lib\\site-packages\\sklearn\\metrics\\_classification.py:1471: UndefinedMetricWarning: Precision and F-score are ill-defined and being set to 0.0 in labels with no predicted samples. Use `zero_division` parameter to control this behavior.\n",
            "  _warn_prf(average, modifier, msg_start, len(result))\n",
            "c:\\Python38\\lib\\site-packages\\sklearn\\metrics\\_classification.py:1471: UndefinedMetricWarning: Precision and F-score are ill-defined and being set to 0.0 in labels with no predicted samples. Use `zero_division` parameter to control this behavior.\n",
            "  _warn_prf(average, modifier, msg_start, len(result))\n"
          ]
        },
        {
          "name": "stdout",
          "output_type": "stream",
          "text": [
            "              precision    recall  f1-score   support\n",
            "\n",
            "           1       0.64      0.20      0.31    120318\n",
            "           2       0.09      0.98      0.17     14668\n",
            "           3       0.00      0.00      0.00      8187\n",
            "           4       0.00      0.00      0.00     45708\n",
            "           5       0.00      0.00      0.00      8449\n",
            "           6       0.00      0.00      0.00       237\n",
            "\n",
            "    accuracy                           0.20    197567\n",
            "   macro avg       0.12      0.20      0.08    197567\n",
            "weighted avg       0.40      0.20      0.20    197567\n",
            "\n",
            "cm:  [[24584 95734     0     0     0     0]\n",
            " [  318 14350     0     0     0     0]\n",
            " [  474  7713     0     0     0     0]\n",
            " [ 9360 36348     0     0     0     0]\n",
            " [ 3771  4678     0     0     0     0]\n",
            " [    7   230     0     0     0     0]]\n",
            "Fixation recall at threshol 0.10526315789473684 is 20.432520487375122\n",
            "Fixation precission at threshold 0.10526315789473684 is 98.72299413701711\n",
            "fixation_f1_score for threshold 0.10526315789473684 is 33.85759537253822\n",
            "Saccade recall at threshol 0.10526315789473684 is 97.83201527133897\n",
            "saccade_precision for threshold 0.10526315789473684 is 13.0355001635115\n",
            "saccade_f1_score for threshold 0.10526315789473684 is 23.005643196101065\n",
            "treshold= 0.10526315789473684\n"
          ]
        },
        {
          "ename": "KeyboardInterrupt",
          "evalue": "",
          "output_type": "error",
          "traceback": [
            "\u001b[1;31m---------------------------------------------------------------------------\u001b[0m",
            "\u001b[1;31mKeyboardInterrupt\u001b[0m                         Traceback (most recent call last)",
            "Cell \u001b[1;32mIn[20], line 16\u001b[0m\n\u001b[0;32m     12\u001b[0m cohen_kappa\u001b[38;5;241m=\u001b[39m[]\n\u001b[0;32m     15\u001b[0m \u001b[38;5;28;01mfor\u001b[39;00m t \u001b[38;5;129;01min\u001b[39;00m thresholds:\n\u001b[1;32m---> 16\u001b[0m   y1\u001b[38;5;241m=\u001b[39m\u001b[43mivt2\u001b[49m\u001b[43m(\u001b[49m\u001b[43mx\u001b[49m\u001b[43m,\u001b[49m\u001b[43m \u001b[49m\u001b[43mv_threshold\u001b[49m\u001b[38;5;241;43m=\u001b[39;49m\u001b[43mt\u001b[49m\u001b[43m)\u001b[49m[\u001b[38;5;241m0\u001b[39m]\n\u001b[0;32m     17\u001b[0m   y_pred\u001b[38;5;241m=\u001b[39mnp\u001b[38;5;241m.\u001b[39marray(y1)\n\u001b[0;32m     18\u001b[0m   \u001b[38;5;66;03m# pprint(y_pred)\u001b[39;00m\n\u001b[0;32m     19\u001b[0m   \u001b[38;5;66;03m#print(len(y_real))\u001b[39;00m\n",
            "Cell \u001b[1;32mIn[17], line 31\u001b[0m, in \u001b[0;36mivt2\u001b[1;34m(data, v_threshold, verbose)\u001b[0m\n\u001b[0;32m     28\u001b[0m diffY\u001b[38;5;241m.\u001b[39mappend(dY)\n\u001b[0;32m     30\u001b[0m v \u001b[38;5;241m=\u001b[39m np\u001b[38;5;241m.\u001b[39mabs((dX \u001b[38;5;241m+\u001b[39m dY)\u001b[38;5;241m/\u001b[39m\u001b[38;5;241m2\u001b[39m)\n\u001b[1;32m---> 31\u001b[0m \u001b[43mvelocity\u001b[49m\u001b[38;5;241;43m.\u001b[39;49m\u001b[43mappend\u001b[49m(v)\n\u001b[0;32m     33\u001b[0m \u001b[38;5;28;01mif\u001b[39;00m v \u001b[38;5;241m<\u001b[39m v_threshold:\n\u001b[0;32m     34\u001b[0m    thresh\u001b[38;5;241m.\u001b[39mappend(\u001b[38;5;241m1\u001b[39m)\n",
            "\u001b[1;31mKeyboardInterrupt\u001b[0m: "
          ]
        }
      ],
      "source": [
        "# thresholds=[x/10 for x in range(0,20)]\n",
        "thresholds = np.linspace(0, 2, 20)\n",
        "print(thresholds)\n",
        "\n",
        "from sklearn.metrics import classification_report,accuracy_score, confusion_matrix, precision_score, cohen_kappa_score, recall_score\n",
        "fixation_recall=[]\n",
        "fixation_precision=[]\n",
        "fixation_f1_score=[]\n",
        "saccade_recall=[]\n",
        "saccade_precision=[]\n",
        "saccade_f1_score=[]\n",
        "cohen_kappa=[]\n",
        "\n",
        "\n",
        "for t in thresholds:\n",
        "  y1=ivt2(x, v_threshold=t)[0]\n",
        "  y_pred=np.array(y1)\n",
        "  # pprint(y_pred)\n",
        "  #print(len(y_real))\n",
        "  print(len(x))\n",
        "  print(len(y1))\n",
        "  print(y_pred)\n",
        "  print(y_input)\n",
        "  cm=confusion_matrix(y_input, y_pred)\n",
        "  #print(cm)\n",
        "  print('classification_report for threshold', t, classification_report(y_input, y_pred))\n",
        "  print('Kochen kappa for threshold', t, cohen_kappa_score(y_input, y_pred))\n",
        "  print(classification_report(y_input,y_pred))\n",
        "  #print(classification_report(y,y_pred['f1-score']))\n",
        "  #Fixation accuracy calculation\n",
        "  print(\"cm: \", cm)\n",
        "  sumf=cm[0][0]+cm[0][1]\n",
        "  Tc=cm[0][0]\n",
        "  fixation_recall.append(Tc*100/sumf)\n",
        "  print('Fixation recall at threshol',t, 'is', fixation_recall[-1])\n",
        "  #fixation precision \n",
        "  sumfp=cm[0][0]+cm[1][0]\n",
        "  Tcfp=cm[0][0]\n",
        "  fixation_precision.append(Tcfp*100/sumfp)\n",
        "  print('Fixation precission at threshold', t, 'is', fixation_precision[-1])\n",
        "  #fixation f1_score\n",
        "  multiple_recal_prec=2*((Tcfp*100/sumfp)*(Tc*100/sumf))\n",
        "  add_recall_prec=((Tc*100/sumf)+Tcfp*100/sumfp)\n",
        "  result_f1_score=multiple_recal_prec/add_recall_prec\n",
        "  fixation_f1_score.append(result_f1_score)\n",
        "  print('fixation_f1_score for threshold', t, 'is', fixation_f1_score[-1])\n",
        "  #Saccade accuracy calculation\n",
        "  sums=cm[1][0]+cm[1][1]\n",
        "  Tcs=cm[1][1]\n",
        "  saccade_recall.append(Tcs*100/sums)\n",
        "  print('Saccade recall at threshol',t, 'is', saccade_recall[-1])\n",
        "  #Saccade precison\n",
        "  sum_saccP=cm[0][1]+cm[1][1]\n",
        "  Tc_saccP=cm[1][1]\n",
        "  saccade_precision.append(Tc_saccP*100/sum_saccP)\n",
        "  print('saccade_precision for threshold', t, 'is', saccade_precision[-1])\n",
        "  #saccade f1_score\n",
        "  multiply=2*((Tc_saccP*100/sum_saccP)*(Tcs*100/sums))\n",
        "  addition=(Tcs*100/sums)+(Tc_saccP*100/sum_saccP)\n",
        "  saccade_f1_score.append(multiply/addition)\n",
        "  print('saccade_f1_score for threshold', t, 'is', saccade_f1_score[-1])\n",
        "  print('treshold=', t)\n",
        "  \n",
        "  "
      ]
    },
    {
      "cell_type": "code",
      "execution_count": 71,
      "metadata": {
        "colab": {
          "base_uri": "https://localhost:8080/",
          "height": 296
        },
        "id": "Sc2jpwd4FwBC",
        "outputId": "5cd260a6-61b2-4dc7-8630-88a497f1f498"
      },
      "outputs": [
        {
          "ename": "ValueError",
          "evalue": "x and y must have same first dimension, but have shapes (20,) and (1,)",
          "output_type": "error",
          "traceback": [
            "\u001b[1;31m---------------------------------------------------------------------------\u001b[0m",
            "\u001b[1;31mValueError\u001b[0m                                Traceback (most recent call last)",
            "Cell \u001b[1;32mIn[71], line 1\u001b[0m\n\u001b[1;32m----> 1\u001b[0m \u001b[43mplt\u001b[49m\u001b[38;5;241;43m.\u001b[39;49m\u001b[43mplot\u001b[49m\u001b[43m(\u001b[49m\u001b[43mthresholds\u001b[49m\u001b[43m,\u001b[49m\u001b[43m \u001b[49m\u001b[43mfixation_recall\u001b[49m\u001b[43m,\u001b[49m\u001b[43m \u001b[49m\u001b[43mlabel\u001b[49m\u001b[38;5;241;43m=\u001b[39;49m\u001b[38;5;124;43m\"\u001b[39;49m\u001b[38;5;124;43mFixation Recall\u001b[39;49m\u001b[38;5;124;43m\"\u001b[39;49m\u001b[43m)\u001b[49m\n\u001b[0;32m      2\u001b[0m plt\u001b[38;5;241m.\u001b[39mplot(thresholds, fixation_precision, label\u001b[38;5;241m=\u001b[39m\u001b[38;5;124m\"\u001b[39m\u001b[38;5;124mFixation_Precision\u001b[39m\u001b[38;5;124m\"\u001b[39m)\n\u001b[0;32m      3\u001b[0m plt\u001b[38;5;241m.\u001b[39mplot(thresholds, fixation_f1_score, label\u001b[38;5;241m=\u001b[39m\u001b[38;5;124m\"\u001b[39m\u001b[38;5;124mFixation_f1_score\u001b[39m\u001b[38;5;124m\"\u001b[39m)\n",
            "File \u001b[1;32mc:\\Python38\\lib\\site-packages\\matplotlib\\pyplot.py:2812\u001b[0m, in \u001b[0;36mplot\u001b[1;34m(scalex, scaley, data, *args, **kwargs)\u001b[0m\n\u001b[0;32m   2810\u001b[0m \u001b[38;5;129m@_copy_docstring_and_deprecators\u001b[39m(Axes\u001b[38;5;241m.\u001b[39mplot)\n\u001b[0;32m   2811\u001b[0m \u001b[38;5;28;01mdef\u001b[39;00m \u001b[38;5;21mplot\u001b[39m(\u001b[38;5;241m*\u001b[39margs, scalex\u001b[38;5;241m=\u001b[39m\u001b[38;5;28;01mTrue\u001b[39;00m, scaley\u001b[38;5;241m=\u001b[39m\u001b[38;5;28;01mTrue\u001b[39;00m, data\u001b[38;5;241m=\u001b[39m\u001b[38;5;28;01mNone\u001b[39;00m, \u001b[38;5;241m*\u001b[39m\u001b[38;5;241m*\u001b[39mkwargs):\n\u001b[1;32m-> 2812\u001b[0m     \u001b[38;5;28;01mreturn\u001b[39;00m \u001b[43mgca\u001b[49m\u001b[43m(\u001b[49m\u001b[43m)\u001b[49m\u001b[38;5;241;43m.\u001b[39;49m\u001b[43mplot\u001b[49m\u001b[43m(\u001b[49m\n\u001b[0;32m   2813\u001b[0m \u001b[43m        \u001b[49m\u001b[38;5;241;43m*\u001b[39;49m\u001b[43margs\u001b[49m\u001b[43m,\u001b[49m\u001b[43m \u001b[49m\u001b[43mscalex\u001b[49m\u001b[38;5;241;43m=\u001b[39;49m\u001b[43mscalex\u001b[49m\u001b[43m,\u001b[49m\u001b[43m \u001b[49m\u001b[43mscaley\u001b[49m\u001b[38;5;241;43m=\u001b[39;49m\u001b[43mscaley\u001b[49m\u001b[43m,\u001b[49m\n\u001b[0;32m   2814\u001b[0m \u001b[43m        \u001b[49m\u001b[38;5;241;43m*\u001b[39;49m\u001b[38;5;241;43m*\u001b[39;49m\u001b[43m(\u001b[49m\u001b[43m{\u001b[49m\u001b[38;5;124;43m\"\u001b[39;49m\u001b[38;5;124;43mdata\u001b[39;49m\u001b[38;5;124;43m\"\u001b[39;49m\u001b[43m:\u001b[49m\u001b[43m \u001b[49m\u001b[43mdata\u001b[49m\u001b[43m}\u001b[49m\u001b[43m \u001b[49m\u001b[38;5;28;43;01mif\u001b[39;49;00m\u001b[43m \u001b[49m\u001b[43mdata\u001b[49m\u001b[43m \u001b[49m\u001b[38;5;129;43;01mis\u001b[39;49;00m\u001b[43m \u001b[49m\u001b[38;5;129;43;01mnot\u001b[39;49;00m\u001b[43m \u001b[49m\u001b[38;5;28;43;01mNone\u001b[39;49;00m\u001b[43m \u001b[49m\u001b[38;5;28;43;01melse\u001b[39;49;00m\u001b[43m \u001b[49m\u001b[43m{\u001b[49m\u001b[43m}\u001b[49m\u001b[43m)\u001b[49m\u001b[43m,\u001b[49m\u001b[43m \u001b[49m\u001b[38;5;241;43m*\u001b[39;49m\u001b[38;5;241;43m*\u001b[39;49m\u001b[43mkwargs\u001b[49m\u001b[43m)\u001b[49m\n",
            "File \u001b[1;32mc:\\Python38\\lib\\site-packages\\matplotlib\\axes\\_axes.py:1688\u001b[0m, in \u001b[0;36mAxes.plot\u001b[1;34m(self, scalex, scaley, data, *args, **kwargs)\u001b[0m\n\u001b[0;32m   1445\u001b[0m \u001b[38;5;250m\u001b[39m\u001b[38;5;124;03m\"\"\"\u001b[39;00m\n\u001b[0;32m   1446\u001b[0m \u001b[38;5;124;03mPlot y versus x as lines and/or markers.\u001b[39;00m\n\u001b[0;32m   1447\u001b[0m \n\u001b[1;32m   (...)\u001b[0m\n\u001b[0;32m   1685\u001b[0m \u001b[38;5;124;03m(``'green'``) or hex strings (``'#008000'``).\u001b[39;00m\n\u001b[0;32m   1686\u001b[0m \u001b[38;5;124;03m\"\"\"\u001b[39;00m\n\u001b[0;32m   1687\u001b[0m kwargs \u001b[38;5;241m=\u001b[39m cbook\u001b[38;5;241m.\u001b[39mnormalize_kwargs(kwargs, mlines\u001b[38;5;241m.\u001b[39mLine2D)\n\u001b[1;32m-> 1688\u001b[0m lines \u001b[38;5;241m=\u001b[39m [\u001b[38;5;241m*\u001b[39m\u001b[38;5;28mself\u001b[39m\u001b[38;5;241m.\u001b[39m_get_lines(\u001b[38;5;241m*\u001b[39margs, data\u001b[38;5;241m=\u001b[39mdata, \u001b[38;5;241m*\u001b[39m\u001b[38;5;241m*\u001b[39mkwargs)]\n\u001b[0;32m   1689\u001b[0m \u001b[38;5;28;01mfor\u001b[39;00m line \u001b[38;5;129;01min\u001b[39;00m lines:\n\u001b[0;32m   1690\u001b[0m     \u001b[38;5;28mself\u001b[39m\u001b[38;5;241m.\u001b[39madd_line(line)\n",
            "File \u001b[1;32mc:\\Python38\\lib\\site-packages\\matplotlib\\axes\\_base.py:311\u001b[0m, in \u001b[0;36m_process_plot_var_args.__call__\u001b[1;34m(self, data, *args, **kwargs)\u001b[0m\n\u001b[0;32m    309\u001b[0m     this \u001b[38;5;241m+\u001b[39m\u001b[38;5;241m=\u001b[39m args[\u001b[38;5;241m0\u001b[39m],\n\u001b[0;32m    310\u001b[0m     args \u001b[38;5;241m=\u001b[39m args[\u001b[38;5;241m1\u001b[39m:]\n\u001b[1;32m--> 311\u001b[0m \u001b[38;5;28;01myield from\u001b[39;00m \u001b[38;5;28;43mself\u001b[39;49m\u001b[38;5;241;43m.\u001b[39;49m\u001b[43m_plot_args\u001b[49m\u001b[43m(\u001b[49m\n\u001b[0;32m    312\u001b[0m \u001b[43m    \u001b[49m\u001b[43mthis\u001b[49m\u001b[43m,\u001b[49m\u001b[43m \u001b[49m\u001b[43mkwargs\u001b[49m\u001b[43m,\u001b[49m\u001b[43m \u001b[49m\u001b[43mambiguous_fmt_datakey\u001b[49m\u001b[38;5;241;43m=\u001b[39;49m\u001b[43mambiguous_fmt_datakey\u001b[49m\u001b[43m)\u001b[49m\n",
            "File \u001b[1;32mc:\\Python38\\lib\\site-packages\\matplotlib\\axes\\_base.py:504\u001b[0m, in \u001b[0;36m_process_plot_var_args._plot_args\u001b[1;34m(self, tup, kwargs, return_kwargs, ambiguous_fmt_datakey)\u001b[0m\n\u001b[0;32m    501\u001b[0m     \u001b[38;5;28mself\u001b[39m\u001b[38;5;241m.\u001b[39maxes\u001b[38;5;241m.\u001b[39myaxis\u001b[38;5;241m.\u001b[39mupdate_units(y)\n\u001b[0;32m    503\u001b[0m \u001b[38;5;28;01mif\u001b[39;00m x\u001b[38;5;241m.\u001b[39mshape[\u001b[38;5;241m0\u001b[39m] \u001b[38;5;241m!=\u001b[39m y\u001b[38;5;241m.\u001b[39mshape[\u001b[38;5;241m0\u001b[39m]:\n\u001b[1;32m--> 504\u001b[0m     \u001b[38;5;28;01mraise\u001b[39;00m \u001b[38;5;167;01mValueError\u001b[39;00m(\u001b[38;5;124mf\u001b[39m\u001b[38;5;124m\"\u001b[39m\u001b[38;5;124mx and y must have same first dimension, but \u001b[39m\u001b[38;5;124m\"\u001b[39m\n\u001b[0;32m    505\u001b[0m                      \u001b[38;5;124mf\u001b[39m\u001b[38;5;124m\"\u001b[39m\u001b[38;5;124mhave shapes \u001b[39m\u001b[38;5;132;01m{\u001b[39;00mx\u001b[38;5;241m.\u001b[39mshape\u001b[38;5;132;01m}\u001b[39;00m\u001b[38;5;124m and \u001b[39m\u001b[38;5;132;01m{\u001b[39;00my\u001b[38;5;241m.\u001b[39mshape\u001b[38;5;132;01m}\u001b[39;00m\u001b[38;5;124m\"\u001b[39m)\n\u001b[0;32m    506\u001b[0m \u001b[38;5;28;01mif\u001b[39;00m x\u001b[38;5;241m.\u001b[39mndim \u001b[38;5;241m>\u001b[39m \u001b[38;5;241m2\u001b[39m \u001b[38;5;129;01mor\u001b[39;00m y\u001b[38;5;241m.\u001b[39mndim \u001b[38;5;241m>\u001b[39m \u001b[38;5;241m2\u001b[39m:\n\u001b[0;32m    507\u001b[0m     \u001b[38;5;28;01mraise\u001b[39;00m \u001b[38;5;167;01mValueError\u001b[39;00m(\u001b[38;5;124mf\u001b[39m\u001b[38;5;124m\"\u001b[39m\u001b[38;5;124mx and y can be no greater than 2D, but have \u001b[39m\u001b[38;5;124m\"\u001b[39m\n\u001b[0;32m    508\u001b[0m                      \u001b[38;5;124mf\u001b[39m\u001b[38;5;124m\"\u001b[39m\u001b[38;5;124mshapes \u001b[39m\u001b[38;5;132;01m{\u001b[39;00mx\u001b[38;5;241m.\u001b[39mshape\u001b[38;5;132;01m}\u001b[39;00m\u001b[38;5;124m and \u001b[39m\u001b[38;5;132;01m{\u001b[39;00my\u001b[38;5;241m.\u001b[39mshape\u001b[38;5;132;01m}\u001b[39;00m\u001b[38;5;124m\"\u001b[39m)\n",
            "\u001b[1;31mValueError\u001b[0m: x and y must have same first dimension, but have shapes (20,) and (1,)"
          ]
        },
        {
          "data": {
            "image/png": "[encoded data removed]",
            "text/plain": [
              "<Figure size 640x480 with 1 Axes>"
            ]
          },
          "metadata": {},
          "output_type": "display_data"
        }
      ],
      "source": [
        "plt.plot(thresholds, fixation_recall, label=\"Fixation Recall\")\n",
        "plt.plot(thresholds, fixation_precision, label=\"Fixation_Precision\")\n",
        "plt.plot(thresholds, fixation_f1_score, label=\"Fixation_f1_score\")\n",
        "plt.plot(thresholds, saccade_recall, label=\"Saccade Recall\")\n",
        "plt.plot(thresholds, saccade_precision, label=\"Saccade_precision\")\n",
        "plt.plot(thresholds, saccade_f1_score, label=\"Saccade_f1_score\")\n",
        "\n",
        "\n",
        "\n",
        "#plt.plot(thresholds, accuracy, label=\"Acuracy\")\n",
        "plt.xlabel(\"V_threshold [px/ms]\")\n",
        "plt.ylabel(\"Accuracy [%]\")\n",
        "plt.title(\"Velocity threshold vs Accuracy\")\n",
        "plt.legend()\n",
        "plt.show()"
      ]
    },
    {
      "cell_type": "code",
      "execution_count": 19,
      "metadata": {
        "colab": {
          "base_uri": "https://localhost:8080/"
        },
        "id": "6macgDgpFNcB",
        "outputId": "43d2b06b-fcdc-4393-b902-6fbae0e557dd"
      },
      "outputs": [
        {
          "name": "stdout",
          "output_type": "stream",
          "text": [
            "Fixation recla= [0.0, 20.432520487375122, 39.18283216143885, 55.01171894479629, 67.53935404511378, 76.9884805266045, 83.85943915291145, 88.66088199604381, 91.75767549327615, 93.93025150019116, 95.39636629598232, 96.4560581126681, 97.13259861367376, 97.67782044249405, 98.0368689639123, 98.33358267258431, 98.51809371831314, 98.66935953057731, 98.75662826842202, 98.84389700626673]\n",
            "saccade acuracy= [100.0, 97.83201527133897, 95.6435778565585, 93.26424870466322, 91.21898009271884, 89.01690755385874, 87.07390237251158, 85.2536133078811, 83.48104717752932, 81.70166348513771, 79.99727297518407, 78.17698391055359, 76.30897191164439, 74.51595309517316, 72.99563676029452, 71.250340878102, 69.79820016362149, 68.29151895282247, 66.98254704117808, 65.7281156258522]\n"
          ]
        }
      ],
      "source": [
        "print('Fixation recla=', fixation_recall)\n",
        "print('saccade acuracy=', saccade_recall)"
      ]
    }
  ],
  "metadata": {
    "colab": {
      "collapsed_sections": [],
      "include_colab_link": true,
      "provenance": []
    },
    "kernelspec": {
      "display_name": "Python 3",
      "name": "python3"
    },
    "language_info": {
      "codemirror_mode": {
        "name": "ipython",
        "version": 3
      },
      "file_extension": ".py",
      "mimetype": "text/x-python",
      "name": "python",
      "nbconvert_exporter": "python",
      "pygments_lexer": "ipython3",
      "version": "3.8.3"
    }
  },
  "nbformat": 4,
  "nbformat_minor": 0
}
