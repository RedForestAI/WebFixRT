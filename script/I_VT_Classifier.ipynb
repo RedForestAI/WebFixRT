{
  "cells": [
    {
      "cell_type": "markdown",
      "metadata": {
        "colab_type": "text",
        "id": "view-in-github"
      },
      "source": [
        "<a href=\"https://colab.research.google.com/github/mebirtukan/EyeMovementEventDetectionAlgorithms/blob/main/I_VT_Classifier.ipynb\" target=\"_parent\"><img src=\"https://colab.research.google.com/assets/colab-badge.svg\" alt=\"Open In Colab\"/></a>"
      ]
    },
    {
      "cell_type": "code",
      "execution_count": 7,
      "metadata": {
        "id": "7t4uPE39lrFM"
      },
      "outputs": [],
      "source": [
        "from scipy.io import loadmat\n",
        "import pandas as pd\n",
        "import numpy as np\n",
        "import matplotlib as mpl\n",
        "import matplotlib.pyplot as plt\n",
        "from tensorflow.keras.preprocessing.sequence import  TimeseriesGenerator\n",
        "from sklearn.preprocessing import MinMaxScaler, StandardScaler\n",
        "# import tensorflow as tf\n",
        "import matplotlib.pyplot as plt\n",
        "from sklearn.metrics import accuracy_score\n",
        "from sklearn.metrics import confusion_matrix, classification_report, accuracy_score, cohen_kappa_score\n",
        "from pprint import pprint\n",
        "import pathlib\n",
        "import os\n"
      ]
    },
    {
      "cell_type": "code",
      "execution_count": 8,
      "metadata": {},
      "outputs": [
        {
          "name": "stdout",
          "output_type": "stream",
          "text": [
            "c:\\Users\\Ythat\\Desktop\\GazeFixation\\Evaluation-of-eye-movement-event-detection-algorithms\\data\n"
          ]
        }
      ],
      "source": [
        "CWD = pathlib.Path(os.path.abspath(\"\"))\n",
        "DATA_DIR = CWD / 'data'\n",
        "print(DATA_DIR)"
      ]
    },
    {
      "cell_type": "code",
      "execution_count": null,
      "metadata": {
        "colab": {
          "base_uri": "https://localhost:8080/"
        },
        "id": "gfzjAc3_R_Um",
        "outputId": "a2c7b0c9-6c3e-4bff-90a6-9ae01c5b27e7"
      },
      "outputs": [],
      "source": [
        "!wget www.kasprowski.pl/datasets/events.zip\n",
        "!unzip events.zip > xx"
      ]
    },
    {
      "cell_type": "code",
      "execution_count": null,
      "metadata": {
        "id": "xlYsRsGLlzyA"
      },
      "outputs": [],
      "source": []
    },
    {
      "cell_type": "code",
      "execution_count": 9,
      "metadata": {
        "id": "7lQuSru3l33V"
      },
      "outputs": [],
      "source": [
        "def openfile(filename):\n",
        "  mat = loadmat(filename)\n",
        "  mdata = mat['ETdata']\n",
        "  mtype = mdata.dtype\n",
        "  ndata = {n: mdata[n][0,0] for n in mtype.names}\n",
        "  data_headline = ndata['pos']\n",
        "  data_headline = data_headline[0]\n",
        "  data_raw = ndata['pos']\n",
        "  pdata = pd.DataFrame(data_raw,columns=data_headline)\n",
        "  df=pd.DataFrame(pdata)\n",
        "  if 1.0 not in df:\n",
        "    return [],[]\n",
        "  df[1.0]=df[1.0].astype(int)\n",
        "  #t=pdata.iloc[:, 0].values maybe we shoud use it...\n",
        "  x=pdata.iloc[:, 3:5].values\n",
        "  y=pdata.iloc[:, 5].values\n",
        "  print(\"File\",filename,\"opened\")\n",
        "  return x ,y"
      ]
    },
    {
      "cell_type": "code",
      "execution_count": 40,
      "metadata": {
        "colab": {
          "base_uri": "https://localhost:8080/"
        },
        "id": "FvcngMA8418u",
        "outputId": "5533e838-b730-4f5a-92ec-e84fe2c3b848"
      },
      "outputs": [
        {
          "name": "stdout",
          "output_type": "stream",
          "text": [
            "c:\\Users\\Ythat\\Desktop\\GazeFixation\\Evaluation-of-eye-movement-event-detection-algorithms\\data\\TH20_trial1_labelled_MN.mat\n",
            "File c:\\Users\\Ythat\\Desktop\\GazeFixation\\Evaluation-of-eye-movement-event-detection-algorithms\\data\\TH20_trial1_labelled_MN.mat opened\n",
            "Number of samples so far: 0\n",
            "c:\\Users\\Ythat\\Desktop\\GazeFixation\\Evaluation-of-eye-movement-event-detection-algorithms\\data\\TH20_trial1_labelled_RA.mat\n",
            "File c:\\Users\\Ythat\\Desktop\\GazeFixation\\Evaluation-of-eye-movement-event-detection-algorithms\\data\\TH20_trial1_labelled_RA.mat opened\n",
            "Number of samples so far: 1658\n",
            "c:\\Users\\Ythat\\Desktop\\GazeFixation\\Evaluation-of-eye-movement-event-detection-algorithms\\data\\TH34_img_Europe_labelled_MN.mat\n",
            "File c:\\Users\\Ythat\\Desktop\\GazeFixation\\Evaluation-of-eye-movement-event-detection-algorithms\\data\\TH34_img_Europe_labelled_MN.mat opened\n",
            "Number of samples so far: 3316\n",
            "c:\\Users\\Ythat\\Desktop\\GazeFixation\\Evaluation-of-eye-movement-event-detection-algorithms\\data\\TH34_img_Europe_labelled_RA.mat\n",
            "File c:\\Users\\Ythat\\Desktop\\GazeFixation\\Evaluation-of-eye-movement-event-detection-algorithms\\data\\TH34_img_Europe_labelled_RA.mat opened\n",
            "Number of samples so far: 8304\n",
            "c:\\Users\\Ythat\\Desktop\\GazeFixation\\Evaluation-of-eye-movement-event-detection-algorithms\\data\\TH34_img_vy_labelled_MN.mat\n",
            "File c:\\Users\\Ythat\\Desktop\\GazeFixation\\Evaluation-of-eye-movement-event-detection-algorithms\\data\\TH34_img_vy_labelled_MN.mat opened\n",
            "Number of samples so far: 13292\n",
            "c:\\Users\\Ythat\\Desktop\\GazeFixation\\Evaluation-of-eye-movement-event-detection-algorithms\\data\\TH34_img_vy_labelled_RA.mat\n",
            "File c:\\Users\\Ythat\\Desktop\\GazeFixation\\Evaluation-of-eye-movement-event-detection-algorithms\\data\\TH34_img_vy_labelled_RA.mat opened\n",
            "Number of samples so far: 18282\n",
            "c:\\Users\\Ythat\\Desktop\\GazeFixation\\Evaluation-of-eye-movement-event-detection-algorithms\\data\\TH34_video_BergoDalbana_labelled_MN.mat\n",
            "File c:\\Users\\Ythat\\Desktop\\GazeFixation\\Evaluation-of-eye-movement-event-detection-algorithms\\data\\TH34_video_BergoDalbana_labelled_MN.mat opened\n",
            "Number of samples so far: 23270\n",
            "c:\\Users\\Ythat\\Desktop\\GazeFixation\\Evaluation-of-eye-movement-event-detection-algorithms\\data\\TH34_video_BergoDalbana_labelled_RA.mat\n",
            "File c:\\Users\\Ythat\\Desktop\\GazeFixation\\Evaluation-of-eye-movement-event-detection-algorithms\\data\\TH34_video_BergoDalbana_labelled_RA.mat opened\n",
            "Number of samples so far: 27295\n",
            "c:\\Users\\Ythat\\Desktop\\GazeFixation\\Evaluation-of-eye-movement-event-detection-algorithms\\data\\TH38_trial1_labelled_MN.mat\n",
            "Number of samples so far: 31320\n",
            "c:\\Users\\Ythat\\Desktop\\GazeFixation\\Evaluation-of-eye-movement-event-detection-algorithms\\data\\TH38_trial1_labelled_RA.mat\n",
            "Number of samples so far: 31320\n",
            "c:\\Users\\Ythat\\Desktop\\GazeFixation\\Evaluation-of-eye-movement-event-detection-algorithms\\data\\TH38_video_dolphin_fov_labelled_MN.mat\n",
            "File c:\\Users\\Ythat\\Desktop\\GazeFixation\\Evaluation-of-eye-movement-event-detection-algorithms\\data\\TH38_video_dolphin_fov_labelled_MN.mat opened\n",
            "Number of samples so far: 31320\n",
            "c:\\Users\\Ythat\\Desktop\\GazeFixation\\Evaluation-of-eye-movement-event-detection-algorithms\\data\\TH38_video_dolphin_fov_labelled_RA.mat\n",
            "File c:\\Users\\Ythat\\Desktop\\GazeFixation\\Evaluation-of-eye-movement-event-detection-algorithms\\data\\TH38_video_dolphin_fov_labelled_RA.mat opened\n",
            "Number of samples so far: 35367\n",
            "c:\\Users\\Ythat\\Desktop\\GazeFixation\\Evaluation-of-eye-movement-event-detection-algorithms\\data\\TL20_img_konijntjes_labelled_MN.mat\n",
            "File c:\\Users\\Ythat\\Desktop\\GazeFixation\\Evaluation-of-eye-movement-event-detection-algorithms\\data\\TL20_img_konijntjes_labelled_MN.mat opened\n",
            "Number of samples so far: 39411\n",
            "c:\\Users\\Ythat\\Desktop\\GazeFixation\\Evaluation-of-eye-movement-event-detection-algorithms\\data\\TL20_img_konijntjes_labelled_RA.mat\n",
            "File c:\\Users\\Ythat\\Desktop\\GazeFixation\\Evaluation-of-eye-movement-event-detection-algorithms\\data\\TL20_img_konijntjes_labelled_RA.mat opened\n",
            "Number of samples so far: 44399\n",
            "c:\\Users\\Ythat\\Desktop\\GazeFixation\\Evaluation-of-eye-movement-event-detection-algorithms\\data\\TL22_trial17_labelled_MN.mat\n",
            "File c:\\Users\\Ythat\\Desktop\\GazeFixation\\Evaluation-of-eye-movement-event-detection-algorithms\\data\\TL22_trial17_labelled_MN.mat opened\n",
            "Number of samples so far: 49387\n",
            "c:\\Users\\Ythat\\Desktop\\GazeFixation\\Evaluation-of-eye-movement-event-detection-algorithms\\data\\TL22_trial17_labelled_RA.mat\n",
            "File c:\\Users\\Ythat\\Desktop\\GazeFixation\\Evaluation-of-eye-movement-event-detection-algorithms\\data\\TL22_trial17_labelled_RA.mat opened\n",
            "Number of samples so far: 49840\n",
            "c:\\Users\\Ythat\\Desktop\\GazeFixation\\Evaluation-of-eye-movement-event-detection-algorithms\\data\\TL24_trial17_labelled_MN.mat\n",
            "Number of samples so far: 50293\n",
            "c:\\Users\\Ythat\\Desktop\\GazeFixation\\Evaluation-of-eye-movement-event-detection-algorithms\\data\\TL24_trial17_labelled_RA.mat\n",
            "Number of samples so far: 50293\n",
            "c:\\Users\\Ythat\\Desktop\\GazeFixation\\Evaluation-of-eye-movement-event-detection-algorithms\\data\\TL28_img_konijntjes_labelled_MN.mat\n",
            "File c:\\Users\\Ythat\\Desktop\\GazeFixation\\Evaluation-of-eye-movement-event-detection-algorithms\\data\\TL28_img_konijntjes_labelled_MN.mat opened\n",
            "Number of samples so far: 50293\n",
            "c:\\Users\\Ythat\\Desktop\\GazeFixation\\Evaluation-of-eye-movement-event-detection-algorithms\\data\\TL28_img_konijntjes_labelled_RA.mat\n",
            "File c:\\Users\\Ythat\\Desktop\\GazeFixation\\Evaluation-of-eye-movement-event-detection-algorithms\\data\\TL28_img_konijntjes_labelled_RA.mat opened\n",
            "Number of samples so far: 55282\n",
            "c:\\Users\\Ythat\\Desktop\\GazeFixation\\Evaluation-of-eye-movement-event-detection-algorithms\\data\\TL30_video_triple_jump_labelled_MN.mat\n",
            "File c:\\Users\\Ythat\\Desktop\\GazeFixation\\Evaluation-of-eye-movement-event-detection-algorithms\\data\\TL30_video_triple_jump_labelled_MN.mat opened\n",
            "Number of samples so far: 60271\n",
            "c:\\Users\\Ythat\\Desktop\\GazeFixation\\Evaluation-of-eye-movement-event-detection-algorithms\\data\\TL30_video_triple_jump_labelled_RA.mat\n",
            "File c:\\Users\\Ythat\\Desktop\\GazeFixation\\Evaluation-of-eye-movement-event-detection-algorithms\\data\\TL30_video_triple_jump_labelled_RA.mat opened\n",
            "Number of samples so far: 63091\n",
            "c:\\Users\\Ythat\\Desktop\\GazeFixation\\Evaluation-of-eye-movement-event-detection-algorithms\\data\\UH21_img_Rome_labelled_MN.mat\n",
            "File c:\\Users\\Ythat\\Desktop\\GazeFixation\\Evaluation-of-eye-movement-event-detection-algorithms\\data\\UH21_img_Rome_labelled_MN.mat opened\n",
            "Number of samples so far: 65911\n",
            "c:\\Users\\Ythat\\Desktop\\GazeFixation\\Evaluation-of-eye-movement-event-detection-algorithms\\data\\UH21_img_Rome_labelled_RA.mat\n",
            "File c:\\Users\\Ythat\\Desktop\\GazeFixation\\Evaluation-of-eye-movement-event-detection-algorithms\\data\\UH21_img_Rome_labelled_RA.mat opened\n",
            "Number of samples so far: 70899\n",
            "c:\\Users\\Ythat\\Desktop\\GazeFixation\\Evaluation-of-eye-movement-event-detection-algorithms\\data\\UH21_trial17_labelled_MN.mat\n",
            "File c:\\Users\\Ythat\\Desktop\\GazeFixation\\Evaluation-of-eye-movement-event-detection-algorithms\\data\\UH21_trial17_labelled_MN.mat opened\n",
            "Number of samples so far: 75887\n",
            "c:\\Users\\Ythat\\Desktop\\GazeFixation\\Evaluation-of-eye-movement-event-detection-algorithms\\data\\UH21_trial17_labelled_RA.mat\n",
            "File c:\\Users\\Ythat\\Desktop\\GazeFixation\\Evaluation-of-eye-movement-event-detection-algorithms\\data\\UH21_trial17_labelled_RA.mat opened\n",
            "Number of samples so far: 76452\n",
            "c:\\Users\\Ythat\\Desktop\\GazeFixation\\Evaluation-of-eye-movement-event-detection-algorithms\\data\\UH21_trial1_labelled_MN.mat\n",
            "File c:\\Users\\Ythat\\Desktop\\GazeFixation\\Evaluation-of-eye-movement-event-detection-algorithms\\data\\UH21_trial1_labelled_MN.mat opened\n",
            "Number of samples so far: 77017\n",
            "c:\\Users\\Ythat\\Desktop\\GazeFixation\\Evaluation-of-eye-movement-event-detection-algorithms\\data\\UH21_trial1_labelled_RA.mat\n",
            "File c:\\Users\\Ythat\\Desktop\\GazeFixation\\Evaluation-of-eye-movement-event-detection-algorithms\\data\\UH21_trial1_labelled_RA.mat opened\n",
            "Number of samples so far: 78675\n",
            "c:\\Users\\Ythat\\Desktop\\GazeFixation\\Evaluation-of-eye-movement-event-detection-algorithms\\data\\UH21_video_BergoDalbana_labelled_MN.mat\n",
            "File c:\\Users\\Ythat\\Desktop\\GazeFixation\\Evaluation-of-eye-movement-event-detection-algorithms\\data\\UH21_video_BergoDalbana_labelled_MN.mat opened\n",
            "Number of samples so far: 80333\n",
            "c:\\Users\\Ythat\\Desktop\\GazeFixation\\Evaluation-of-eye-movement-event-detection-algorithms\\data\\UH21_video_BergoDalbana_labelled_RA.mat\n",
            "File c:\\Users\\Ythat\\Desktop\\GazeFixation\\Evaluation-of-eye-movement-event-detection-algorithms\\data\\UH21_video_BergoDalbana_labelled_RA.mat opened\n",
            "Number of samples so far: 84356\n",
            "c:\\Users\\Ythat\\Desktop\\GazeFixation\\Evaluation-of-eye-movement-event-detection-algorithms\\data\\UH25_trial1_labelled_MN.mat\n",
            "File c:\\Users\\Ythat\\Desktop\\GazeFixation\\Evaluation-of-eye-movement-event-detection-algorithms\\data\\UH25_trial1_labelled_MN.mat opened\n",
            "Number of samples so far: 88379\n",
            "c:\\Users\\Ythat\\Desktop\\GazeFixation\\Evaluation-of-eye-movement-event-detection-algorithms\\data\\UH25_trial1_labelled_RA.mat\n",
            "File c:\\Users\\Ythat\\Desktop\\GazeFixation\\Evaluation-of-eye-movement-event-detection-algorithms\\data\\UH25_trial1_labelled_RA.mat opened\n",
            "Number of samples so far: 89705\n",
            "c:\\Users\\Ythat\\Desktop\\GazeFixation\\Evaluation-of-eye-movement-event-detection-algorithms\\data\\UH27_img_vy_labelled_MN.mat\n",
            "File c:\\Users\\Ythat\\Desktop\\GazeFixation\\Evaluation-of-eye-movement-event-detection-algorithms\\data\\UH27_img_vy_labelled_MN.mat opened\n",
            "Number of samples so far: 91031\n",
            "c:\\Users\\Ythat\\Desktop\\GazeFixation\\Evaluation-of-eye-movement-event-detection-algorithms\\data\\UH27_img_vy_labelled_RA.mat\n",
            "File c:\\Users\\Ythat\\Desktop\\GazeFixation\\Evaluation-of-eye-movement-event-detection-algorithms\\data\\UH27_img_vy_labelled_RA.mat opened\n",
            "Number of samples so far: 96019\n",
            "c:\\Users\\Ythat\\Desktop\\GazeFixation\\Evaluation-of-eye-movement-event-detection-algorithms\\data\\UH29_img_Europe_labelled_MN.mat\n",
            "File c:\\Users\\Ythat\\Desktop\\GazeFixation\\Evaluation-of-eye-movement-event-detection-algorithms\\data\\UH29_img_Europe_labelled_MN.mat opened\n",
            "Number of samples so far: 101007\n",
            "c:\\Users\\Ythat\\Desktop\\GazeFixation\\Evaluation-of-eye-movement-event-detection-algorithms\\data\\UH29_img_Europe_labelled_RA.mat\n",
            "File c:\\Users\\Ythat\\Desktop\\GazeFixation\\Evaluation-of-eye-movement-event-detection-algorithms\\data\\UH29_img_Europe_labelled_RA.mat opened\n",
            "Number of samples so far: 105995\n",
            "c:\\Users\\Ythat\\Desktop\\GazeFixation\\Evaluation-of-eye-movement-event-detection-algorithms\\data\\UH29_video_dolphin_fov_labelled_MN.mat\n",
            "File c:\\Users\\Ythat\\Desktop\\GazeFixation\\Evaluation-of-eye-movement-event-detection-algorithms\\data\\UH29_video_dolphin_fov_labelled_MN.mat opened\n",
            "Number of samples so far: 110983\n",
            "c:\\Users\\Ythat\\Desktop\\GazeFixation\\Evaluation-of-eye-movement-event-detection-algorithms\\data\\UH29_video_dolphin_fov_labelled_RA.mat\n",
            "File c:\\Users\\Ythat\\Desktop\\GazeFixation\\Evaluation-of-eye-movement-event-detection-algorithms\\data\\UH29_video_dolphin_fov_labelled_RA.mat opened\n",
            "Number of samples so far: 115029\n",
            "c:\\Users\\Ythat\\Desktop\\GazeFixation\\Evaluation-of-eye-movement-event-detection-algorithms\\data\\UH33_img_vy_labelled_MN.mat\n",
            "File c:\\Users\\Ythat\\Desktop\\GazeFixation\\Evaluation-of-eye-movement-event-detection-algorithms\\data\\UH33_img_vy_labelled_MN.mat opened\n",
            "Number of samples so far: 119075\n",
            "c:\\Users\\Ythat\\Desktop\\GazeFixation\\Evaluation-of-eye-movement-event-detection-algorithms\\data\\UH33_img_vy_labelled_RA.mat\n",
            "File c:\\Users\\Ythat\\Desktop\\GazeFixation\\Evaluation-of-eye-movement-event-detection-algorithms\\data\\UH33_img_vy_labelled_RA.mat opened\n",
            "Number of samples so far: 124063\n",
            "c:\\Users\\Ythat\\Desktop\\GazeFixation\\Evaluation-of-eye-movement-event-detection-algorithms\\data\\UH33_trial17_labelled_MN.mat\n",
            "File c:\\Users\\Ythat\\Desktop\\GazeFixation\\Evaluation-of-eye-movement-event-detection-algorithms\\data\\UH33_trial17_labelled_MN.mat opened\n",
            "Number of samples so far: 129051\n",
            "c:\\Users\\Ythat\\Desktop\\GazeFixation\\Evaluation-of-eye-movement-event-detection-algorithms\\data\\UH33_trial17_labelled_RA.mat\n",
            "File c:\\Users\\Ythat\\Desktop\\GazeFixation\\Evaluation-of-eye-movement-event-detection-algorithms\\data\\UH33_trial17_labelled_RA.mat opened\n",
            "Number of samples so far: 129504\n",
            "c:\\Users\\Ythat\\Desktop\\GazeFixation\\Evaluation-of-eye-movement-event-detection-algorithms\\data\\UH47_img_Europe_labelled_MN.mat\n",
            "File c:\\Users\\Ythat\\Desktop\\GazeFixation\\Evaluation-of-eye-movement-event-detection-algorithms\\data\\UH47_img_Europe_labelled_MN.mat opened\n",
            "Number of samples so far: 129957\n",
            "c:\\Users\\Ythat\\Desktop\\GazeFixation\\Evaluation-of-eye-movement-event-detection-algorithms\\data\\UH47_img_Europe_labelled_RA.mat\n",
            "File c:\\Users\\Ythat\\Desktop\\GazeFixation\\Evaluation-of-eye-movement-event-detection-algorithms\\data\\UH47_img_Europe_labelled_RA.mat opened\n",
            "Number of samples so far: 131954\n",
            "c:\\Users\\Ythat\\Desktop\\GazeFixation\\Evaluation-of-eye-movement-event-detection-algorithms\\data\\UH47_video_BergoDalbana_labelled_MN.mat\n",
            "File c:\\Users\\Ythat\\Desktop\\GazeFixation\\Evaluation-of-eye-movement-event-detection-algorithms\\data\\UH47_video_BergoDalbana_labelled_MN.mat opened\n",
            "Number of samples so far: 133951\n",
            "c:\\Users\\Ythat\\Desktop\\GazeFixation\\Evaluation-of-eye-movement-event-detection-algorithms\\data\\UH47_video_BergoDalbana_labelled_RA.mat\n",
            "File c:\\Users\\Ythat\\Desktop\\GazeFixation\\Evaluation-of-eye-movement-event-detection-algorithms\\data\\UH47_video_BergoDalbana_labelled_RA.mat opened\n",
            "Number of samples so far: 135561\n",
            "c:\\Users\\Ythat\\Desktop\\GazeFixation\\Evaluation-of-eye-movement-event-detection-algorithms\\data\\UL23_img_Europe_labelled_MN.mat\n",
            "File c:\\Users\\Ythat\\Desktop\\GazeFixation\\Evaluation-of-eye-movement-event-detection-algorithms\\data\\UL23_img_Europe_labelled_MN.mat opened\n",
            "Number of samples so far: 137171\n",
            "c:\\Users\\Ythat\\Desktop\\GazeFixation\\Evaluation-of-eye-movement-event-detection-algorithms\\data\\UL23_img_Europe_labelled_RA.mat\n",
            "File c:\\Users\\Ythat\\Desktop\\GazeFixation\\Evaluation-of-eye-movement-event-detection-algorithms\\data\\UL23_img_Europe_labelled_RA.mat opened\n",
            "Number of samples so far: 142160\n",
            "c:\\Users\\Ythat\\Desktop\\GazeFixation\\Evaluation-of-eye-movement-event-detection-algorithms\\data\\UL23_video_triple_jump_labelled_MN.mat\n",
            "File c:\\Users\\Ythat\\Desktop\\GazeFixation\\Evaluation-of-eye-movement-event-detection-algorithms\\data\\UL23_video_triple_jump_labelled_MN.mat opened\n",
            "Number of samples so far: 147149\n",
            "c:\\Users\\Ythat\\Desktop\\GazeFixation\\Evaluation-of-eye-movement-event-detection-algorithms\\data\\UL23_video_triple_jump_labelled_RA.mat\n",
            "File c:\\Users\\Ythat\\Desktop\\GazeFixation\\Evaluation-of-eye-movement-event-detection-algorithms\\data\\UL23_video_triple_jump_labelled_RA.mat opened\n",
            "Number of samples so far: 149972\n",
            "c:\\Users\\Ythat\\Desktop\\GazeFixation\\Evaluation-of-eye-movement-event-detection-algorithms\\data\\UL27_trial17_labelled_MN.mat\n",
            "File c:\\Users\\Ythat\\Desktop\\GazeFixation\\Evaluation-of-eye-movement-event-detection-algorithms\\data\\UL27_trial17_labelled_MN.mat opened\n",
            "Number of samples so far: 152793\n",
            "c:\\Users\\Ythat\\Desktop\\GazeFixation\\Evaluation-of-eye-movement-event-detection-algorithms\\data\\UL27_trial17_labelled_RA.mat\n",
            "File c:\\Users\\Ythat\\Desktop\\GazeFixation\\Evaluation-of-eye-movement-event-detection-algorithms\\data\\UL27_trial17_labelled_RA.mat opened\n",
            "Number of samples so far: 153247\n",
            "c:\\Users\\Ythat\\Desktop\\GazeFixation\\Evaluation-of-eye-movement-event-detection-algorithms\\data\\UL27_video_triple_jump_labelled_MN.mat\n",
            "File c:\\Users\\Ythat\\Desktop\\GazeFixation\\Evaluation-of-eye-movement-event-detection-algorithms\\data\\UL27_video_triple_jump_labelled_MN.mat opened\n",
            "Number of samples so far: 153702\n",
            "c:\\Users\\Ythat\\Desktop\\GazeFixation\\Evaluation-of-eye-movement-event-detection-algorithms\\data\\UL27_video_triple_jump_labelled_RA.mat\n",
            "File c:\\Users\\Ythat\\Desktop\\GazeFixation\\Evaluation-of-eye-movement-event-detection-algorithms\\data\\UL27_video_triple_jump_labelled_RA.mat opened\n",
            "Number of samples so far: 156524\n",
            "c:\\Users\\Ythat\\Desktop\\GazeFixation\\Evaluation-of-eye-movement-event-detection-algorithms\\data\\UL31_img_konijntjes_labelled_MN.mat\n",
            "File c:\\Users\\Ythat\\Desktop\\GazeFixation\\Evaluation-of-eye-movement-event-detection-algorithms\\data\\UL31_img_konijntjes_labelled_MN.mat opened\n",
            "Number of samples so far: 159348\n",
            "c:\\Users\\Ythat\\Desktop\\GazeFixation\\Evaluation-of-eye-movement-event-detection-algorithms\\data\\UL31_img_konijntjes_labelled_RA.mat\n",
            "File c:\\Users\\Ythat\\Desktop\\GazeFixation\\Evaluation-of-eye-movement-event-detection-algorithms\\data\\UL31_img_konijntjes_labelled_RA.mat opened\n",
            "Number of samples so far: 164334\n",
            "c:\\Users\\Ythat\\Desktop\\GazeFixation\\Evaluation-of-eye-movement-event-detection-algorithms\\data\\UL31_trial1_labelled_MN.mat\n",
            "Number of samples so far: 169320\n",
            "c:\\Users\\Ythat\\Desktop\\GazeFixation\\Evaluation-of-eye-movement-event-detection-algorithms\\data\\UL31_trial1_labelled_RA.mat\n",
            "Number of samples so far: 169320\n",
            "c:\\Users\\Ythat\\Desktop\\GazeFixation\\Evaluation-of-eye-movement-event-detection-algorithms\\data\\UL31_video_triple_jump_labelled_MN.mat\n",
            "File c:\\Users\\Ythat\\Desktop\\GazeFixation\\Evaluation-of-eye-movement-event-detection-algorithms\\data\\UL31_video_triple_jump_labelled_MN.mat opened\n",
            "Number of samples so far: 169320\n",
            "c:\\Users\\Ythat\\Desktop\\GazeFixation\\Evaluation-of-eye-movement-event-detection-algorithms\\data\\UL31_video_triple_jump_labelled_RA.mat\n",
            "File c:\\Users\\Ythat\\Desktop\\GazeFixation\\Evaluation-of-eye-movement-event-detection-algorithms\\data\\UL31_video_triple_jump_labelled_RA.mat opened\n",
            "Number of samples so far: 172141\n",
            "c:\\Users\\Ythat\\Desktop\\GazeFixation\\Evaluation-of-eye-movement-event-detection-algorithms\\data\\UL39_img_konijntjes_labelled_MN.mat\n",
            "File c:\\Users\\Ythat\\Desktop\\GazeFixation\\Evaluation-of-eye-movement-event-detection-algorithms\\data\\UL39_img_konijntjes_labelled_MN.mat opened\n",
            "Number of samples so far: 174962\n",
            "c:\\Users\\Ythat\\Desktop\\GazeFixation\\Evaluation-of-eye-movement-event-detection-algorithms\\data\\UL39_img_konijntjes_labelled_RA.mat\n",
            "File c:\\Users\\Ythat\\Desktop\\GazeFixation\\Evaluation-of-eye-movement-event-detection-algorithms\\data\\UL39_img_konijntjes_labelled_RA.mat opened\n",
            "Number of samples so far: 179950\n",
            "c:\\Users\\Ythat\\Desktop\\GazeFixation\\Evaluation-of-eye-movement-event-detection-algorithms\\data\\UL39_trial1_labelled_MN.mat\n",
            "File c:\\Users\\Ythat\\Desktop\\GazeFixation\\Evaluation-of-eye-movement-event-detection-algorithms\\data\\UL39_trial1_labelled_MN.mat opened\n",
            "Number of samples so far: 184938\n",
            "c:\\Users\\Ythat\\Desktop\\GazeFixation\\Evaluation-of-eye-movement-event-detection-algorithms\\data\\UL39_trial1_labelled_RA.mat\n",
            "File c:\\Users\\Ythat\\Desktop\\GazeFixation\\Evaluation-of-eye-movement-event-detection-algorithms\\data\\UL39_trial1_labelled_RA.mat opened\n",
            "Number of samples so far: 186265\n",
            "c:\\Users\\Ythat\\Desktop\\GazeFixation\\Evaluation-of-eye-movement-event-detection-algorithms\\data\\UL43_img_Rome_labelled_MN.mat\n",
            "File c:\\Users\\Ythat\\Desktop\\GazeFixation\\Evaluation-of-eye-movement-event-detection-algorithms\\data\\UL43_img_Rome_labelled_MN.mat opened\n",
            "Number of samples so far: 187592\n",
            "c:\\Users\\Ythat\\Desktop\\GazeFixation\\Evaluation-of-eye-movement-event-detection-algorithms\\data\\UL43_img_Rome_labelled_RA.mat\n",
            "File c:\\Users\\Ythat\\Desktop\\GazeFixation\\Evaluation-of-eye-movement-event-detection-algorithms\\data\\UL43_img_Rome_labelled_RA.mat opened\n",
            "Number of samples so far: 192580\n",
            "c:\\Users\\Ythat\\Desktop\\GazeFixation\\Evaluation-of-eye-movement-event-detection-algorithms\\data\\UL47_img_konijntjes_labelled_MN.mat\n",
            "Number of samples so far: 197568\n",
            "c:\\Users\\Ythat\\Desktop\\GazeFixation\\Evaluation-of-eye-movement-event-detection-algorithms\\data\\UL47_img_konijntjes_labelled_RA.mat\n",
            "Number of samples so far: 197568\n",
            "Number of samples at the end: 197568\n"
          ]
        }
      ],
      "source": [
        "# we don't use it here for now\n",
        "def open_list_of_files(files_to_load):\n",
        "  samples = []\n",
        "  labels =[]\n",
        "  for my_file in files_to_load:\n",
        "    print(my_file)\n",
        "    sam,lab = openfile(my_file)\n",
        "    #ssam,slab = make_sequences(sam,lab,50)\n",
        "    print('Number of samples so far:',len(samples))\n",
        "    samples.extend(sam)\n",
        "    labels.extend(lab)\n",
        "  samples = np.array(samples)\n",
        "  labels = np.array(labels)\n",
        "  print('Number of samples at the end:',len(samples))\n",
        "  return samples,labels\n",
        "# files_to_load = ['data/UH33_img_vy_labelled_MN.mat','data/UH47_img_Europe_labelled_RA.mat','data/UH21_img_Rome_labelled_MN.mat']\n",
        "#files_to_load = ['data/TH34_img_Europe_labelled_MN.mat', 'data/UH21_img_Rome_labelled_RA.mat', 'data/UH47_img_Europe_labelled_MN.mat', 'data/UH27_img_vy_labelled_MN.mat']\n",
        "files_to_load = [file for file in DATA_DIR.iterdir()]\n",
        "\n",
        "#s,l = open_list_of_files(files_to_load)\n",
        "x,y=open_list_of_files(files_to_load)\n",
        "#print(x.shape)\n",
        "#print(y.shape)\n",
        "#print(s1.shape)\n",
        "#print(l1.shape)"
      ]
    },
    {
      "cell_type": "code",
      "execution_count": null,
      "metadata": {
        "id": "o2JBSfLD-lmz"
      },
      "outputs": [],
      "source": [
        "#len(y1)"
      ]
    },
    {
      "cell_type": "code",
      "execution_count": null,
      "metadata": {
        "id": "AaQJ6Ekil7jb"
      },
      "outputs": [],
      "source": [
        "#x,y=openfile('data/UH21_img_Rome_labelled_RA.mat')\n",
        "\n",
        "#x,y=openfile('UH21_video_BergoDalbana_labelled_MN.mat')\n",
        "#x,y=openfile('UH29_video_dolphin_fov_labelled_RA.mat')\n",
        "#x,y=openfile('data/UH33_img_vy_labelled_MN.mat')\n",
        "#x,y=openfile('data/UH29_video_dolphin_fov_labelled_RA.mat')"
      ]
    },
    {
      "cell_type": "code",
      "execution_count": 11,
      "metadata": {
        "id": "_aJD0-hkwxnM"
      },
      "outputs": [],
      "source": [
        "import math"
      ]
    },
    {
      "cell_type": "code",
      "execution_count": null,
      "metadata": {
        "colab": {
          "base_uri": "https://localhost:8080/"
        },
        "id": "4AADsOziwt95",
        "outputId": "d88f55f8-b880-414a-9b52-77eb073bda23"
      },
      "outputs": [],
      "source": [
        "! pip install atan2"
      ]
    },
    {
      "cell_type": "code",
      "execution_count": 32,
      "metadata": {
        "id": "ADUJvFzr5PRq"
      },
      "outputs": [],
      "source": [
        "import csv\n",
        "import numpy as np\n",
        "\n",
        "# we assume that the frequency is 500Hz so there is 2ms gap between every two samples\n",
        "\n",
        "def ivt2(data, v_threshold, verbose=0):\n",
        "   Xs = data[:,[0]]\n",
        "   Ys = data[:,[1]]\n",
        "   prior_y = None\n",
        "   prior_x = None\n",
        "\n",
        "   diffX = [] \n",
        "   diffY = []\n",
        "\n",
        "   velocity = []\n",
        "\n",
        "   thresh = []\n",
        "\n",
        "   for x,y in zip(Xs, Ys):\n",
        "      if type(prior_x) == type(None) and type(prior_y) == type(None):\n",
        "         prior_x = x\n",
        "         prior_y = y\n",
        "         continue\n",
        "\n",
        "      dX = x - prior_x\n",
        "      dY = y - prior_y\n",
        "      diffX.append(dX)\n",
        "      diffY.append(dY)\n",
        "\n",
        "      v = np.abs((dX + dY)/2)\n",
        "      velocity.append(v)\n",
        "\n",
        "      if v < v_threshold:\n",
        "         thresh.append(1)\n",
        "      else:\n",
        "         thresh.append(2)\n",
        "\n",
        "      prior_x = x\n",
        "      prior_y = y\n",
        "   return thresh, velocity\n",
        "\n",
        "\n",
        "\n",
        "def ivt(data,v_threshold,verbose=0):\n",
        "  Xs = data[:,[0]]\n",
        "  Ys = data[:,[1]]\n",
        "\n",
        "  diffX = [] #x values difference\n",
        "  diffY = [] #y values difference \n",
        "\n",
        "  for i in range(len(data) - 1):\n",
        "    diffX.append(float(Xs[i+1]) - float(Xs[i]) )\n",
        "    diffY.append(float(Ys[i+1]) - float(Ys[i]) )\n",
        "#   print('FINISHED')\n",
        "  #distance = np.sqrt(np.power(diffX,2) + np.power(diffY,2))\n",
        "  #velocity = np.divide(distance,2) # 2ms gap!\n",
        "  #velocity = np.absolute(velocity)\n",
        "  # Velocity = []\n",
        "  velocity = []\n",
        "  direction=[]\n",
        "  for i in range(len(diffX)):\n",
        "    v = np.abs((diffX[i] + diffY[i])/2)\n",
        "    velocity.append(v)\n",
        "   #  Velocity.append(diffX[i] + diffY[i])\n",
        "   #  #direction.append(atan2(diffX[i], diffY[i]))\n",
        "   #  velocity=np.divide(Velocity, 2)\n",
        "   #  velocity=np.absolute(velocity)\n",
        "#   print('FINISHED V')\n",
        "\n",
        "  global mvmts \n",
        "  mvmts = []  \n",
        "  #store 1 in mvmts[] if velocity is less than threshold else store 2\n",
        "  for v in velocity:\n",
        "    if(v<v_threshold):\n",
        "        mvmts.append(1)\n",
        "    else:\n",
        "        mvmts.append(2)\n",
        "#   print('FINISHED T')\n",
        "\n",
        "\n",
        "  # if verbose==1: ## to show charts\n",
        "  #   print(('minimum_velocity=',min(velocity)))\n",
        "  #   print(('maximum_velocity=',max(velocity)))\n",
        "  #   plt.plot(velocity)\n",
        "  #   plt.xlabel(\"Time [ms]\")\n",
        "  #   plt.ylabel(\"Velocity [px/ms]\")\n",
        "  #   plt.plot([0,len(velocity)],[v_threshold,v_threshold])\n",
        "  #   #plt.plot([number * 10 for number in mvmts])\n",
        "  #   plt.show()\n",
        "  #   plt.ylim(0,5)\n",
        "  #   plt.plot(velocity)\n",
        "  #   #plt.plot([number for number in mvmts])\n",
        "  #   plt.xlabel(\"Time [ms]\")\n",
        "  #   plt.ylabel(\"Velocity [px/ms]\")\n",
        "  #   plt.plot([0,len(velocity)],[v_threshold,v_threshold])\n",
        "  return mvmts,velocity\n"
      ]
    },
    {
      "cell_type": "code",
      "execution_count": 41,
      "metadata": {
        "colab": {
          "base_uri": "https://localhost:8080/",
          "height": 585
        },
        "id": "BtCKUXOWnvj3",
        "outputId": "407e807b-7f49-476f-dc5c-7a9ed252e170"
      },
      "outputs": [
        {
          "name": "stdout",
          "output_type": "stream",
          "text": [
            "FINISHED\n",
            "FINISHED V\n",
            "FINISHED T\n",
            "197568\n",
            "197567\n",
            "197567\n"
          ]
        }
      ],
      "source": [
        "# Visualisation of v_threshold\n",
        "y1=ivt2(x, v_threshold=0.6,verbose=1)\n",
        "y2=ivt(x, v_threshold=0.6,verbose=1)\n",
        "print(len(x))\n",
        "print(len(y1[0]))\n",
        "print(len(y2[0]))"
      ]
    },
    {
      "cell_type": "code",
      "execution_count": null,
      "metadata": {
        "id": "RJW35YQwJNOw"
      },
      "outputs": [],
      "source": [
        "#y1=ivt(x, v_threshold=2)"
      ]
    },
    {
      "cell_type": "code",
      "execution_count": 39,
      "metadata": {
        "colab": {
          "base_uri": "https://localhost:8080/"
        },
        "id": "PTnBACpoKwoV",
        "outputId": "8c2bfe6c-5d04-483d-d7cc-341722ccf4c0"
      },
      "outputs": [
        {
          "name": "stdout",
          "output_type": "stream",
          "text": [
            "(197568, 2) (197567,)\n"
          ]
        }
      ],
      "source": [
        "# x.shape\n",
        "# y.shape\n",
        "# print(x.shape, y.shape)"
      ]
    },
    {
      "cell_type": "code",
      "execution_count": 42,
      "metadata": {
        "id": "91ovcuDsKThh"
      },
      "outputs": [],
      "source": [
        "#y1=(y1[:-1])\n",
        "y_input=(y[:-1])\n",
        "# print(len(y))\n",
        "# print(len(y_input))\n",
        "# y_input = (y[0:])\n"
      ]
    },
    {
      "cell_type": "code",
      "execution_count": 46,
      "metadata": {
        "colab": {
          "base_uri": "https://localhost:8080/"
        },
        "id": "b2znYLzsEANT",
        "outputId": "a33c5da0-3c52-4aac-cef8-dc028dc6932a"
      },
      "outputs": [
        {
          "name": "stdout",
          "output_type": "stream",
          "text": [
            "[0.         0.10526316 0.21052632 0.31578947 0.42105263 0.52631579\n",
            " 0.63157895 0.73684211 0.84210526 0.94736842 1.05263158 1.15789474\n",
            " 1.26315789 1.36842105 1.47368421 1.57894737 1.68421053 1.78947368\n",
            " 1.89473684 2.        ]\n"
          ]
        },
        {
          "name": "stdout",
          "output_type": "stream",
          "text": [
            "197568\n",
            "197567\n",
            "197567\n",
            "197567\n"
          ]
        },
        {
          "name": "stderr",
          "output_type": "stream",
          "text": [
            "c:\\Python38\\lib\\site-packages\\sklearn\\metrics\\_classification.py:1471: UndefinedMetricWarning: Precision and F-score are ill-defined and being set to 0.0 in labels with no predicted samples. Use `zero_division` parameter to control this behavior.\n",
            "  _warn_prf(average, modifier, msg_start, len(result))\n",
            "c:\\Python38\\lib\\site-packages\\sklearn\\metrics\\_classification.py:1471: UndefinedMetricWarning: Precision and F-score are ill-defined and being set to 0.0 in labels with no predicted samples. Use `zero_division` parameter to control this behavior.\n",
            "  _warn_prf(average, modifier, msg_start, len(result))\n",
            "c:\\Python38\\lib\\site-packages\\sklearn\\metrics\\_classification.py:1471: UndefinedMetricWarning: Precision and F-score are ill-defined and being set to 0.0 in labels with no predicted samples. Use `zero_division` parameter to control this behavior.\n",
            "  _warn_prf(average, modifier, msg_start, len(result))\n"
          ]
        },
        {
          "name": "stdout",
          "output_type": "stream",
          "text": [
            "classification_report for threshold 0.0               precision    recall  f1-score   support\n",
            "\n",
            "           1       0.00      0.00      0.00    120318\n",
            "           2       0.07      1.00      0.14     14668\n",
            "           3       0.00      0.00      0.00      8187\n",
            "           4       0.00      0.00      0.00     45708\n",
            "           5       0.00      0.00      0.00      8449\n",
            "           6       0.00      0.00      0.00       237\n",
            "\n",
            "    accuracy                           0.07    197567\n",
            "   macro avg       0.01      0.17      0.02    197567\n",
            "weighted avg       0.01      0.07      0.01    197567\n",
            "\n",
            "Kochen kappa for threshold 0.0 0.0\n"
          ]
        },
        {
          "name": "stderr",
          "output_type": "stream",
          "text": [
            "c:\\Python38\\lib\\site-packages\\sklearn\\metrics\\_classification.py:1471: UndefinedMetricWarning: Precision and F-score are ill-defined and being set to 0.0 in labels with no predicted samples. Use `zero_division` parameter to control this behavior.\n",
            "  _warn_prf(average, modifier, msg_start, len(result))\n",
            "c:\\Python38\\lib\\site-packages\\sklearn\\metrics\\_classification.py:1471: UndefinedMetricWarning: Precision and F-score are ill-defined and being set to 0.0 in labels with no predicted samples. Use `zero_division` parameter to control this behavior.\n",
            "  _warn_prf(average, modifier, msg_start, len(result))\n",
            "c:\\Python38\\lib\\site-packages\\sklearn\\metrics\\_classification.py:1471: UndefinedMetricWarning: Precision and F-score are ill-defined and being set to 0.0 in labels with no predicted samples. Use `zero_division` parameter to control this behavior.\n",
            "  _warn_prf(average, modifier, msg_start, len(result))\n",
            "C:\\Users\\Ythat\\AppData\\Local\\Temp\\ipykernel_17200\\3513212462.py:38: RuntimeWarning: invalid value encountered in longlong_scalars\n",
            "  fixation_precision.append(Tcfp*100/sumfp)\n",
            "C:\\Users\\Ythat\\AppData\\Local\\Temp\\ipykernel_17200\\3513212462.py:41: RuntimeWarning: invalid value encountered in longlong_scalars\n",
            "  multiple_recal_prec=2*((Tcfp*100/sumfp)*(Tc*100/sumf))\n",
            "C:\\Users\\Ythat\\AppData\\Local\\Temp\\ipykernel_17200\\3513212462.py:42: RuntimeWarning: invalid value encountered in longlong_scalars\n",
            "  add_recall_prec=((Tc*100/sumf)+Tcfp*100/sumfp)\n"
          ]
        },
        {
          "name": "stdout",
          "output_type": "stream",
          "text": [
            "              precision    recall  f1-score   support\n",
            "\n",
            "           1       0.00      0.00      0.00    120318\n",
            "           2       0.07      1.00      0.14     14668\n",
            "           3       0.00      0.00      0.00      8187\n",
            "           4       0.00      0.00      0.00     45708\n",
            "           5       0.00      0.00      0.00      8449\n",
            "           6       0.00      0.00      0.00       237\n",
            "\n",
            "    accuracy                           0.07    197567\n",
            "   macro avg       0.01      0.17      0.02    197567\n",
            "weighted avg       0.01      0.07      0.01    197567\n",
            "\n",
            "Fixation recall at threshol 0.0 is 0.0\n",
            "Fixation precission at threshold 0.0 is nan\n",
            "fixation_f1_score for threshold 0.0 is nan\n",
            "Saccade recall at threshol 0.0 is 100.0\n",
            "saccade_precision for threshold 0.0 is 10.866312061991614\n",
            "saccade_f1_score for threshold 0.0 is 19.602549881727185\n",
            "treshold= 0.0\n",
            "197568\n",
            "197567\n",
            "197567\n",
            "197567\n"
          ]
        },
        {
          "name": "stderr",
          "output_type": "stream",
          "text": [
            "c:\\Python38\\lib\\site-packages\\sklearn\\metrics\\_classification.py:1471: UndefinedMetricWarning: Precision and F-score are ill-defined and being set to 0.0 in labels with no predicted samples. Use `zero_division` parameter to control this behavior.\n",
            "  _warn_prf(average, modifier, msg_start, len(result))\n",
            "c:\\Python38\\lib\\site-packages\\sklearn\\metrics\\_classification.py:1471: UndefinedMetricWarning: Precision and F-score are ill-defined and being set to 0.0 in labels with no predicted samples. Use `zero_division` parameter to control this behavior.\n",
            "  _warn_prf(average, modifier, msg_start, len(result))\n",
            "c:\\Python38\\lib\\site-packages\\sklearn\\metrics\\_classification.py:1471: UndefinedMetricWarning: Precision and F-score are ill-defined and being set to 0.0 in labels with no predicted samples. Use `zero_division` parameter to control this behavior.\n",
            "  _warn_prf(average, modifier, msg_start, len(result))\n"
          ]
        },
        {
          "name": "stdout",
          "output_type": "stream",
          "text": [
            "classification_report for threshold 0.10526315789473684               precision    recall  f1-score   support\n",
            "\n",
            "           1       0.64      0.20      0.31    120318\n",
            "           2       0.09      0.98      0.17     14668\n",
            "           3       0.00      0.00      0.00      8187\n",
            "           4       0.00      0.00      0.00     45708\n",
            "           5       0.00      0.00      0.00      8449\n",
            "           6       0.00      0.00      0.00       237\n",
            "\n",
            "    accuracy                           0.20    197567\n",
            "   macro avg       0.12      0.20      0.08    197567\n",
            "weighted avg       0.40      0.20      0.20    197567\n",
            "\n",
            "Kochen kappa for threshold 0.10526315789473684 0.022614644339316037\n"
          ]
        },
        {
          "name": "stderr",
          "output_type": "stream",
          "text": [
            "c:\\Python38\\lib\\site-packages\\sklearn\\metrics\\_classification.py:1471: UndefinedMetricWarning: Precision and F-score are ill-defined and being set to 0.0 in labels with no predicted samples. Use `zero_division` parameter to control this behavior.\n",
            "  _warn_prf(average, modifier, msg_start, len(result))\n",
            "c:\\Python38\\lib\\site-packages\\sklearn\\metrics\\_classification.py:1471: UndefinedMetricWarning: Precision and F-score are ill-defined and being set to 0.0 in labels with no predicted samples. Use `zero_division` parameter to control this behavior.\n",
            "  _warn_prf(average, modifier, msg_start, len(result))\n",
            "c:\\Python38\\lib\\site-packages\\sklearn\\metrics\\_classification.py:1471: UndefinedMetricWarning: Precision and F-score are ill-defined and being set to 0.0 in labels with no predicted samples. Use `zero_division` parameter to control this behavior.\n",
            "  _warn_prf(average, modifier, msg_start, len(result))\n"
          ]
        },
        {
          "name": "stdout",
          "output_type": "stream",
          "text": [
            "              precision    recall  f1-score   support\n",
            "\n",
            "           1       0.64      0.20      0.31    120318\n",
            "           2       0.09      0.98      0.17     14668\n",
            "           3       0.00      0.00      0.00      8187\n",
            "           4       0.00      0.00      0.00     45708\n",
            "           5       0.00      0.00      0.00      8449\n",
            "           6       0.00      0.00      0.00       237\n",
            "\n",
            "    accuracy                           0.20    197567\n",
            "   macro avg       0.12      0.20      0.08    197567\n",
            "weighted avg       0.40      0.20      0.20    197567\n",
            "\n",
            "Fixation recall at threshol 0.10526315789473684 is 20.432520487375122\n",
            "Fixation precission at threshold 0.10526315789473684 is 98.72299413701711\n",
            "fixation_f1_score for threshold 0.10526315789473684 is 33.85759537253822\n",
            "Saccade recall at threshol 0.10526315789473684 is 97.83201527133897\n",
            "saccade_precision for threshold 0.10526315789473684 is 13.0355001635115\n",
            "saccade_f1_score for threshold 0.10526315789473684 is 23.005643196101065\n",
            "treshold= 0.10526315789473684\n",
            "197568\n",
            "197567\n",
            "197567\n",
            "197567\n"
          ]
        },
        {
          "name": "stderr",
          "output_type": "stream",
          "text": [
            "c:\\Python38\\lib\\site-packages\\sklearn\\metrics\\_classification.py:1471: UndefinedMetricWarning: Precision and F-score are ill-defined and being set to 0.0 in labels with no predicted samples. Use `zero_division` parameter to control this behavior.\n",
            "  _warn_prf(average, modifier, msg_start, len(result))\n",
            "c:\\Python38\\lib\\site-packages\\sklearn\\metrics\\_classification.py:1471: UndefinedMetricWarning: Precision and F-score are ill-defined and being set to 0.0 in labels with no predicted samples. Use `zero_division` parameter to control this behavior.\n",
            "  _warn_prf(average, modifier, msg_start, len(result))\n",
            "c:\\Python38\\lib\\site-packages\\sklearn\\metrics\\_classification.py:1471: UndefinedMetricWarning: Precision and F-score are ill-defined and being set to 0.0 in labels with no predicted samples. Use `zero_division` parameter to control this behavior.\n",
            "  _warn_prf(average, modifier, msg_start, len(result))\n"
          ]
        },
        {
          "name": "stdout",
          "output_type": "stream",
          "text": [
            "classification_report for threshold 0.21052631578947367               precision    recall  f1-score   support\n",
            "\n",
            "           1       0.67      0.39      0.49    120318\n",
            "           2       0.11      0.96      0.20     14668\n",
            "           3       0.00      0.00      0.00      8187\n",
            "           4       0.00      0.00      0.00     45708\n",
            "           5       0.00      0.00      0.00      8449\n",
            "           6       0.00      0.00      0.00       237\n",
            "\n",
            "    accuracy                           0.31    197567\n",
            "   macro avg       0.13      0.22      0.12    197567\n",
            "weighted avg       0.42      0.31      0.32    197567\n",
            "\n",
            "Kochen kappa for threshold 0.21052631578947367 0.06065660332084666\n"
          ]
        },
        {
          "name": "stderr",
          "output_type": "stream",
          "text": [
            "c:\\Python38\\lib\\site-packages\\sklearn\\metrics\\_classification.py:1471: UndefinedMetricWarning: Precision and F-score are ill-defined and being set to 0.0 in labels with no predicted samples. Use `zero_division` parameter to control this behavior.\n",
            "  _warn_prf(average, modifier, msg_start, len(result))\n",
            "c:\\Python38\\lib\\site-packages\\sklearn\\metrics\\_classification.py:1471: UndefinedMetricWarning: Precision and F-score are ill-defined and being set to 0.0 in labels with no predicted samples. Use `zero_division` parameter to control this behavior.\n",
            "  _warn_prf(average, modifier, msg_start, len(result))\n",
            "c:\\Python38\\lib\\site-packages\\sklearn\\metrics\\_classification.py:1471: UndefinedMetricWarning: Precision and F-score are ill-defined and being set to 0.0 in labels with no predicted samples. Use `zero_division` parameter to control this behavior.\n",
            "  _warn_prf(average, modifier, msg_start, len(result))\n"
          ]
        },
        {
          "name": "stdout",
          "output_type": "stream",
          "text": [
            "              precision    recall  f1-score   support\n",
            "\n",
            "           1       0.67      0.39      0.49    120318\n",
            "           2       0.11      0.96      0.20     14668\n",
            "           3       0.00      0.00      0.00      8187\n",
            "           4       0.00      0.00      0.00     45708\n",
            "           5       0.00      0.00      0.00      8449\n",
            "           6       0.00      0.00      0.00       237\n",
            "\n",
            "    accuracy                           0.31    197567\n",
            "   macro avg       0.13      0.22      0.12    197567\n",
            "weighted avg       0.42      0.31      0.32    197567\n",
            "\n",
            "Fixation recall at threshol 0.21052631578947367 is 39.18283216143885\n",
            "Fixation precission at threshold 0.21052631578947367 is 98.6627043090639\n",
            "fixation_f1_score for threshold 0.21052631578947367 is 56.09008869667641\n",
            "Saccade recall at threshol 0.21052631578947367 is 95.6435778565585\n",
            "saccade_precision for threshold 0.21052631578947367 is 16.087749274680917\n",
            "saccade_f1_score for threshold 0.21052631578947367 is 27.54267652226836\n",
            "treshold= 0.21052631578947367\n",
            "197568\n",
            "197567\n",
            "197567\n",
            "197567\n"
          ]
        },
        {
          "name": "stderr",
          "output_type": "stream",
          "text": [
            "c:\\Python38\\lib\\site-packages\\sklearn\\metrics\\_classification.py:1471: UndefinedMetricWarning: Precision and F-score are ill-defined and being set to 0.0 in labels with no predicted samples. Use `zero_division` parameter to control this behavior.\n",
            "  _warn_prf(average, modifier, msg_start, len(result))\n",
            "c:\\Python38\\lib\\site-packages\\sklearn\\metrics\\_classification.py:1471: UndefinedMetricWarning: Precision and F-score are ill-defined and being set to 0.0 in labels with no predicted samples. Use `zero_division` parameter to control this behavior.\n",
            "  _warn_prf(average, modifier, msg_start, len(result))\n",
            "c:\\Python38\\lib\\site-packages\\sklearn\\metrics\\_classification.py:1471: UndefinedMetricWarning: Precision and F-score are ill-defined and being set to 0.0 in labels with no predicted samples. Use `zero_division` parameter to control this behavior.\n",
            "  _warn_prf(average, modifier, msg_start, len(result))\n"
          ]
        },
        {
          "name": "stdout",
          "output_type": "stream",
          "text": [
            "classification_report for threshold 0.3157894736842105               precision    recall  f1-score   support\n",
            "\n",
            "           1       0.68      0.55      0.61    120318\n",
            "           2       0.14      0.93      0.24     14668\n",
            "           3       0.00      0.00      0.00      8187\n",
            "           4       0.00      0.00      0.00     45708\n",
            "           5       0.00      0.00      0.00      8449\n",
            "           6       0.00      0.00      0.00       237\n",
            "\n",
            "    accuracy                           0.40    197567\n",
            "   macro avg       0.14      0.25      0.14    197567\n",
            "weighted avg       0.42      0.40      0.39    197567\n",
            "\n",
            "Kochen kappa for threshold 0.3157894736842105 0.09910327818656339\n"
          ]
        },
        {
          "name": "stderr",
          "output_type": "stream",
          "text": [
            "c:\\Python38\\lib\\site-packages\\sklearn\\metrics\\_classification.py:1471: UndefinedMetricWarning: Precision and F-score are ill-defined and being set to 0.0 in labels with no predicted samples. Use `zero_division` parameter to control this behavior.\n",
            "  _warn_prf(average, modifier, msg_start, len(result))\n",
            "c:\\Python38\\lib\\site-packages\\sklearn\\metrics\\_classification.py:1471: UndefinedMetricWarning: Precision and F-score are ill-defined and being set to 0.0 in labels with no predicted samples. Use `zero_division` parameter to control this behavior.\n",
            "  _warn_prf(average, modifier, msg_start, len(result))\n",
            "c:\\Python38\\lib\\site-packages\\sklearn\\metrics\\_classification.py:1471: UndefinedMetricWarning: Precision and F-score are ill-defined and being set to 0.0 in labels with no predicted samples. Use `zero_division` parameter to control this behavior.\n",
            "  _warn_prf(average, modifier, msg_start, len(result))\n"
          ]
        },
        {
          "name": "stdout",
          "output_type": "stream",
          "text": [
            "              precision    recall  f1-score   support\n",
            "\n",
            "           1       0.68      0.55      0.61    120318\n",
            "           2       0.14      0.93      0.24     14668\n",
            "           3       0.00      0.00      0.00      8187\n",
            "           4       0.00      0.00      0.00     45708\n",
            "           5       0.00      0.00      0.00      8449\n",
            "           6       0.00      0.00      0.00       237\n",
            "\n",
            "    accuracy                           0.40    197567\n",
            "   macro avg       0.14      0.25      0.14    197567\n",
            "weighted avg       0.42      0.40      0.39    197567\n",
            "\n",
            "Fixation recall at threshol 0.3157894736842105 is 55.01171894479629\n",
            "Fixation precission at threshold 0.3157894736842105 is 98.5292585259836\n",
            "fixation_f1_score for threshold 0.3157894736842105 is 70.60348275954026\n",
            "Saccade recall at threshol 0.3157894736842105 is 93.26424870466322\n",
            "saccade_precision for threshold 0.3157894736842105 is 20.174313144272883\n",
            "saccade_f1_score for threshold 0.3157894736842105 is 33.17288456175661\n",
            "treshold= 0.3157894736842105\n",
            "197568\n",
            "197567\n",
            "197567\n",
            "197567\n"
          ]
        },
        {
          "name": "stderr",
          "output_type": "stream",
          "text": [
            "c:\\Python38\\lib\\site-packages\\sklearn\\metrics\\_classification.py:1471: UndefinedMetricWarning: Precision and F-score are ill-defined and being set to 0.0 in labels with no predicted samples. Use `zero_division` parameter to control this behavior.\n",
            "  _warn_prf(average, modifier, msg_start, len(result))\n",
            "c:\\Python38\\lib\\site-packages\\sklearn\\metrics\\_classification.py:1471: UndefinedMetricWarning: Precision and F-score are ill-defined and being set to 0.0 in labels with no predicted samples. Use `zero_division` parameter to control this behavior.\n",
            "  _warn_prf(average, modifier, msg_start, len(result))\n",
            "c:\\Python38\\lib\\site-packages\\sklearn\\metrics\\_classification.py:1471: UndefinedMetricWarning: Precision and F-score are ill-defined and being set to 0.0 in labels with no predicted samples. Use `zero_division` parameter to control this behavior.\n",
            "  _warn_prf(average, modifier, msg_start, len(result))\n"
          ]
        },
        {
          "name": "stdout",
          "output_type": "stream",
          "text": [
            "classification_report for threshold 0.42105263157894735               precision    recall  f1-score   support\n",
            "\n",
            "           1       0.68      0.68      0.68    120318\n",
            "           2       0.17      0.91      0.29     14668\n",
            "           3       0.00      0.00      0.00      8187\n",
            "           4       0.00      0.00      0.00     45708\n",
            "           5       0.00      0.00      0.00      8449\n",
            "           6       0.00      0.00      0.00       237\n",
            "\n",
            "    accuracy                           0.48    197567\n",
            "   macro avg       0.14      0.26      0.16    197567\n",
            "weighted avg       0.43      0.48      0.43    197567\n",
            "\n",
            "Kochen kappa for threshold 0.42105263157894735 0.13644626435498886\n"
          ]
        },
        {
          "name": "stderr",
          "output_type": "stream",
          "text": [
            "c:\\Python38\\lib\\site-packages\\sklearn\\metrics\\_classification.py:1471: UndefinedMetricWarning: Precision and F-score are ill-defined and being set to 0.0 in labels with no predicted samples. Use `zero_division` parameter to control this behavior.\n",
            "  _warn_prf(average, modifier, msg_start, len(result))\n",
            "c:\\Python38\\lib\\site-packages\\sklearn\\metrics\\_classification.py:1471: UndefinedMetricWarning: Precision and F-score are ill-defined and being set to 0.0 in labels with no predicted samples. Use `zero_division` parameter to control this behavior.\n",
            "  _warn_prf(average, modifier, msg_start, len(result))\n",
            "c:\\Python38\\lib\\site-packages\\sklearn\\metrics\\_classification.py:1471: UndefinedMetricWarning: Precision and F-score are ill-defined and being set to 0.0 in labels with no predicted samples. Use `zero_division` parameter to control this behavior.\n",
            "  _warn_prf(average, modifier, msg_start, len(result))\n"
          ]
        },
        {
          "name": "stdout",
          "output_type": "stream",
          "text": [
            "              precision    recall  f1-score   support\n",
            "\n",
            "           1       0.68      0.68      0.68    120318\n",
            "           2       0.17      0.91      0.29     14668\n",
            "           3       0.00      0.00      0.00      8187\n",
            "           4       0.00      0.00      0.00     45708\n",
            "           5       0.00      0.00      0.00      8449\n",
            "           6       0.00      0.00      0.00       237\n",
            "\n",
            "    accuracy                           0.48    197567\n",
            "   macro avg       0.14      0.26      0.16    197567\n",
            "weighted avg       0.43      0.48      0.43    197567\n",
            "\n",
            "Fixation recall at threshol 0.42105263157894735 is 67.53935404511378\n",
            "Fixation precission at threshold 0.42105263157894735 is 98.43973349485161\n",
            "fixation_f1_score for threshold 0.42105263157894735 is 80.11317704122878\n",
            "Saccade recall at threshol 0.42105263157894735 is 91.21898009271884\n",
            "saccade_precision for threshold 0.42105263157894735 is 25.516820504996566\n",
            "saccade_f1_score for threshold 0.42105263157894735 is 39.87839771101574\n",
            "treshold= 0.42105263157894735\n",
            "197568\n",
            "197567\n",
            "197567\n",
            "197567\n"
          ]
        },
        {
          "name": "stderr",
          "output_type": "stream",
          "text": [
            "c:\\Python38\\lib\\site-packages\\sklearn\\metrics\\_classification.py:1471: UndefinedMetricWarning: Precision and F-score are ill-defined and being set to 0.0 in labels with no predicted samples. Use `zero_division` parameter to control this behavior.\n",
            "  _warn_prf(average, modifier, msg_start, len(result))\n",
            "c:\\Python38\\lib\\site-packages\\sklearn\\metrics\\_classification.py:1471: UndefinedMetricWarning: Precision and F-score are ill-defined and being set to 0.0 in labels with no predicted samples. Use `zero_division` parameter to control this behavior.\n",
            "  _warn_prf(average, modifier, msg_start, len(result))\n",
            "c:\\Python38\\lib\\site-packages\\sklearn\\metrics\\_classification.py:1471: UndefinedMetricWarning: Precision and F-score are ill-defined and being set to 0.0 in labels with no predicted samples. Use `zero_division` parameter to control this behavior.\n",
            "  _warn_prf(average, modifier, msg_start, len(result))\n"
          ]
        },
        {
          "name": "stdout",
          "output_type": "stream",
          "text": [
            "classification_report for threshold 0.5263157894736842               precision    recall  f1-score   support\n",
            "\n",
            "           1       0.68      0.77      0.72    120318\n",
            "           2       0.21      0.89      0.34     14668\n",
            "           3       0.00      0.00      0.00      8187\n",
            "           4       0.00      0.00      0.00     45708\n",
            "           5       0.00      0.00      0.00      8449\n",
            "           6       0.00      0.00      0.00       237\n",
            "\n",
            "    accuracy                           0.53    197567\n",
            "   macro avg       0.15      0.28      0.18    197567\n",
            "weighted avg       0.43      0.53      0.47    197567\n",
            "\n",
            "Kochen kappa for threshold 0.5263157894736842 0.168633148954761\n"
          ]
        },
        {
          "name": "stderr",
          "output_type": "stream",
          "text": [
            "c:\\Python38\\lib\\site-packages\\sklearn\\metrics\\_classification.py:1471: UndefinedMetricWarning: Precision and F-score are ill-defined and being set to 0.0 in labels with no predicted samples. Use `zero_division` parameter to control this behavior.\n",
            "  _warn_prf(average, modifier, msg_start, len(result))\n",
            "c:\\Python38\\lib\\site-packages\\sklearn\\metrics\\_classification.py:1471: UndefinedMetricWarning: Precision and F-score are ill-defined and being set to 0.0 in labels with no predicted samples. Use `zero_division` parameter to control this behavior.\n",
            "  _warn_prf(average, modifier, msg_start, len(result))\n",
            "c:\\Python38\\lib\\site-packages\\sklearn\\metrics\\_classification.py:1471: UndefinedMetricWarning: Precision and F-score are ill-defined and being set to 0.0 in labels with no predicted samples. Use `zero_division` parameter to control this behavior.\n",
            "  _warn_prf(average, modifier, msg_start, len(result))\n"
          ]
        },
        {
          "name": "stdout",
          "output_type": "stream",
          "text": [
            "              precision    recall  f1-score   support\n",
            "\n",
            "           1       0.68      0.77      0.72    120318\n",
            "           2       0.21      0.89      0.34     14668\n",
            "           3       0.00      0.00      0.00      8187\n",
            "           4       0.00      0.00      0.00     45708\n",
            "           5       0.00      0.00      0.00      8449\n",
            "           6       0.00      0.00      0.00       237\n",
            "\n",
            "    accuracy                           0.53    197567\n",
            "   macro avg       0.15      0.28      0.18    197567\n",
            "weighted avg       0.43      0.53      0.47    197567\n",
            "\n",
            "Fixation recall at threshol 0.5263157894736842 is 76.9884805266045\n",
            "Fixation precission at threshold 0.5263157894736842 is 98.29057108295665\n",
            "fixation_f1_score for threshold 0.5263157894736842 is 86.34507829977629\n",
            "Saccade recall at threshol 0.5263157894736842 is 89.01690755385874\n",
            "saccade_precision for threshold 0.5263157894736842 is 32.046436285097194\n",
            "saccade_f1_score for threshold 0.5263157894736842 is 47.126976106258574\n",
            "treshold= 0.5263157894736842\n",
            "197568\n",
            "197567\n",
            "197567\n",
            "197567\n"
          ]
        },
        {
          "name": "stderr",
          "output_type": "stream",
          "text": [
            "c:\\Python38\\lib\\site-packages\\sklearn\\metrics\\_classification.py:1471: UndefinedMetricWarning: Precision and F-score are ill-defined and being set to 0.0 in labels with no predicted samples. Use `zero_division` parameter to control this behavior.\n",
            "  _warn_prf(average, modifier, msg_start, len(result))\n",
            "c:\\Python38\\lib\\site-packages\\sklearn\\metrics\\_classification.py:1471: UndefinedMetricWarning: Precision and F-score are ill-defined and being set to 0.0 in labels with no predicted samples. Use `zero_division` parameter to control this behavior.\n",
            "  _warn_prf(average, modifier, msg_start, len(result))\n",
            "c:\\Python38\\lib\\site-packages\\sklearn\\metrics\\_classification.py:1471: UndefinedMetricWarning: Precision and F-score are ill-defined and being set to 0.0 in labels with no predicted samples. Use `zero_division` parameter to control this behavior.\n",
            "  _warn_prf(average, modifier, msg_start, len(result))\n"
          ]
        },
        {
          "name": "stdout",
          "output_type": "stream",
          "text": [
            "classification_report for threshold 0.631578947368421               precision    recall  f1-score   support\n",
            "\n",
            "           1       0.68      0.84      0.75    120318\n",
            "           2       0.25      0.87      0.39     14668\n",
            "           3       0.00      0.00      0.00      8187\n",
            "           4       0.00      0.00      0.00     45708\n",
            "           5       0.00      0.00      0.00      8449\n",
            "           6       0.00      0.00      0.00       237\n",
            "\n",
            "    accuracy                           0.58    197567\n",
            "   macro avg       0.16      0.28      0.19    197567\n",
            "weighted avg       0.44      0.58      0.49    197567\n",
            "\n",
            "Kochen kappa for threshold 0.631578947368421 0.19356449631942563\n"
          ]
        },
        {
          "name": "stderr",
          "output_type": "stream",
          "text": [
            "c:\\Python38\\lib\\site-packages\\sklearn\\metrics\\_classification.py:1471: UndefinedMetricWarning: Precision and F-score are ill-defined and being set to 0.0 in labels with no predicted samples. Use `zero_division` parameter to control this behavior.\n",
            "  _warn_prf(average, modifier, msg_start, len(result))\n",
            "c:\\Python38\\lib\\site-packages\\sklearn\\metrics\\_classification.py:1471: UndefinedMetricWarning: Precision and F-score are ill-defined and being set to 0.0 in labels with no predicted samples. Use `zero_division` parameter to control this behavior.\n",
            "  _warn_prf(average, modifier, msg_start, len(result))\n",
            "c:\\Python38\\lib\\site-packages\\sklearn\\metrics\\_classification.py:1471: UndefinedMetricWarning: Precision and F-score are ill-defined and being set to 0.0 in labels with no predicted samples. Use `zero_division` parameter to control this behavior.\n",
            "  _warn_prf(average, modifier, msg_start, len(result))\n"
          ]
        },
        {
          "name": "stdout",
          "output_type": "stream",
          "text": [
            "              precision    recall  f1-score   support\n",
            "\n",
            "           1       0.68      0.84      0.75    120318\n",
            "           2       0.25      0.87      0.39     14668\n",
            "           3       0.00      0.00      0.00      8187\n",
            "           4       0.00      0.00      0.00     45708\n",
            "           5       0.00      0.00      0.00      8449\n",
            "           6       0.00      0.00      0.00       237\n",
            "\n",
            "    accuracy                           0.58    197567\n",
            "   macro avg       0.16      0.28      0.19    197567\n",
            "weighted avg       0.44      0.58      0.49    197567\n",
            "\n",
            "Fixation recall at threshol 0.631578947368421 is 83.85943915291145\n",
            "Fixation precission at threshold 0.631578947368421 is 98.1555343697103\n",
            "fixation_f1_score for threshold 0.631578947368421 is 90.44605399978487\n",
            "Saccade recall at threshol 0.631578947368421 is 87.07390237251158\n",
            "saccade_precision for threshold 0.631578947368421 is 39.67445328031809\n",
            "saccade_f1_score for threshold 0.631578947368421 is 54.51131028595817\n",
            "treshold= 0.631578947368421\n",
            "197568\n",
            "197567\n",
            "197567\n",
            "197567\n"
          ]
        },
        {
          "name": "stderr",
          "output_type": "stream",
          "text": [
            "c:\\Python38\\lib\\site-packages\\sklearn\\metrics\\_classification.py:1471: UndefinedMetricWarning: Precision and F-score are ill-defined and being set to 0.0 in labels with no predicted samples. Use `zero_division` parameter to control this behavior.\n",
            "  _warn_prf(average, modifier, msg_start, len(result))\n",
            "c:\\Python38\\lib\\site-packages\\sklearn\\metrics\\_classification.py:1471: UndefinedMetricWarning: Precision and F-score are ill-defined and being set to 0.0 in labels with no predicted samples. Use `zero_division` parameter to control this behavior.\n",
            "  _warn_prf(average, modifier, msg_start, len(result))\n",
            "c:\\Python38\\lib\\site-packages\\sklearn\\metrics\\_classification.py:1471: UndefinedMetricWarning: Precision and F-score are ill-defined and being set to 0.0 in labels with no predicted samples. Use `zero_division` parameter to control this behavior.\n",
            "  _warn_prf(average, modifier, msg_start, len(result))\n"
          ]
        },
        {
          "name": "stdout",
          "output_type": "stream",
          "text": [
            "classification_report for threshold 0.7368421052631579               precision    recall  f1-score   support\n",
            "\n",
            "           1       0.68      0.89      0.77    120318\n",
            "           2       0.30      0.85      0.45     14668\n",
            "           3       0.00      0.00      0.00      8187\n",
            "           4       0.00      0.00      0.00     45708\n",
            "           5       0.00      0.00      0.00      8449\n",
            "           6       0.00      0.00      0.00       237\n",
            "\n",
            "    accuracy                           0.60    197567\n",
            "   macro avg       0.16      0.29      0.20    197567\n",
            "weighted avg       0.44      0.60      0.50    197567\n",
            "\n",
            "Kochen kappa for threshold 0.7368421052631579 0.21094976412835842\n"
          ]
        },
        {
          "name": "stderr",
          "output_type": "stream",
          "text": [
            "c:\\Python38\\lib\\site-packages\\sklearn\\metrics\\_classification.py:1471: UndefinedMetricWarning: Precision and F-score are ill-defined and being set to 0.0 in labels with no predicted samples. Use `zero_division` parameter to control this behavior.\n",
            "  _warn_prf(average, modifier, msg_start, len(result))\n",
            "c:\\Python38\\lib\\site-packages\\sklearn\\metrics\\_classification.py:1471: UndefinedMetricWarning: Precision and F-score are ill-defined and being set to 0.0 in labels with no predicted samples. Use `zero_division` parameter to control this behavior.\n",
            "  _warn_prf(average, modifier, msg_start, len(result))\n",
            "c:\\Python38\\lib\\site-packages\\sklearn\\metrics\\_classification.py:1471: UndefinedMetricWarning: Precision and F-score are ill-defined and being set to 0.0 in labels with no predicted samples. Use `zero_division` parameter to control this behavior.\n",
            "  _warn_prf(average, modifier, msg_start, len(result))\n"
          ]
        },
        {
          "name": "stdout",
          "output_type": "stream",
          "text": [
            "              precision    recall  f1-score   support\n",
            "\n",
            "           1       0.68      0.89      0.77    120318\n",
            "           2       0.30      0.85      0.45     14668\n",
            "           3       0.00      0.00      0.00      8187\n",
            "           4       0.00      0.00      0.00     45708\n",
            "           5       0.00      0.00      0.00      8449\n",
            "           6       0.00      0.00      0.00       237\n",
            "\n",
            "    accuracy                           0.60    197567\n",
            "   macro avg       0.16      0.29      0.20    197567\n",
            "weighted avg       0.44      0.60      0.50    197567\n",
            "\n",
            "Fixation recall at threshol 0.7368421052631579 is 88.66088199604381\n",
            "Fixation precission at threshold 0.7368421052631579 is 98.01264264319447\n",
            "fixation_f1_score for threshold 0.7368421052631579 is 93.10251531707658\n",
            "Saccade recall at threshol 0.7368421052631579 is 85.2536133078811\n",
            "saccade_precision for threshold 0.7368421052631579 is 47.82392534801897\n",
            "saccade_f1_score for threshold 0.7368421052631579 is 61.2749901999216\n",
            "treshold= 0.7368421052631579\n",
            "197568\n",
            "197567\n",
            "197567\n",
            "197567\n"
          ]
        },
        {
          "name": "stderr",
          "output_type": "stream",
          "text": [
            "c:\\Python38\\lib\\site-packages\\sklearn\\metrics\\_classification.py:1471: UndefinedMetricWarning: Precision and F-score are ill-defined and being set to 0.0 in labels with no predicted samples. Use `zero_division` parameter to control this behavior.\n",
            "  _warn_prf(average, modifier, msg_start, len(result))\n",
            "c:\\Python38\\lib\\site-packages\\sklearn\\metrics\\_classification.py:1471: UndefinedMetricWarning: Precision and F-score are ill-defined and being set to 0.0 in labels with no predicted samples. Use `zero_division` parameter to control this behavior.\n",
            "  _warn_prf(average, modifier, msg_start, len(result))\n",
            "c:\\Python38\\lib\\site-packages\\sklearn\\metrics\\_classification.py:1471: UndefinedMetricWarning: Precision and F-score are ill-defined and being set to 0.0 in labels with no predicted samples. Use `zero_division` parameter to control this behavior.\n",
            "  _warn_prf(average, modifier, msg_start, len(result))\n"
          ]
        },
        {
          "name": "stdout",
          "output_type": "stream",
          "text": [
            "classification_report for threshold 0.8421052631578947               precision    recall  f1-score   support\n",
            "\n",
            "           1       0.68      0.92      0.78    120318\n",
            "           2       0.35      0.83      0.49     14668\n",
            "           3       0.00      0.00      0.00      8187\n",
            "           4       0.00      0.00      0.00     45708\n",
            "           5       0.00      0.00      0.00      8449\n",
            "           6       0.00      0.00      0.00       237\n",
            "\n",
            "    accuracy                           0.62    197567\n",
            "   macro avg       0.17      0.29      0.21    197567\n",
            "weighted avg       0.44      0.62      0.51    197567\n",
            "\n",
            "Kochen kappa for threshold 0.8421052631578947 0.22085916536945893\n"
          ]
        },
        {
          "name": "stderr",
          "output_type": "stream",
          "text": [
            "c:\\Python38\\lib\\site-packages\\sklearn\\metrics\\_classification.py:1471: UndefinedMetricWarning: Precision and F-score are ill-defined and being set to 0.0 in labels with no predicted samples. Use `zero_division` parameter to control this behavior.\n",
            "  _warn_prf(average, modifier, msg_start, len(result))\n",
            "c:\\Python38\\lib\\site-packages\\sklearn\\metrics\\_classification.py:1471: UndefinedMetricWarning: Precision and F-score are ill-defined and being set to 0.0 in labels with no predicted samples. Use `zero_division` parameter to control this behavior.\n",
            "  _warn_prf(average, modifier, msg_start, len(result))\n",
            "c:\\Python38\\lib\\site-packages\\sklearn\\metrics\\_classification.py:1471: UndefinedMetricWarning: Precision and F-score are ill-defined and being set to 0.0 in labels with no predicted samples. Use `zero_division` parameter to control this behavior.\n",
            "  _warn_prf(average, modifier, msg_start, len(result))\n"
          ]
        },
        {
          "name": "stdout",
          "output_type": "stream",
          "text": [
            "              precision    recall  f1-score   support\n",
            "\n",
            "           1       0.68      0.92      0.78    120318\n",
            "           2       0.35      0.83      0.49     14668\n",
            "           3       0.00      0.00      0.00      8187\n",
            "           4       0.00      0.00      0.00     45708\n",
            "           5       0.00      0.00      0.00      8449\n",
            "           6       0.00      0.00      0.00       237\n",
            "\n",
            "    accuracy                           0.62    197567\n",
            "   macro avg       0.17      0.29      0.21    197567\n",
            "weighted avg       0.44      0.62      0.51    197567\n",
            "\n",
            "Fixation recall at threshol 0.8421052631578947 is 91.75767549327615\n",
            "Fixation precission at threshold 0.8421052631578947 is 97.85240728922925\n",
            "fixation_f1_score for threshold 0.8421052631578947 is 94.70708838390337\n",
            "Saccade recall at threshol 0.8421052631578947 is 83.48104717752932\n",
            "saccade_precision for threshold 0.8421052631578947 is 55.25223355292844\n",
            "saccade_f1_score for threshold 0.8421052631578947 is 66.49470540320391\n",
            "treshold= 0.8421052631578947\n",
            "197568\n",
            "197567\n",
            "197567\n",
            "197567\n"
          ]
        },
        {
          "name": "stderr",
          "output_type": "stream",
          "text": [
            "c:\\Python38\\lib\\site-packages\\sklearn\\metrics\\_classification.py:1471: UndefinedMetricWarning: Precision and F-score are ill-defined and being set to 0.0 in labels with no predicted samples. Use `zero_division` parameter to control this behavior.\n",
            "  _warn_prf(average, modifier, msg_start, len(result))\n",
            "c:\\Python38\\lib\\site-packages\\sklearn\\metrics\\_classification.py:1471: UndefinedMetricWarning: Precision and F-score are ill-defined and being set to 0.0 in labels with no predicted samples. Use `zero_division` parameter to control this behavior.\n",
            "  _warn_prf(average, modifier, msg_start, len(result))\n",
            "c:\\Python38\\lib\\site-packages\\sklearn\\metrics\\_classification.py:1471: UndefinedMetricWarning: Precision and F-score are ill-defined and being set to 0.0 in labels with no predicted samples. Use `zero_division` parameter to control this behavior.\n",
            "  _warn_prf(average, modifier, msg_start, len(result))\n"
          ]
        },
        {
          "name": "stdout",
          "output_type": "stream",
          "text": [
            "classification_report for threshold 0.9473684210526315               precision    recall  f1-score   support\n",
            "\n",
            "           1       0.68      0.94      0.79    120318\n",
            "           2       0.39      0.82      0.53     14668\n",
            "           3       0.00      0.00      0.00      8187\n",
            "           4       0.00      0.00      0.00     45708\n",
            "           5       0.00      0.00      0.00      8449\n",
            "           6       0.00      0.00      0.00       237\n",
            "\n",
            "    accuracy                           0.63    197567\n",
            "   macro avg       0.18      0.29      0.22    197567\n",
            "weighted avg       0.44      0.63      0.52    197567\n",
            "\n",
            "Kochen kappa for threshold 0.9473684210526315 0.2262674657536754\n"
          ]
        },
        {
          "name": "stderr",
          "output_type": "stream",
          "text": [
            "c:\\Python38\\lib\\site-packages\\sklearn\\metrics\\_classification.py:1471: UndefinedMetricWarning: Precision and F-score are ill-defined and being set to 0.0 in labels with no predicted samples. Use `zero_division` parameter to control this behavior.\n",
            "  _warn_prf(average, modifier, msg_start, len(result))\n",
            "c:\\Python38\\lib\\site-packages\\sklearn\\metrics\\_classification.py:1471: UndefinedMetricWarning: Precision and F-score are ill-defined and being set to 0.0 in labels with no predicted samples. Use `zero_division` parameter to control this behavior.\n",
            "  _warn_prf(average, modifier, msg_start, len(result))\n",
            "c:\\Python38\\lib\\site-packages\\sklearn\\metrics\\_classification.py:1471: UndefinedMetricWarning: Precision and F-score are ill-defined and being set to 0.0 in labels with no predicted samples. Use `zero_division` parameter to control this behavior.\n",
            "  _warn_prf(average, modifier, msg_start, len(result))\n"
          ]
        },
        {
          "name": "stdout",
          "output_type": "stream",
          "text": [
            "              precision    recall  f1-score   support\n",
            "\n",
            "           1       0.68      0.94      0.79    120318\n",
            "           2       0.39      0.82      0.53     14668\n",
            "           3       0.00      0.00      0.00      8187\n",
            "           4       0.00      0.00      0.00     45708\n",
            "           5       0.00      0.00      0.00      8449\n",
            "           6       0.00      0.00      0.00       237\n",
            "\n",
            "    accuracy                           0.63    197567\n",
            "   macro avg       0.18      0.29      0.22    197567\n",
            "weighted avg       0.44      0.63      0.52    197567\n",
            "\n",
            "Fixation recall at threshol 0.9473684210526315 is 93.93025150019116\n",
            "Fixation precission at threshold 0.9473684210526315 is 97.68018738277773\n",
            "fixation_f1_score for threshold 0.9473684210526315 is 95.76852514861218\n",
            "Saccade recall at threshol 0.9473684210526315 is 81.70166348513771\n",
            "saccade_precision for threshold 0.9473684210526315 is 62.13511691813138\n",
            "saccade_f1_score for threshold 0.9473684210526315 is 70.58754233544397\n",
            "treshold= 0.9473684210526315\n",
            "197568\n",
            "197567\n",
            "197567\n",
            "197567\n"
          ]
        },
        {
          "name": "stderr",
          "output_type": "stream",
          "text": [
            "c:\\Python38\\lib\\site-packages\\sklearn\\metrics\\_classification.py:1471: UndefinedMetricWarning: Precision and F-score are ill-defined and being set to 0.0 in labels with no predicted samples. Use `zero_division` parameter to control this behavior.\n",
            "  _warn_prf(average, modifier, msg_start, len(result))\n",
            "c:\\Python38\\lib\\site-packages\\sklearn\\metrics\\_classification.py:1471: UndefinedMetricWarning: Precision and F-score are ill-defined and being set to 0.0 in labels with no predicted samples. Use `zero_division` parameter to control this behavior.\n",
            "  _warn_prf(average, modifier, msg_start, len(result))\n",
            "c:\\Python38\\lib\\site-packages\\sklearn\\metrics\\_classification.py:1471: UndefinedMetricWarning: Precision and F-score are ill-defined and being set to 0.0 in labels with no predicted samples. Use `zero_division` parameter to control this behavior.\n",
            "  _warn_prf(average, modifier, msg_start, len(result))\n"
          ]
        },
        {
          "name": "stdout",
          "output_type": "stream",
          "text": [
            "classification_report for threshold 1.0526315789473684               precision    recall  f1-score   support\n",
            "\n",
            "           1       0.68      0.95      0.79    120318\n",
            "           2       0.42      0.80      0.55     14668\n",
            "           3       0.00      0.00      0.00      8187\n",
            "           4       0.00      0.00      0.00     45708\n",
            "           5       0.00      0.00      0.00      8449\n",
            "           6       0.00      0.00      0.00       237\n",
            "\n",
            "    accuracy                           0.64    197567\n",
            "   macro avg       0.18      0.29      0.22    197567\n",
            "weighted avg       0.44      0.64      0.52    197567\n",
            "\n",
            "Kochen kappa for threshold 1.0526315789473684 0.22801682715980798\n"
          ]
        },
        {
          "name": "stderr",
          "output_type": "stream",
          "text": [
            "c:\\Python38\\lib\\site-packages\\sklearn\\metrics\\_classification.py:1471: UndefinedMetricWarning: Precision and F-score are ill-defined and being set to 0.0 in labels with no predicted samples. Use `zero_division` parameter to control this behavior.\n",
            "  _warn_prf(average, modifier, msg_start, len(result))\n",
            "c:\\Python38\\lib\\site-packages\\sklearn\\metrics\\_classification.py:1471: UndefinedMetricWarning: Precision and F-score are ill-defined and being set to 0.0 in labels with no predicted samples. Use `zero_division` parameter to control this behavior.\n",
            "  _warn_prf(average, modifier, msg_start, len(result))\n",
            "c:\\Python38\\lib\\site-packages\\sklearn\\metrics\\_classification.py:1471: UndefinedMetricWarning: Precision and F-score are ill-defined and being set to 0.0 in labels with no predicted samples. Use `zero_division` parameter to control this behavior.\n",
            "  _warn_prf(average, modifier, msg_start, len(result))\n"
          ]
        },
        {
          "name": "stdout",
          "output_type": "stream",
          "text": [
            "              precision    recall  f1-score   support\n",
            "\n",
            "           1       0.68      0.95      0.79    120318\n",
            "           2       0.42      0.80      0.55     14668\n",
            "           3       0.00      0.00      0.00      8187\n",
            "           4       0.00      0.00      0.00     45708\n",
            "           5       0.00      0.00      0.00      8449\n",
            "           6       0.00      0.00      0.00       237\n",
            "\n",
            "    accuracy                           0.64    197567\n",
            "   macro avg       0.18      0.29      0.22    197567\n",
            "weighted avg       0.44      0.64      0.52    197567\n",
            "\n",
            "Fixation recall at threshol 1.0526315789473684 is 95.39636629598232\n",
            "Fixation precission at threshold 1.0526315789473684 is 97.50749704790465\n",
            "fixation_f1_score for threshold 1.0526315789473684 is 96.44037961441997\n",
            "Saccade recall at threshol 1.0526315789473684 is 79.99727297518407\n",
            "saccade_precision for threshold 1.0526315789473684 is 67.93261159034331\n",
            "saccade_f1_score for threshold 1.0526315789473684 is 73.47296578065809\n",
            "treshold= 1.0526315789473684\n",
            "197568\n",
            "197567\n",
            "197567\n",
            "197567\n"
          ]
        },
        {
          "name": "stderr",
          "output_type": "stream",
          "text": [
            "c:\\Python38\\lib\\site-packages\\sklearn\\metrics\\_classification.py:1471: UndefinedMetricWarning: Precision and F-score are ill-defined and being set to 0.0 in labels with no predicted samples. Use `zero_division` parameter to control this behavior.\n",
            "  _warn_prf(average, modifier, msg_start, len(result))\n",
            "c:\\Python38\\lib\\site-packages\\sklearn\\metrics\\_classification.py:1471: UndefinedMetricWarning: Precision and F-score are ill-defined and being set to 0.0 in labels with no predicted samples. Use `zero_division` parameter to control this behavior.\n",
            "  _warn_prf(average, modifier, msg_start, len(result))\n",
            "c:\\Python38\\lib\\site-packages\\sklearn\\metrics\\_classification.py:1471: UndefinedMetricWarning: Precision and F-score are ill-defined and being set to 0.0 in labels with no predicted samples. Use `zero_division` parameter to control this behavior.\n",
            "  _warn_prf(average, modifier, msg_start, len(result))\n"
          ]
        },
        {
          "name": "stdout",
          "output_type": "stream",
          "text": [
            "classification_report for threshold 1.1578947368421053               precision    recall  f1-score   support\n",
            "\n",
            "           1       0.67      0.96      0.79    120318\n",
            "           2       0.46      0.78      0.58     14668\n",
            "           3       0.00      0.00      0.00      8187\n",
            "           4       0.00      0.00      0.00     45708\n",
            "           5       0.00      0.00      0.00      8449\n",
            "           6       0.00      0.00      0.00       237\n",
            "\n",
            "    accuracy                           0.65    197567\n",
            "   macro avg       0.19      0.29      0.23    197567\n",
            "weighted avg       0.44      0.65      0.53    197567\n",
            "\n",
            "Kochen kappa for threshold 1.1578947368421053 0.22734164494370102\n"
          ]
        },
        {
          "name": "stderr",
          "output_type": "stream",
          "text": [
            "c:\\Python38\\lib\\site-packages\\sklearn\\metrics\\_classification.py:1471: UndefinedMetricWarning: Precision and F-score are ill-defined and being set to 0.0 in labels with no predicted samples. Use `zero_division` parameter to control this behavior.\n",
            "  _warn_prf(average, modifier, msg_start, len(result))\n",
            "c:\\Python38\\lib\\site-packages\\sklearn\\metrics\\_classification.py:1471: UndefinedMetricWarning: Precision and F-score are ill-defined and being set to 0.0 in labels with no predicted samples. Use `zero_division` parameter to control this behavior.\n",
            "  _warn_prf(average, modifier, msg_start, len(result))\n",
            "c:\\Python38\\lib\\site-packages\\sklearn\\metrics\\_classification.py:1471: UndefinedMetricWarning: Precision and F-score are ill-defined and being set to 0.0 in labels with no predicted samples. Use `zero_division` parameter to control this behavior.\n",
            "  _warn_prf(average, modifier, msg_start, len(result))\n"
          ]
        },
        {
          "name": "stdout",
          "output_type": "stream",
          "text": [
            "              precision    recall  f1-score   support\n",
            "\n",
            "           1       0.67      0.96      0.79    120318\n",
            "           2       0.46      0.78      0.58     14668\n",
            "           3       0.00      0.00      0.00      8187\n",
            "           4       0.00      0.00      0.00     45708\n",
            "           5       0.00      0.00      0.00      8449\n",
            "           6       0.00      0.00      0.00       237\n",
            "\n",
            "    accuracy                           0.65    197567\n",
            "   macro avg       0.19      0.29      0.23    197567\n",
            "weighted avg       0.44      0.65      0.53    197567\n",
            "\n",
            "Fixation recall at threshol 1.1578947368421053 is 96.4560581126681\n",
            "Fixation precission at threshold 1.1578947368421053 is 97.31583581401199\n",
            "fixation_f1_score for threshold 1.1578947368421053 is 96.88403952031322\n",
            "Saccade recall at threshol 1.1578947368421053 is 78.17698391055359\n",
            "saccade_precision for threshold 1.1578947368421053 is 72.89428516941072\n",
            "saccade_f1_score for threshold 1.1578947368421053 is 75.44327116023554\n",
            "treshold= 1.1578947368421053\n",
            "197568\n",
            "197567\n",
            "197567\n",
            "197567\n"
          ]
        },
        {
          "name": "stderr",
          "output_type": "stream",
          "text": [
            "c:\\Python38\\lib\\site-packages\\sklearn\\metrics\\_classification.py:1471: UndefinedMetricWarning: Precision and F-score are ill-defined and being set to 0.0 in labels with no predicted samples. Use `zero_division` parameter to control this behavior.\n",
            "  _warn_prf(average, modifier, msg_start, len(result))\n",
            "c:\\Python38\\lib\\site-packages\\sklearn\\metrics\\_classification.py:1471: UndefinedMetricWarning: Precision and F-score are ill-defined and being set to 0.0 in labels with no predicted samples. Use `zero_division` parameter to control this behavior.\n",
            "  _warn_prf(average, modifier, msg_start, len(result))\n",
            "c:\\Python38\\lib\\site-packages\\sklearn\\metrics\\_classification.py:1471: UndefinedMetricWarning: Precision and F-score are ill-defined and being set to 0.0 in labels with no predicted samples. Use `zero_division` parameter to control this behavior.\n",
            "  _warn_prf(average, modifier, msg_start, len(result))\n"
          ]
        },
        {
          "name": "stdout",
          "output_type": "stream",
          "text": [
            "classification_report for threshold 1.263157894736842               precision    recall  f1-score   support\n",
            "\n",
            "           1       0.67      0.97      0.79    120318\n",
            "           2       0.48      0.76      0.59     14668\n",
            "           3       0.00      0.00      0.00      8187\n",
            "           4       0.00      0.00      0.00     45708\n",
            "           5       0.00      0.00      0.00      8449\n",
            "           6       0.00      0.00      0.00       237\n",
            "\n",
            "    accuracy                           0.65    197567\n",
            "   macro avg       0.19      0.29      0.23    197567\n",
            "weighted avg       0.44      0.65      0.53    197567\n",
            "\n",
            "Kochen kappa for threshold 1.263157894736842 0.22476519036436038\n"
          ]
        },
        {
          "name": "stderr",
          "output_type": "stream",
          "text": [
            "c:\\Python38\\lib\\site-packages\\sklearn\\metrics\\_classification.py:1471: UndefinedMetricWarning: Precision and F-score are ill-defined and being set to 0.0 in labels with no predicted samples. Use `zero_division` parameter to control this behavior.\n",
            "  _warn_prf(average, modifier, msg_start, len(result))\n",
            "c:\\Python38\\lib\\site-packages\\sklearn\\metrics\\_classification.py:1471: UndefinedMetricWarning: Precision and F-score are ill-defined and being set to 0.0 in labels with no predicted samples. Use `zero_division` parameter to control this behavior.\n",
            "  _warn_prf(average, modifier, msg_start, len(result))\n",
            "c:\\Python38\\lib\\site-packages\\sklearn\\metrics\\_classification.py:1471: UndefinedMetricWarning: Precision and F-score are ill-defined and being set to 0.0 in labels with no predicted samples. Use `zero_division` parameter to control this behavior.\n",
            "  _warn_prf(average, modifier, msg_start, len(result))\n"
          ]
        },
        {
          "name": "stdout",
          "output_type": "stream",
          "text": [
            "              precision    recall  f1-score   support\n",
            "\n",
            "           1       0.67      0.97      0.79    120318\n",
            "           2       0.48      0.76      0.59     14668\n",
            "           3       0.00      0.00      0.00      8187\n",
            "           4       0.00      0.00      0.00     45708\n",
            "           5       0.00      0.00      0.00      8449\n",
            "           6       0.00      0.00      0.00       237\n",
            "\n",
            "    accuracy                           0.65    197567\n",
            "   macro avg       0.19      0.29      0.23    197567\n",
            "weighted avg       0.44      0.65      0.53    197567\n",
            "\n",
            "Fixation recall at threshol 1.263157894736842 is 97.13259861367376\n",
            "Fixation precission at threshold 1.263157894736842 is 97.11242033188469\n",
            "fixation_f1_score for threshold 1.263157894736842 is 97.1225084247136\n",
            "Saccade recall at threshol 1.263157894736842 is 76.30897191164439\n",
            "saccade_precision for threshold 1.263157894736842 is 76.43925425117804\n",
            "saccade_f1_score for threshold 1.263157894736842 is 76.37405752106717\n",
            "treshold= 1.263157894736842\n",
            "197568\n",
            "197567\n",
            "197567\n",
            "197567\n"
          ]
        },
        {
          "name": "stderr",
          "output_type": "stream",
          "text": [
            "c:\\Python38\\lib\\site-packages\\sklearn\\metrics\\_classification.py:1471: UndefinedMetricWarning: Precision and F-score are ill-defined and being set to 0.0 in labels with no predicted samples. Use `zero_division` parameter to control this behavior.\n",
            "  _warn_prf(average, modifier, msg_start, len(result))\n",
            "c:\\Python38\\lib\\site-packages\\sklearn\\metrics\\_classification.py:1471: UndefinedMetricWarning: Precision and F-score are ill-defined and being set to 0.0 in labels with no predicted samples. Use `zero_division` parameter to control this behavior.\n",
            "  _warn_prf(average, modifier, msg_start, len(result))\n",
            "c:\\Python38\\lib\\site-packages\\sklearn\\metrics\\_classification.py:1471: UndefinedMetricWarning: Precision and F-score are ill-defined and being set to 0.0 in labels with no predicted samples. Use `zero_division` parameter to control this behavior.\n",
            "  _warn_prf(average, modifier, msg_start, len(result))\n"
          ]
        },
        {
          "name": "stdout",
          "output_type": "stream",
          "text": [
            "classification_report for threshold 1.3684210526315788               precision    recall  f1-score   support\n",
            "\n",
            "           1       0.67      0.98      0.79    120318\n",
            "           2       0.51      0.75      0.60     14668\n",
            "           3       0.00      0.00      0.00      8187\n",
            "           4       0.00      0.00      0.00     45708\n",
            "           5       0.00      0.00      0.00      8449\n",
            "           6       0.00      0.00      0.00       237\n",
            "\n",
            "    accuracy                           0.65    197567\n",
            "   macro avg       0.20      0.29      0.23    197567\n",
            "weighted avg       0.44      0.65      0.53    197567\n",
            "\n",
            "Kochen kappa for threshold 1.3684210526315788 0.22170732144060268\n"
          ]
        },
        {
          "name": "stderr",
          "output_type": "stream",
          "text": [
            "c:\\Python38\\lib\\site-packages\\sklearn\\metrics\\_classification.py:1471: UndefinedMetricWarning: Precision and F-score are ill-defined and being set to 0.0 in labels with no predicted samples. Use `zero_division` parameter to control this behavior.\n",
            "  _warn_prf(average, modifier, msg_start, len(result))\n",
            "c:\\Python38\\lib\\site-packages\\sklearn\\metrics\\_classification.py:1471: UndefinedMetricWarning: Precision and F-score are ill-defined and being set to 0.0 in labels with no predicted samples. Use `zero_division` parameter to control this behavior.\n",
            "  _warn_prf(average, modifier, msg_start, len(result))\n",
            "c:\\Python38\\lib\\site-packages\\sklearn\\metrics\\_classification.py:1471: UndefinedMetricWarning: Precision and F-score are ill-defined and being set to 0.0 in labels with no predicted samples. Use `zero_division` parameter to control this behavior.\n",
            "  _warn_prf(average, modifier, msg_start, len(result))\n"
          ]
        },
        {
          "name": "stdout",
          "output_type": "stream",
          "text": [
            "              precision    recall  f1-score   support\n",
            "\n",
            "           1       0.67      0.98      0.79    120318\n",
            "           2       0.51      0.75      0.60     14668\n",
            "           3       0.00      0.00      0.00      8187\n",
            "           4       0.00      0.00      0.00     45708\n",
            "           5       0.00      0.00      0.00      8449\n",
            "           6       0.00      0.00      0.00       237\n",
            "\n",
            "    accuracy                           0.65    197567\n",
            "   macro avg       0.20      0.29      0.23    197567\n",
            "weighted avg       0.44      0.65      0.53    197567\n",
            "\n",
            "Fixation recall at threshol 1.3684210526315788 is 97.67782044249405\n",
            "Fixation precission at threshold 1.3684210526315788 is 96.91741848229454\n",
            "fixation_f1_score for threshold 1.3684210526315788 is 97.29613378590942\n",
            "Saccade recall at threshol 1.3684210526315788 is 74.51595309517316\n",
            "saccade_precision for threshold 1.3684210526315788 is 79.64150393471292\n",
            "saccade_f1_score for threshold 1.3684210526315788 is 76.9935193012116\n",
            "treshold= 1.3684210526315788\n",
            "197568\n",
            "197567\n",
            "197567\n",
            "197567\n"
          ]
        },
        {
          "name": "stderr",
          "output_type": "stream",
          "text": [
            "c:\\Python38\\lib\\site-packages\\sklearn\\metrics\\_classification.py:1471: UndefinedMetricWarning: Precision and F-score are ill-defined and being set to 0.0 in labels with no predicted samples. Use `zero_division` parameter to control this behavior.\n",
            "  _warn_prf(average, modifier, msg_start, len(result))\n",
            "c:\\Python38\\lib\\site-packages\\sklearn\\metrics\\_classification.py:1471: UndefinedMetricWarning: Precision and F-score are ill-defined and being set to 0.0 in labels with no predicted samples. Use `zero_division` parameter to control this behavior.\n",
            "  _warn_prf(average, modifier, msg_start, len(result))\n",
            "c:\\Python38\\lib\\site-packages\\sklearn\\metrics\\_classification.py:1471: UndefinedMetricWarning: Precision and F-score are ill-defined and being set to 0.0 in labels with no predicted samples. Use `zero_division` parameter to control this behavior.\n",
            "  _warn_prf(average, modifier, msg_start, len(result))\n"
          ]
        },
        {
          "name": "stdout",
          "output_type": "stream",
          "text": [
            "classification_report for threshold 1.4736842105263157               precision    recall  f1-score   support\n",
            "\n",
            "           1       0.67      0.98      0.79    120318\n",
            "           2       0.52      0.73      0.61     14668\n",
            "           3       0.00      0.00      0.00      8187\n",
            "           4       0.00      0.00      0.00     45708\n",
            "           5       0.00      0.00      0.00      8449\n",
            "           6       0.00      0.00      0.00       237\n",
            "\n",
            "    accuracy                           0.65    197567\n",
            "   macro avg       0.20      0.29      0.23    197567\n",
            "weighted avg       0.44      0.65      0.53    197567\n",
            "\n",
            "Kochen kappa for threshold 1.4736842105263157 0.21846028162513076\n"
          ]
        },
        {
          "name": "stderr",
          "output_type": "stream",
          "text": [
            "c:\\Python38\\lib\\site-packages\\sklearn\\metrics\\_classification.py:1471: UndefinedMetricWarning: Precision and F-score are ill-defined and being set to 0.0 in labels with no predicted samples. Use `zero_division` parameter to control this behavior.\n",
            "  _warn_prf(average, modifier, msg_start, len(result))\n",
            "c:\\Python38\\lib\\site-packages\\sklearn\\metrics\\_classification.py:1471: UndefinedMetricWarning: Precision and F-score are ill-defined and being set to 0.0 in labels with no predicted samples. Use `zero_division` parameter to control this behavior.\n",
            "  _warn_prf(average, modifier, msg_start, len(result))\n",
            "c:\\Python38\\lib\\site-packages\\sklearn\\metrics\\_classification.py:1471: UndefinedMetricWarning: Precision and F-score are ill-defined and being set to 0.0 in labels with no predicted samples. Use `zero_division` parameter to control this behavior.\n",
            "  _warn_prf(average, modifier, msg_start, len(result))\n"
          ]
        },
        {
          "name": "stdout",
          "output_type": "stream",
          "text": [
            "              precision    recall  f1-score   support\n",
            "\n",
            "           1       0.67      0.98      0.79    120318\n",
            "           2       0.52      0.73      0.61     14668\n",
            "           3       0.00      0.00      0.00      8187\n",
            "           4       0.00      0.00      0.00     45708\n",
            "           5       0.00      0.00      0.00      8449\n",
            "           6       0.00      0.00      0.00       237\n",
            "\n",
            "    accuracy                           0.65    197567\n",
            "   macro avg       0.20      0.29      0.23    197567\n",
            "weighted avg       0.44      0.65      0.53    197567\n",
            "\n",
            "Fixation recall at threshol 1.4736842105263157 is 98.0368689639123\n",
            "Fixation precission at threshold 1.4736842105263157 is 96.75106834977895\n",
            "fixation_f1_score for threshold 1.4736842105263157 is 97.38972485396413\n",
            "Saccade recall at threshol 1.4736842105263157 is 72.99563676029452\n",
            "saccade_precision for threshold 1.4736842105263157 is 81.92669676333308\n",
            "saccade_f1_score for threshold 1.4736842105263157 is 77.20373508310199\n",
            "treshold= 1.4736842105263157\n",
            "197568\n",
            "197567\n",
            "197567\n",
            "197567\n"
          ]
        },
        {
          "name": "stderr",
          "output_type": "stream",
          "text": [
            "c:\\Python38\\lib\\site-packages\\sklearn\\metrics\\_classification.py:1471: UndefinedMetricWarning: Precision and F-score are ill-defined and being set to 0.0 in labels with no predicted samples. Use `zero_division` parameter to control this behavior.\n",
            "  _warn_prf(average, modifier, msg_start, len(result))\n",
            "c:\\Python38\\lib\\site-packages\\sklearn\\metrics\\_classification.py:1471: UndefinedMetricWarning: Precision and F-score are ill-defined and being set to 0.0 in labels with no predicted samples. Use `zero_division` parameter to control this behavior.\n",
            "  _warn_prf(average, modifier, msg_start, len(result))\n",
            "c:\\Python38\\lib\\site-packages\\sklearn\\metrics\\_classification.py:1471: UndefinedMetricWarning: Precision and F-score are ill-defined and being set to 0.0 in labels with no predicted samples. Use `zero_division` parameter to control this behavior.\n",
            "  _warn_prf(average, modifier, msg_start, len(result))\n"
          ]
        },
        {
          "name": "stdout",
          "output_type": "stream",
          "text": [
            "classification_report for threshold 1.5789473684210527               precision    recall  f1-score   support\n",
            "\n",
            "           1       0.66      0.98      0.79    120318\n",
            "           2       0.54      0.71      0.62     14668\n",
            "           3       0.00      0.00      0.00      8187\n",
            "           4       0.00      0.00      0.00     45708\n",
            "           5       0.00      0.00      0.00      8449\n",
            "           6       0.00      0.00      0.00       237\n",
            "\n",
            "    accuracy                           0.65    197567\n",
            "   macro avg       0.20      0.28      0.23    197567\n",
            "weighted avg       0.44      0.65      0.53    197567\n",
            "\n",
            "Kochen kappa for threshold 1.5789473684210527 0.2142873624608843\n"
          ]
        },
        {
          "name": "stderr",
          "output_type": "stream",
          "text": [
            "c:\\Python38\\lib\\site-packages\\sklearn\\metrics\\_classification.py:1471: UndefinedMetricWarning: Precision and F-score are ill-defined and being set to 0.0 in labels with no predicted samples. Use `zero_division` parameter to control this behavior.\n",
            "  _warn_prf(average, modifier, msg_start, len(result))\n",
            "c:\\Python38\\lib\\site-packages\\sklearn\\metrics\\_classification.py:1471: UndefinedMetricWarning: Precision and F-score are ill-defined and being set to 0.0 in labels with no predicted samples. Use `zero_division` parameter to control this behavior.\n",
            "  _warn_prf(average, modifier, msg_start, len(result))\n",
            "c:\\Python38\\lib\\site-packages\\sklearn\\metrics\\_classification.py:1471: UndefinedMetricWarning: Precision and F-score are ill-defined and being set to 0.0 in labels with no predicted samples. Use `zero_division` parameter to control this behavior.\n",
            "  _warn_prf(average, modifier, msg_start, len(result))\n"
          ]
        },
        {
          "name": "stdout",
          "output_type": "stream",
          "text": [
            "              precision    recall  f1-score   support\n",
            "\n",
            "           1       0.66      0.98      0.79    120318\n",
            "           2       0.54      0.71      0.62     14668\n",
            "           3       0.00      0.00      0.00      8187\n",
            "           4       0.00      0.00      0.00     45708\n",
            "           5       0.00      0.00      0.00      8449\n",
            "           6       0.00      0.00      0.00       237\n",
            "\n",
            "    accuracy                           0.65    197567\n",
            "   macro avg       0.20      0.28      0.23    197567\n",
            "weighted avg       0.44      0.65      0.53    197567\n",
            "\n",
            "Fixation recall at threshol 1.5789473684210527 is 98.33358267258431\n",
            "Fixation precission at threshold 1.5789473684210527 is 96.5583938627275\n",
            "fixation_f1_score for threshold 1.5789473684210527 is 97.43790354460403\n",
            "Saccade recall at threshol 1.5789473684210527 is 71.250340878102\n",
            "saccade_precision for threshold 1.5789473684210527 is 83.9033397559409\n",
            "saccade_f1_score for threshold 1.5789473684210527 is 77.06090547116945\n",
            "treshold= 1.5789473684210527\n",
            "197568\n",
            "197567\n",
            "197567\n",
            "197567\n"
          ]
        },
        {
          "name": "stderr",
          "output_type": "stream",
          "text": [
            "c:\\Python38\\lib\\site-packages\\sklearn\\metrics\\_classification.py:1471: UndefinedMetricWarning: Precision and F-score are ill-defined and being set to 0.0 in labels with no predicted samples. Use `zero_division` parameter to control this behavior.\n",
            "  _warn_prf(average, modifier, msg_start, len(result))\n",
            "c:\\Python38\\lib\\site-packages\\sklearn\\metrics\\_classification.py:1471: UndefinedMetricWarning: Precision and F-score are ill-defined and being set to 0.0 in labels with no predicted samples. Use `zero_division` parameter to control this behavior.\n",
            "  _warn_prf(average, modifier, msg_start, len(result))\n",
            "c:\\Python38\\lib\\site-packages\\sklearn\\metrics\\_classification.py:1471: UndefinedMetricWarning: Precision and F-score are ill-defined and being set to 0.0 in labels with no predicted samples. Use `zero_division` parameter to control this behavior.\n",
            "  _warn_prf(average, modifier, msg_start, len(result))\n"
          ]
        },
        {
          "name": "stdout",
          "output_type": "stream",
          "text": [
            "classification_report for threshold 1.6842105263157894               precision    recall  f1-score   support\n",
            "\n",
            "           1       0.66      0.99      0.79    120318\n",
            "           2       0.55      0.70      0.62     14668\n",
            "           3       0.00      0.00      0.00      8187\n",
            "           4       0.00      0.00      0.00     45708\n",
            "           5       0.00      0.00      0.00      8449\n",
            "           6       0.00      0.00      0.00       237\n",
            "\n",
            "    accuracy                           0.65    197567\n",
            "   macro avg       0.20      0.28      0.23    197567\n",
            "weighted avg       0.44      0.65      0.53    197567\n",
            "\n",
            "Kochen kappa for threshold 1.6842105263157894 0.21056233515816591\n"
          ]
        },
        {
          "name": "stderr",
          "output_type": "stream",
          "text": [
            "c:\\Python38\\lib\\site-packages\\sklearn\\metrics\\_classification.py:1471: UndefinedMetricWarning: Precision and F-score are ill-defined and being set to 0.0 in labels with no predicted samples. Use `zero_division` parameter to control this behavior.\n",
            "  _warn_prf(average, modifier, msg_start, len(result))\n",
            "c:\\Python38\\lib\\site-packages\\sklearn\\metrics\\_classification.py:1471: UndefinedMetricWarning: Precision and F-score are ill-defined and being set to 0.0 in labels with no predicted samples. Use `zero_division` parameter to control this behavior.\n",
            "  _warn_prf(average, modifier, msg_start, len(result))\n",
            "c:\\Python38\\lib\\site-packages\\sklearn\\metrics\\_classification.py:1471: UndefinedMetricWarning: Precision and F-score are ill-defined and being set to 0.0 in labels with no predicted samples. Use `zero_division` parameter to control this behavior.\n",
            "  _warn_prf(average, modifier, msg_start, len(result))\n"
          ]
        },
        {
          "name": "stdout",
          "output_type": "stream",
          "text": [
            "              precision    recall  f1-score   support\n",
            "\n",
            "           1       0.66      0.99      0.79    120318\n",
            "           2       0.55      0.70      0.62     14668\n",
            "           3       0.00      0.00      0.00      8187\n",
            "           4       0.00      0.00      0.00     45708\n",
            "           5       0.00      0.00      0.00      8449\n",
            "           6       0.00      0.00      0.00       237\n",
            "\n",
            "    accuracy                           0.65    197567\n",
            "   macro avg       0.20      0.28      0.23    197567\n",
            "weighted avg       0.44      0.65      0.53    197567\n",
            "\n",
            "Fixation recall at threshol 1.6842105263157894 is 98.51809371831314\n",
            "Fixation precission at threshold 1.6842105263157894 is 96.39734883910056\n",
            "fixation_f1_score for threshold 1.6842105263157894 is 97.44618407369194\n",
            "Saccade recall at threshol 1.6842105263157894 is 69.79820016362149\n",
            "saccade_precision for threshold 1.6842105263157894 is 85.16762332584644\n",
            "saccade_f1_score for threshold 1.6842105263157894 is 76.720746374911\n",
            "treshold= 1.6842105263157894\n",
            "197568\n",
            "197567\n",
            "197567\n",
            "197567\n"
          ]
        },
        {
          "name": "stderr",
          "output_type": "stream",
          "text": [
            "c:\\Python38\\lib\\site-packages\\sklearn\\metrics\\_classification.py:1471: UndefinedMetricWarning: Precision and F-score are ill-defined and being set to 0.0 in labels with no predicted samples. Use `zero_division` parameter to control this behavior.\n",
            "  _warn_prf(average, modifier, msg_start, len(result))\n",
            "c:\\Python38\\lib\\site-packages\\sklearn\\metrics\\_classification.py:1471: UndefinedMetricWarning: Precision and F-score are ill-defined and being set to 0.0 in labels with no predicted samples. Use `zero_division` parameter to control this behavior.\n",
            "  _warn_prf(average, modifier, msg_start, len(result))\n",
            "c:\\Python38\\lib\\site-packages\\sklearn\\metrics\\_classification.py:1471: UndefinedMetricWarning: Precision and F-score are ill-defined and being set to 0.0 in labels with no predicted samples. Use `zero_division` parameter to control this behavior.\n",
            "  _warn_prf(average, modifier, msg_start, len(result))\n"
          ]
        },
        {
          "name": "stdout",
          "output_type": "stream",
          "text": [
            "classification_report for threshold 1.789473684210526               precision    recall  f1-score   support\n",
            "\n",
            "           1       0.66      0.99      0.79    120318\n",
            "           2       0.57      0.68      0.62     14668\n",
            "           3       0.00      0.00      0.00      8187\n",
            "           4       0.00      0.00      0.00     45708\n",
            "           5       0.00      0.00      0.00      8449\n",
            "           6       0.00      0.00      0.00       237\n",
            "\n",
            "    accuracy                           0.65    197567\n",
            "   macro avg       0.20      0.28      0.23    197567\n",
            "weighted avg       0.44      0.65      0.53    197567\n",
            "\n",
            "Kochen kappa for threshold 1.789473684210526 0.2063451975772479\n"
          ]
        },
        {
          "name": "stderr",
          "output_type": "stream",
          "text": [
            "c:\\Python38\\lib\\site-packages\\sklearn\\metrics\\_classification.py:1471: UndefinedMetricWarning: Precision and F-score are ill-defined and being set to 0.0 in labels with no predicted samples. Use `zero_division` parameter to control this behavior.\n",
            "  _warn_prf(average, modifier, msg_start, len(result))\n",
            "c:\\Python38\\lib\\site-packages\\sklearn\\metrics\\_classification.py:1471: UndefinedMetricWarning: Precision and F-score are ill-defined and being set to 0.0 in labels with no predicted samples. Use `zero_division` parameter to control this behavior.\n",
            "  _warn_prf(average, modifier, msg_start, len(result))\n",
            "c:\\Python38\\lib\\site-packages\\sklearn\\metrics\\_classification.py:1471: UndefinedMetricWarning: Precision and F-score are ill-defined and being set to 0.0 in labels with no predicted samples. Use `zero_division` parameter to control this behavior.\n",
            "  _warn_prf(average, modifier, msg_start, len(result))\n"
          ]
        },
        {
          "name": "stdout",
          "output_type": "stream",
          "text": [
            "              precision    recall  f1-score   support\n",
            "\n",
            "           1       0.66      0.99      0.79    120318\n",
            "           2       0.57      0.68      0.62     14668\n",
            "           3       0.00      0.00      0.00      8187\n",
            "           4       0.00      0.00      0.00     45708\n",
            "           5       0.00      0.00      0.00      8449\n",
            "           6       0.00      0.00      0.00       237\n",
            "\n",
            "    accuracy                           0.65    197567\n",
            "   macro avg       0.20      0.28      0.23    197567\n",
            "weighted avg       0.44      0.65      0.53    197567\n",
            "\n",
            "Fixation recall at threshol 1.789473684210526 is 98.66935953057731\n",
            "Fixation precission at threshold 1.789473684210526 is 96.22997860060956\n",
            "fixation_f1_score for threshold 1.789473684210526 is 97.43440328947908\n",
            "Saccade recall at threshol 1.789473684210526 is 68.29151895282247\n",
            "saccade_precision for threshold 1.789473684210526 is 86.21965914959546\n",
            "saccade_f1_score for threshold 1.789473684210526 is 76.21547591874\n",
            "treshold= 1.789473684210526\n",
            "197568\n",
            "197567\n",
            "197567\n",
            "197567\n"
          ]
        },
        {
          "name": "stderr",
          "output_type": "stream",
          "text": [
            "c:\\Python38\\lib\\site-packages\\sklearn\\metrics\\_classification.py:1471: UndefinedMetricWarning: Precision and F-score are ill-defined and being set to 0.0 in labels with no predicted samples. Use `zero_division` parameter to control this behavior.\n",
            "  _warn_prf(average, modifier, msg_start, len(result))\n",
            "c:\\Python38\\lib\\site-packages\\sklearn\\metrics\\_classification.py:1471: UndefinedMetricWarning: Precision and F-score are ill-defined and being set to 0.0 in labels with no predicted samples. Use `zero_division` parameter to control this behavior.\n",
            "  _warn_prf(average, modifier, msg_start, len(result))\n",
            "c:\\Python38\\lib\\site-packages\\sklearn\\metrics\\_classification.py:1471: UndefinedMetricWarning: Precision and F-score are ill-defined and being set to 0.0 in labels with no predicted samples. Use `zero_division` parameter to control this behavior.\n",
            "  _warn_prf(average, modifier, msg_start, len(result))\n"
          ]
        },
        {
          "name": "stdout",
          "output_type": "stream",
          "text": [
            "classification_report for threshold 1.894736842105263               precision    recall  f1-score   support\n",
            "\n",
            "           1       0.66      0.99      0.79    120318\n",
            "           2       0.57      0.67      0.62     14668\n",
            "           3       0.00      0.00      0.00      8187\n",
            "           4       0.00      0.00      0.00     45708\n",
            "           5       0.00      0.00      0.00      8449\n",
            "           6       0.00      0.00      0.00       237\n",
            "\n",
            "    accuracy                           0.65    197567\n",
            "   macro avg       0.21      0.28      0.23    197567\n",
            "weighted avg       0.44      0.65      0.53    197567\n",
            "\n",
            "Kochen kappa for threshold 1.894736842105263 0.20238146061673634\n"
          ]
        },
        {
          "name": "stderr",
          "output_type": "stream",
          "text": [
            "c:\\Python38\\lib\\site-packages\\sklearn\\metrics\\_classification.py:1471: UndefinedMetricWarning: Precision and F-score are ill-defined and being set to 0.0 in labels with no predicted samples. Use `zero_division` parameter to control this behavior.\n",
            "  _warn_prf(average, modifier, msg_start, len(result))\n",
            "c:\\Python38\\lib\\site-packages\\sklearn\\metrics\\_classification.py:1471: UndefinedMetricWarning: Precision and F-score are ill-defined and being set to 0.0 in labels with no predicted samples. Use `zero_division` parameter to control this behavior.\n",
            "  _warn_prf(average, modifier, msg_start, len(result))\n",
            "c:\\Python38\\lib\\site-packages\\sklearn\\metrics\\_classification.py:1471: UndefinedMetricWarning: Precision and F-score are ill-defined and being set to 0.0 in labels with no predicted samples. Use `zero_division` parameter to control this behavior.\n",
            "  _warn_prf(average, modifier, msg_start, len(result))\n"
          ]
        },
        {
          "name": "stdout",
          "output_type": "stream",
          "text": [
            "              precision    recall  f1-score   support\n",
            "\n",
            "           1       0.66      0.99      0.79    120318\n",
            "           2       0.57      0.67      0.62     14668\n",
            "           3       0.00      0.00      0.00      8187\n",
            "           4       0.00      0.00      0.00     45708\n",
            "           5       0.00      0.00      0.00      8449\n",
            "           6       0.00      0.00      0.00       237\n",
            "\n",
            "    accuracy                           0.65    197567\n",
            "   macro avg       0.21      0.28      0.23    197567\n",
            "weighted avg       0.44      0.65      0.53    197567\n",
            "\n",
            "Fixation recall at threshol 1.894736842105263 is 98.75662826842202\n",
            "Fixation precission at threshold 1.894736842105263 is 96.08377471394493\n",
            "fixation_f1_score for threshold 1.894736842105263 is 97.40186816294579\n",
            "Saccade recall at threshol 1.894736842105263 is 66.98254704117808\n",
            "saccade_precision for threshold 1.894736842105263 is 86.7856196449077\n",
            "saccade_f1_score for threshold 1.894736842105263 is 75.60891146254184\n",
            "treshold= 1.894736842105263\n",
            "197568\n",
            "197567\n",
            "197567\n",
            "197567\n"
          ]
        },
        {
          "name": "stderr",
          "output_type": "stream",
          "text": [
            "c:\\Python38\\lib\\site-packages\\sklearn\\metrics\\_classification.py:1471: UndefinedMetricWarning: Precision and F-score are ill-defined and being set to 0.0 in labels with no predicted samples. Use `zero_division` parameter to control this behavior.\n",
            "  _warn_prf(average, modifier, msg_start, len(result))\n",
            "c:\\Python38\\lib\\site-packages\\sklearn\\metrics\\_classification.py:1471: UndefinedMetricWarning: Precision and F-score are ill-defined and being set to 0.0 in labels with no predicted samples. Use `zero_division` parameter to control this behavior.\n",
            "  _warn_prf(average, modifier, msg_start, len(result))\n",
            "c:\\Python38\\lib\\site-packages\\sklearn\\metrics\\_classification.py:1471: UndefinedMetricWarning: Precision and F-score are ill-defined and being set to 0.0 in labels with no predicted samples. Use `zero_division` parameter to control this behavior.\n",
            "  _warn_prf(average, modifier, msg_start, len(result))\n"
          ]
        },
        {
          "name": "stdout",
          "output_type": "stream",
          "text": [
            "classification_report for threshold 2.0               precision    recall  f1-score   support\n",
            "\n",
            "           1       0.66      0.99      0.79    120318\n",
            "           2       0.58      0.66      0.62     14668\n",
            "           3       0.00      0.00      0.00      8187\n",
            "           4       0.00      0.00      0.00     45708\n",
            "           5       0.00      0.00      0.00      8449\n",
            "           6       0.00      0.00      0.00       237\n",
            "\n",
            "    accuracy                           0.65    197567\n",
            "   macro avg       0.21      0.27      0.23    197567\n",
            "weighted avg       0.44      0.65      0.53    197567\n",
            "\n",
            "Kochen kappa for threshold 2.0 0.19877963652157615\n"
          ]
        },
        {
          "name": "stderr",
          "output_type": "stream",
          "text": [
            "c:\\Python38\\lib\\site-packages\\sklearn\\metrics\\_classification.py:1471: UndefinedMetricWarning: Precision and F-score are ill-defined and being set to 0.0 in labels with no predicted samples. Use `zero_division` parameter to control this behavior.\n",
            "  _warn_prf(average, modifier, msg_start, len(result))\n",
            "c:\\Python38\\lib\\site-packages\\sklearn\\metrics\\_classification.py:1471: UndefinedMetricWarning: Precision and F-score are ill-defined and being set to 0.0 in labels with no predicted samples. Use `zero_division` parameter to control this behavior.\n",
            "  _warn_prf(average, modifier, msg_start, len(result))\n"
          ]
        },
        {
          "name": "stdout",
          "output_type": "stream",
          "text": [
            "              precision    recall  f1-score   support\n",
            "\n",
            "           1       0.66      0.99      0.79    120318\n",
            "           2       0.58      0.66      0.62     14668\n",
            "           3       0.00      0.00      0.00      8187\n",
            "           4       0.00      0.00      0.00     45708\n",
            "           5       0.00      0.00      0.00      8449\n",
            "           6       0.00      0.00      0.00       237\n",
            "\n",
            "    accuracy                           0.65    197567\n",
            "   macro avg       0.21      0.27      0.23    197567\n",
            "weighted avg       0.44      0.65      0.53    197567\n",
            "\n",
            "Fixation recall at threshol 2.0 is 98.84389700626673\n",
            "Fixation precission at threshold 2.0 is 95.9444632686319\n",
            "fixation_f1_score for threshold 2.0 is 97.3726010349119\n",
            "Saccade recall at threshol 2.0 is 65.7281156258522\n",
            "saccade_precision for threshold 2.0 is 87.3912255257433\n",
            "saccade_f1_score for threshold 2.0 is 75.0272373540856\n",
            "treshold= 2.0\n"
          ]
        },
        {
          "name": "stderr",
          "output_type": "stream",
          "text": [
            "c:\\Python38\\lib\\site-packages\\sklearn\\metrics\\_classification.py:1471: UndefinedMetricWarning: Precision and F-score are ill-defined and being set to 0.0 in labels with no predicted samples. Use `zero_division` parameter to control this behavior.\n",
            "  _warn_prf(average, modifier, msg_start, len(result))\n"
          ]
        }
      ],
      "source": [
        "# thresholds=[x/10 for x in range(0,20)]\n",
        "thresholds = np.linspace(0, 2, 20)\n",
        "print(thresholds)\n",
        "\n",
        "from sklearn.metrics import classification_report,accuracy_score, confusion_matrix, precision_score, cohen_kappa_score, recall_score\n",
        "fixation_recall=[]\n",
        "fixation_precision=[]\n",
        "fixation_f1_score=[]\n",
        "saccade_recall=[]\n",
        "saccade_precision=[]\n",
        "saccade_f1_score=[]\n",
        "cohen_kappa=[]\n",
        "\n",
        "\n",
        "for t in thresholds:\n",
        "  y1=ivt2(x, v_threshold=t)[0]\n",
        "  y_pred=np.array(y1)\n",
        "  # pprint(y_pred)\n",
        "  #print(len(y_real))\n",
        "  print(len(x))\n",
        "  print(len(y1))\n",
        "  print(len(y_pred))\n",
        "  print(len(y_input))\n",
        "  cm=confusion_matrix(y_input, y_pred)\n",
        "  #print(cm)\n",
        "  print('classification_report for threshold', t, classification_report(y_input, y_pred))\n",
        "  print('Kochen kappa for threshold', t, cohen_kappa_score(y_input, y_pred))\n",
        "  print(classification_report(y_input,y_pred))\n",
        "  #print(classification_report(y,y_pred['f1-score']))\n",
        "  #Fixation accuracy calculation\n",
        "  sumf=cm[0][0]+cm[0][1]\n",
        "  Tc=cm[0][0]\n",
        "  fixation_recall.append(Tc*100/sumf)\n",
        "  print('Fixation recall at threshol',t, 'is', fixation_recall[-1])\n",
        "  #fixation precision \n",
        "  sumfp=cm[0][0]+cm[1][0]\n",
        "  Tcfp=cm[0][0]\n",
        "  fixation_precision.append(Tcfp*100/sumfp)\n",
        "  print('Fixation precission at threshold', t, 'is', fixation_precision[-1])\n",
        "  #fixation f1_score\n",
        "  multiple_recal_prec=2*((Tcfp*100/sumfp)*(Tc*100/sumf))\n",
        "  add_recall_prec=((Tc*100/sumf)+Tcfp*100/sumfp)\n",
        "  result_f1_score=multiple_recal_prec/add_recall_prec\n",
        "  fixation_f1_score.append(result_f1_score)\n",
        "  print('fixation_f1_score for threshold', t, 'is', fixation_f1_score[-1])\n",
        "  #Saccade accuracy calculation\n",
        "  sums=cm[1][0]+cm[1][1]\n",
        "  Tcs=cm[1][1]\n",
        "  saccade_recall.append(Tcs*100/sums)\n",
        "  print('Saccade recall at threshol',t, 'is', saccade_recall[-1])\n",
        "  #Saccade precison\n",
        "  sum_saccP=cm[0][1]+cm[1][1]\n",
        "  Tc_saccP=cm[1][1]\n",
        "  saccade_precision.append(Tc_saccP*100/sum_saccP)\n",
        "  print('saccade_precision for threshold', t, 'is', saccade_precision[-1])\n",
        "  #saccade f1_score\n",
        "  multiply=2*((Tc_saccP*100/sum_saccP)*(Tcs*100/sums))\n",
        "  addition=(Tcs*100/sums)+(Tc_saccP*100/sum_saccP)\n",
        "  saccade_f1_score.append(multiply/addition)\n",
        "  print('saccade_f1_score for threshold', t, 'is', saccade_f1_score[-1])\n",
        "  print('treshold=', t)\n",
        "  \n",
        "  "
      ]
    },
    {
      "cell_type": "code",
      "execution_count": 47,
      "metadata": {
        "colab": {
          "base_uri": "https://localhost:8080/",
          "height": 296
        },
        "id": "Sc2jpwd4FwBC",
        "outputId": "5cd260a6-61b2-4dc7-8630-88a497f1f498"
      },
      "outputs": [
        {
          "data": {
            "image/png": "[encoded data removed]",
            "text/plain": [
              "<Figure size 640x480 with 1 Axes>"
            ]
          },
          "metadata": {},
          "output_type": "display_data"
        }
      ],
      "source": [
        "plt.plot(thresholds, fixation_recall, label=\"Fixation Recall\")\n",
        "plt.plot(thresholds, fixation_precision, label=\"Fixation_Precision\")\n",
        "plt.plot(thresholds, fixation_f1_score, label=\"Fixation_f1_score\")\n",
        "plt.plot(thresholds, saccade_recall, label=\"Saccade Recall\")\n",
        "plt.plot(thresholds, saccade_precision, label=\"Saccade_precision\")\n",
        "plt.plot(thresholds, saccade_f1_score, label=\"Saccade_f1_score\")\n",
        "\n",
        "\n",
        "\n",
        "#plt.plot(thresholds, accuracy, label=\"Acuracy\")\n",
        "plt.xlabel(\"V_threshold [px/ms]\")\n",
        "plt.ylabel(\"Accuracy [%]\")\n",
        "plt.title(\"Velocity threshold vs Accuracy\")\n",
        "plt.legend()\n",
        "plt.show()"
      ]
    },
    {
      "cell_type": "code",
      "execution_count": 45,
      "metadata": {
        "colab": {
          "base_uri": "https://localhost:8080/"
        },
        "id": "6macgDgpFNcB",
        "outputId": "43d2b06b-fcdc-4393-b902-6fbae0e557dd"
      },
      "outputs": [
        {
          "name": "stdout",
          "output_type": "stream",
          "text": [
            "Fixation recla= [0.0, 85.68543360095747, 97.51408766768064, 98.84389700626673]\n",
            "saccade acuracy= [100.0, 86.41259885464957, 75.11589855467685, 65.7281156258522]\n"
          ]
        }
      ],
      "source": [
        "print('Fixation recla=', fixation_recall)\n",
        "print('saccade acuracy=', saccade_recall)"
      ]
    }
  ],
  "metadata": {
    "colab": {
      "collapsed_sections": [],
      "include_colab_link": true,
      "provenance": []
    },
    "kernelspec": {
      "display_name": "Python 3",
      "name": "python3"
    },
    "language_info": {
      "codemirror_mode": {
        "name": "ipython",
        "version": 3
      },
      "file_extension": ".py",
      "mimetype": "text/x-python",
      "name": "python",
      "nbconvert_exporter": "python",
      "pygments_lexer": "ipython3",
      "version": "3.8.3"
    }
  },
  "nbformat": 4,
  "nbformat_minor": 0
}
